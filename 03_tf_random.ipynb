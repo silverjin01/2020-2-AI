{
  "nbformat": 4,
  "nbformat_minor": 0,
  "metadata": {
    "colab": {
      "name": "03-tf-random.ipynb",
      "provenance": [],
      "collapsed_sections": [],
      "authorship_tag": "ABX9TyPchHGJVNFTKHV2n88I/nUm",
      "include_colab_link": true
    },
    "kernelspec": {
      "name": "python3",
      "display_name": "Python 3"
    }
  },
  "cells": [
    {
      "cell_type": "markdown",
      "metadata": {
        "id": "view-in-github",
        "colab_type": "text"
      },
      "source": [
        "<a href=\"https://colab.research.google.com/github/silverjin01/2020-2-AI/blob/master/03_tf_random.ipynb\" target=\"_parent\"><img src=\"https://colab.research.google.com/assets/colab-badge.svg\" alt=\"Open In Colab\"/></a>"
      ]
    },
    {
      "cell_type": "code",
      "metadata": {
        "id": "NIQzaOrtyghl",
        "outputId": "0aa594ef-959a-49d6-bb40-acf9d33d3776",
        "colab": {
          "base_uri": "https://localhost:8080/",
          "height": 35
        }
      },
      "source": [
        "import tensorflow as tf\n",
        "tf.__version__"
      ],
      "execution_count": null,
      "outputs": [
        {
          "output_type": "execute_result",
          "data": {
            "application/vnd.google.colaboratory.intrinsic+json": {
              "type": "string"
            },
            "text/plain": [
              "'2.3.0'"
            ]
          },
          "metadata": {
            "tags": []
          },
          "execution_count": 1
        }
      ]
    },
    {
      "cell_type": "markdown",
      "metadata": {
        "id": "ADEpR_4KzIu5"
      },
      "source": [
        "텐서플로 난수 (균등분포 난수)"
      ]
    },
    {
      "cell_type": "code",
      "metadata": {
        "id": "8vMrSnzKzFGW",
        "outputId": "b01fec21-c58b-44fd-8ef9-0df63139c3be",
        "colab": {
          "base_uri": "https://localhost:8080/",
          "height": 35
        }
      },
      "source": [
        "# 3.7 랜덤한 수 얻기(균일 분포)\n",
        "rand = tf.random.uniform([1], 0, 1) #배열,[시작,끝] #0에서1사이의 실수를 \n",
        "print(rand)"
      ],
      "execution_count": null,
      "outputs": [
        {
          "output_type": "stream",
          "text": [
            "tf.Tensor([0.5933784], shape=(1,), dtype=float32)\n"
          ],
          "name": "stdout"
        }
      ]
    },
    {
      "cell_type": "code",
      "metadata": {
        "id": "1qE23MzPzTvl",
        "outputId": "1e7ccd6e-d01d-42bd-a3fd-18f219756b40",
        "colab": {
          "base_uri": "https://localhost:8080/",
          "height": 125
        }
      },
      "source": [
        "rand = tf.random.uniform([5,4],0,1) #5행4열을 생성, 0에서 1사이의 실수를\n",
        "print(rand)"
      ],
      "execution_count": null,
      "outputs": [
        {
          "output_type": "stream",
          "text": [
            "tf.Tensor(\n",
            "[[0.86178315 0.296111   0.7689301  0.14969838]\n",
            " [0.55928445 0.68580747 0.77388155 0.9082104 ]\n",
            " [0.7356405  0.13306844 0.85394514 0.02765465]\n",
            " [0.42933404 0.43010366 0.7019938  0.73654103]\n",
            " [0.79644465 0.9190787  0.16360712 0.5329275 ]], shape=(5, 4), dtype=float32)\n"
          ],
          "name": "stdout"
        }
      ]
    },
    {
      "cell_type": "code",
      "metadata": {
        "id": "goWyt-bHz2PZ",
        "outputId": "71069aa9-bba5-4f05-81fe-1c4b5be95275",
        "colab": {
          "base_uri": "https://localhost:8080/",
          "height": 71
        }
      },
      "source": [
        "rand = tf.random.uniform([1000],0,10) #1000개의 백터\n",
        "print(rand[:10]) #슬라이싱(0:10)"
      ],
      "execution_count": null,
      "outputs": [
        {
          "output_type": "stream",
          "text": [
            "tf.Tensor(\n",
            "[8.583109   0.20792603 3.3027875  6.6802654  5.7863674  8.923992\n",
            " 5.517032   7.5616264  4.2056475  8.27958   ], shape=(10,), dtype=float32)\n"
          ],
          "name": "stdout"
        }
      ]
    },
    {
      "cell_type": "code",
      "metadata": {
        "id": "c_5qtE7R0C7R",
        "outputId": "8347330e-c0a3-4c06-d2c2-194c22e17b54",
        "colab": {
          "base_uri": "https://localhost:8080/",
          "height": 373
        }
      },
      "source": [
        "import matplotlib.pyplot as plt\n",
        "rand = tf.random.uniform([10000],0,50)\n",
        "plt.hist(rand, bins=10) #히스토그램(막대그래프)를 그리는 게 hist || bins는 막대의 수(10개의 막대의 수를 만듦)"
      ],
      "execution_count": null,
      "outputs": [
        {
          "output_type": "execute_result",
          "data": {
            "text/plain": [
              "(array([1079., 1006.,  975.,  969., 1019.,  992., 1015., 1019.,  963.,\n",
              "         963.]),\n",
              " array([3.0100346e-03, 5.0022221e+00, 1.0001433e+01, 1.5000646e+01,\n",
              "        1.9999857e+01, 2.4999069e+01, 2.9998281e+01, 3.4997494e+01,\n",
              "        3.9996704e+01, 4.4995918e+01, 4.9995129e+01], dtype=float32),\n",
              " <a list of 10 Patch objects>)"
            ]
          },
          "metadata": {
            "tags": []
          },
          "execution_count": 9
        },
        {
          "output_type": "display_data",
          "data": {
            "image/png": "[encoded data removed]",
            "text/plain": [
              "<Figure size 432x288 with 1 Axes>"
            ]
          },
          "metadata": {
            "tags": [],
            "needs_background": "light"
          }
        }
      ]
    },
    {
      "cell_type": "code",
      "metadata": {
        "id": "5FAWzxxr1B4d",
        "outputId": "6f157d13-3112-485a-e96b-40f427e11374",
        "colab": {
          "base_uri": "https://localhost:8080/",
          "height": 35
        }
      },
      "source": [
        "#3.9 랜덤한 수 여러 개 얻기(정규 분포)\n",
        "rand = tf.random.normal([4],0,1) #normal(크기, 평균, 표준편차)\n",
        "print(rand)"
      ],
      "execution_count": null,
      "outputs": [
        {
          "output_type": "stream",
          "text": [
            "tf.Tensor([ 0.9861277   1.1617554  -0.62887126  0.55571705], shape=(4,), dtype=float32)\n"
          ],
          "name": "stdout"
        }
      ]
    },
    {
      "cell_type": "code",
      "metadata": {
        "id": "YNqEP1PI1tnw",
        "outputId": "5c9a723e-ad4d-4b4d-80cb-ee1868ecf9dd",
        "colab": {
          "base_uri": "https://localhost:8080/",
          "height": 71
        }
      },
      "source": [
        "#3.9 랜덤한 수 여러 개 얻기(정규 분포)\n",
        "rand = tf.random.normal([2, 4], 0, 2)\n",
        "print(rand)"
      ],
      "execution_count": null,
      "outputs": [
        {
          "output_type": "stream",
          "text": [
            "tf.Tensor(\n",
            "[[-0.9171859  -1.3559588  -0.49767673 -1.5897931 ]\n",
            " [-3.4704714  -0.88288236  4.3576045  -0.88904846]], shape=(2, 4), dtype=float32)\n"
          ],
          "name": "stdout"
        }
      ]
    },
    {
      "cell_type": "code",
      "metadata": {
        "id": "JnCwV-ak18O1",
        "outputId": "a42a661b-3fac-4f51-86e3-fa9ba3fb8214",
        "colab": {
          "base_uri": "https://localhost:8080/",
          "height": 967
        }
      },
      "source": [
        "import matplotlib.pyplot as plt\n",
        "rand = tf.random.normal([100000],0,1)\n",
        "plt.hist(rand, bins=100)"
      ],
      "execution_count": null,
      "outputs": [
        {
          "output_type": "execute_result",
          "data": {
            "text/plain": [
              "(array([5.000e+00, 1.000e+00, 3.000e+00, 0.000e+00, 5.000e+00, 7.000e+00,\n",
              "        6.000e+00, 4.000e+00, 5.000e+00, 1.900e+01, 1.300e+01, 1.700e+01,\n",
              "        3.500e+01, 3.800e+01, 4.800e+01, 8.100e+01, 9.900e+01, 1.000e+02,\n",
              "        1.310e+02, 1.640e+02, 2.120e+02, 2.600e+02, 3.310e+02, 3.780e+02,\n",
              "        4.800e+02, 5.010e+02, 6.180e+02, 7.150e+02, 8.490e+02, 9.800e+02,\n",
              "        1.119e+03, 1.245e+03, 1.537e+03, 1.682e+03, 1.837e+03, 1.986e+03,\n",
              "        2.156e+03, 2.349e+03, 2.470e+03, 2.726e+03, 2.774e+03, 2.958e+03,\n",
              "        3.123e+03, 3.228e+03, 3.387e+03, 3.424e+03, 3.390e+03, 3.494e+03,\n",
              "        3.496e+03, 3.455e+03, 3.387e+03, 3.396e+03, 3.169e+03, 3.028e+03,\n",
              "        2.831e+03, 2.835e+03, 2.698e+03, 2.462e+03, 2.265e+03, 2.040e+03,\n",
              "        1.863e+03, 1.622e+03, 1.542e+03, 1.281e+03, 1.170e+03, 1.021e+03,\n",
              "        8.640e+02, 8.170e+02, 6.700e+02, 5.280e+02, 4.890e+02, 3.960e+02,\n",
              "        3.540e+02, 2.670e+02, 2.320e+02, 1.840e+02, 1.410e+02, 1.080e+02,\n",
              "        9.900e+01, 6.400e+01, 6.100e+01, 4.600e+01, 3.300e+01, 2.400e+01,\n",
              "        1.800e+01, 1.600e+01, 8.000e+00, 7.000e+00, 6.000e+00, 3.000e+00,\n",
              "        7.000e+00, 1.000e+00, 2.000e+00, 0.000e+00, 1.000e+00, 1.000e+00,\n",
              "        1.000e+00, 0.000e+00, 0.000e+00, 1.000e+00]),\n",
              " array([-4.147501  , -4.0604    , -3.9732993 , -3.8861983 , -3.7990975 ,\n",
              "        -3.7119966 , -3.6248956 , -3.5377948 , -3.4506938 , -3.3635929 ,\n",
              "        -3.276492  , -3.1893911 , -3.1022904 , -3.0151894 , -2.9280884 ,\n",
              "        -2.8409877 , -2.7538867 , -2.6667857 , -2.579685  , -2.492584  ,\n",
              "        -2.4054832 , -2.3183823 , -2.2312813 , -2.1441805 , -2.0570796 ,\n",
              "        -1.9699787 , -1.8828778 , -1.795777  , -1.708676  , -1.6215751 ,\n",
              "        -1.5344743 , -1.4473734 , -1.3602724 , -1.2731715 , -1.1860707 ,\n",
              "        -1.0989698 , -1.0118688 , -0.924768  , -0.8376671 , -0.7505662 ,\n",
              "        -0.6634653 , -0.5763644 , -0.48926353, -0.40216264, -0.31506175,\n",
              "        -0.22796085, -0.14085996, -0.05375906,  0.03334183,  0.12044272,\n",
              "         0.20754361,  0.2946445 ,  0.3817454 ,  0.4688463 ,  0.5559472 ,\n",
              "         0.64304805,  0.730149  ,  0.81724983,  0.90435076,  0.9914516 ,\n",
              "         1.0785525 ,  1.1656535 ,  1.2527543 ,  1.3398552 ,  1.426956  ,\n",
              "         1.514057  ,  1.6011579 ,  1.6882588 ,  1.7753596 ,  1.8624606 ,\n",
              "         1.9495615 ,  2.0366623 ,  2.1237633 ,  2.210864  ,  2.297965  ,\n",
              "         2.385066  ,  2.4721668 ,  2.5592678 ,  2.6463685 ,  2.7334695 ,\n",
              "         2.8205705 ,  2.9076712 ,  2.9947722 ,  3.081873  ,  3.168974  ,\n",
              "         3.256075  ,  3.3431756 ,  3.4302766 ,  3.5173776 ,  3.6044784 ,\n",
              "         3.6915793 ,  3.77868   ,  3.865781  ,  3.952882  ,  4.039983  ,\n",
              "         4.127084  ,  4.2141848 ,  4.3012857 ,  4.3883862 ,  4.475487  ,\n",
              "         4.562588  ], dtype=float32),\n",
              " <a list of 100 Patch objects>)"
            ]
          },
          "metadata": {
            "tags": []
          },
          "execution_count": 17
        },
        {
          "output_type": "display_data",
          "data": {
            "image/png": "[encoded data removed]",
            "text/plain": [
              "<Figure size 432x288 with 1 Axes>"
            ]
          },
          "metadata": {
            "tags": [],
            "needs_background": "light"
          }
        }
      ]
    },
    {
      "cell_type": "code",
      "metadata": {
        "id": "oKt_32FB2O2b",
        "outputId": "fbf5b75e-a014-43ab-a881-143ce0ae6598",
        "colab": {
          "base_uri": "https://localhost:8080/",
          "height": 607
        }
      },
      "source": [
        "#균등분포와 정규분포의 비교\n",
        "import matplotlib.pyplot as plt\n",
        "rand1 = tf.random.normal([10000],0,1)\n",
        "rand2 = tf.random.uniform([15000],0,1)\n",
        "plt.hist(rand1, bins=100)\n",
        "plt.hist(rand2, bins=50)"
      ],
      "execution_count": null,
      "outputs": [
        {
          "output_type": "execute_result",
          "data": {
            "text/plain": [
              "(array([315., 316., 321., 288., 287., 300., 294., 300., 312., 306., 288.,\n",
              "        284., 307., 302., 331., 286., 300., 313., 319., 287., 285., 310.,\n",
              "        277., 319., 301., 323., 293., 304., 281., 298., 306., 302., 288.,\n",
              "        295., 283., 299., 275., 309., 270., 327., 318., 295., 313., 287.,\n",
              "        306., 304., 279., 289., 294., 314.]),\n",
              " array([7.74860382e-06, 2.00075172e-02, 4.00072858e-02, 6.00070544e-02,\n",
              "        8.00068229e-02, 1.00006595e-01, 1.20006360e-01, 1.40006125e-01,\n",
              "        1.60005897e-01, 1.80005670e-01, 2.00005442e-01, 2.20005199e-01,\n",
              "        2.40004972e-01, 2.60004729e-01, 2.80004501e-01, 3.00004274e-01,\n",
              "        3.20004046e-01, 3.40003818e-01, 3.60003591e-01, 3.80003363e-01,\n",
              "        4.00003135e-01, 4.20002878e-01, 4.40002650e-01, 4.60002422e-01,\n",
              "        4.80002195e-01, 5.00001967e-01, 5.20001709e-01, 5.40001512e-01,\n",
              "        5.60001254e-01, 5.80001056e-01, 6.00000799e-01, 6.20000601e-01,\n",
              "        6.40000343e-01, 6.60000145e-01, 6.79999888e-01, 6.99999630e-01,\n",
              "        7.19999433e-01, 7.39999175e-01, 7.59998977e-01, 7.79998720e-01,\n",
              "        7.99998522e-01, 8.19998264e-01, 8.39998007e-01, 8.59997809e-01,\n",
              "        8.79997551e-01, 8.99997354e-01, 9.19997096e-01, 9.39996898e-01,\n",
              "        9.59996641e-01, 9.79996443e-01, 9.99996185e-01], dtype=float32),\n",
              " <a list of 50 Patch objects>)"
            ]
          },
          "metadata": {
            "tags": []
          },
          "execution_count": 21
        },
        {
          "output_type": "display_data",
          "data": {
            "image/png": "[encoded data removed]",
            "text/plain": [
              "<Figure size 432x288 with 1 Axes>"
            ]
          },
          "metadata": {
            "tags": [],
            "needs_background": "light"
          }
        }
      ]
    },
    {
      "cell_type": "code",
      "metadata": {
        "id": "SPk7nmeb23c5",
        "outputId": "7e7871b2-9f19-4851-f8af-b4bc8b58efc2",
        "colab": {
          "base_uri": "https://localhost:8080/",
          "height": 1000
        }
      },
      "source": [
        "import matplotlib.pyplot as plt\n",
        "rand1 = tf.random.normal([1000],0,1)\n",
        "rand2 = tf.random.normal([2000],0,1)\n",
        "\n",
        "plt.rcParams[\"figure.figsize\"]=(12,6)\n",
        "fig, axes = plt.subplots(1,2,sharex=True, sharey=True)\n",
        "axes[0].hist(rand1, bins=100)\n",
        "axes[1].hist(rand2, bins=100)"
      ],
      "execution_count": null,
      "outputs": [
        {
          "output_type": "execute_result",
          "data": {
            "text/plain": [
              "(array([ 1.,  0.,  0.,  1.,  3.,  0.,  2.,  1.,  1.,  1.,  2.,  2.,  2.,\n",
              "         4.,  4.,  2.,  5.,  9.,  9.,  7.,  4.,  7.,  6., 13., 11., 21.,\n",
              "        12., 15., 23., 20., 27., 29., 32., 35., 35., 30., 37., 38., 41.,\n",
              "        45., 49., 44., 53., 48., 47., 41., 46., 50., 38., 54., 57., 42.,\n",
              "        49., 54., 47., 55., 46., 45., 53., 41., 45., 37., 44., 31., 41.,\n",
              "        29., 24., 28., 22., 17., 14., 15., 16., 17., 25., 15.,  8.,  8.,\n",
              "        12.,  7.,  7.,  8.,  4.,  8.,  5.,  0.,  3.,  4.,  0.,  1.,  1.,\n",
              "         3.,  0.,  1.,  2.,  0.,  0.,  0.,  0.,  2.]),\n",
              " array([-3.2637300e+00, -3.1984673e+00, -3.1332042e+00, -3.0679414e+00,\n",
              "        -3.0026784e+00, -2.9374156e+00, -2.8721526e+00, -2.8068898e+00,\n",
              "        -2.7416267e+00, -2.6763639e+00, -2.6111009e+00, -2.5458381e+00,\n",
              "        -2.4805751e+00, -2.4153123e+00, -2.3500495e+00, -2.2847865e+00,\n",
              "        -2.2195237e+00, -2.1542606e+00, -2.0889978e+00, -2.0237348e+00,\n",
              "        -1.9584720e+00, -1.8932091e+00, -1.8279462e+00, -1.7626833e+00,\n",
              "        -1.6974204e+00, -1.6321574e+00, -1.5668945e+00, -1.5016316e+00,\n",
              "        -1.4363687e+00, -1.3711058e+00, -1.3058429e+00, -1.2405800e+00,\n",
              "        -1.1753172e+00, -1.1100543e+00, -1.0447913e+00, -9.7952843e-01,\n",
              "        -9.1426551e-01, -8.4900260e-01, -7.8373969e-01, -7.1847677e-01,\n",
              "        -6.5321386e-01, -5.8795100e-01, -5.2268809e-01, -4.5742518e-01,\n",
              "        -3.9216226e-01, -3.2689935e-01, -2.6163647e-01, -1.9637355e-01,\n",
              "        -1.3111065e-01, -6.5847747e-02, -5.8484077e-04,  6.4678065e-02,\n",
              "         1.2994097e-01,  1.9520387e-01,  2.6046678e-01,  3.2572967e-01,\n",
              "         3.9099258e-01,  4.5625550e-01,  5.2151841e-01,  5.8678132e-01,\n",
              "         6.5204418e-01,  7.1730709e-01,  7.8257000e-01,  8.4783292e-01,\n",
              "         9.1309583e-01,  9.7835875e-01,  1.0436217e+00,  1.1088846e+00,\n",
              "         1.1741475e+00,  1.2394103e+00,  1.3046732e+00,  1.3699361e+00,\n",
              "         1.4351990e+00,  1.5004619e+00,  1.5657248e+00,  1.6309878e+00,\n",
              "         1.6962507e+00,  1.7615136e+00,  1.8267765e+00,  1.8920394e+00,\n",
              "         1.9573023e+00,  2.0225651e+00,  2.0878282e+00,  2.1530910e+00,\n",
              "         2.2183540e+00,  2.2836168e+00,  2.3488798e+00,  2.4141426e+00,\n",
              "         2.4794054e+00,  2.5446684e+00,  2.6099312e+00,  2.6751943e+00,\n",
              "         2.7404571e+00,  2.8057201e+00,  2.8709829e+00,  2.9362459e+00,\n",
              "         3.0015087e+00,  3.0667717e+00,  3.1320345e+00,  3.1972976e+00,\n",
              "         3.2625604e+00], dtype=float32),\n",
              " <a list of 100 Patch objects>)"
            ]
          },
          "metadata": {
            "tags": []
          },
          "execution_count": 22
        },
        {
          "output_type": "display_data",
          "data": {
            "image/png": "[encoded data removed]",
            "text/plain": [
              "<Figure size 864x432 with 2 Axes>"
            ]
          },
          "metadata": {
            "tags": [],
            "needs_background": "light"
          }
        }
      ]
    },
    {
      "cell_type": "code",
      "metadata": {
        "id": "CvXkFood34cE",
        "outputId": "85d4fc3e-a7d4-4f03-8241-84e04849027f",
        "colab": {
          "base_uri": "https://localhost:8080/",
          "height": 53
        }
      },
      "source": [
        "import numpy as np\n",
        "a = np.arange(10)\n",
        "print(a)\n",
        "tf.random.shuffle(a)"
      ],
      "execution_count": null,
      "outputs": [
        {
          "output_type": "stream",
          "text": [
            "[0 1 2 3 4 5 6 7 8 9]\n"
          ],
          "name": "stdout"
        },
        {
          "output_type": "execute_result",
          "data": {
            "text/plain": [
              "<tf.Tensor: shape=(10,), dtype=int64, numpy=array([8, 2, 1, 0, 7, 3, 9, 6, 5, 4])>"
            ]
          },
          "metadata": {
            "tags": []
          },
          "execution_count": 23
        }
      ]
    },
    {
      "cell_type": "code",
      "metadata": {
        "id": "F-POadTP4Z1c",
        "outputId": "4943caaf-8db2-4f2f-ffb8-49083edc25aa",
        "colab": {
          "base_uri": "https://localhost:8080/",
          "height": 89
        }
      },
      "source": [
        "import numpy as np\n",
        "a = np.arange(20).reshape(4, 5)\n",
        "a"
      ],
      "execution_count": null,
      "outputs": [
        {
          "output_type": "execute_result",
          "data": {
            "text/plain": [
              "array([[ 0,  1,  2,  3,  4],\n",
              "       [ 5,  6,  7,  8,  9],\n",
              "       [10, 11, 12, 13, 14],\n",
              "       [15, 16, 17, 18, 19]])"
            ]
          },
          "metadata": {
            "tags": []
          },
          "execution_count": 24
        }
      ]
    },
    {
      "cell_type": "code",
      "metadata": {
        "id": "ZIprhNDD4ggF",
        "outputId": "87c0c52c-5292-4da2-e83e-cd2bbc72b107",
        "colab": {
          "base_uri": "https://localhost:8080/",
          "height": 107
        }
      },
      "source": [
        "tf.random.shuffle(a) #섞는 거"
      ],
      "execution_count": null,
      "outputs": [
        {
          "output_type": "execute_result",
          "data": {
            "text/plain": [
              "<tf.Tensor: shape=(4, 5), dtype=int64, numpy=\n",
              "array([[ 5,  6,  7,  8,  9],\n",
              "       [10, 11, 12, 13, 14],\n",
              "       [15, 16, 17, 18, 19],\n",
              "       [ 0,  1,  2,  3,  4]])>"
            ]
          },
          "metadata": {
            "tags": []
          },
          "execution_count": 25
        }
      ]
    },
    {
      "cell_type": "code",
      "metadata": {
        "id": "MZaO_qQk4pNH"
      },
      "source": [
        ""
      ],
      "execution_count": null,
      "outputs": []
    }
  ]
}