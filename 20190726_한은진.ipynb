{
  "nbformat": 4,
  "nbformat_minor": 0,
  "metadata": {
    "colab": {
      "name": "20190726-한은진.ipynb",
      "provenance": [],
      "collapsed_sections": [],
      "authorship_tag": "ABX9TyOzlJkObN6EWGD+pHl2bKqV",
      "include_colab_link": true
    },
    "kernelspec": {
      "name": "python3",
      "display_name": "Python 3"
    }
  },
  "cells": [
    {
      "cell_type": "markdown",
      "metadata": {
        "id": "view-in-github",
        "colab_type": "text"
      },
      "source": [
        "<a href=\"https://colab.research.google.com/github/silverjin01/2020-2-AI/blob/master/20190726_%ED%95%9C%EC%9D%80%EC%A7%84.ipynb\" target=\"_parent\"><img src=\"https://colab.research.google.com/assets/colab-badge.svg\" alt=\"Open In Colab\"/></a>"
      ]
    },
    {
      "cell_type": "markdown",
      "metadata": {
        "id": "IRq_6usekhJ_"
      },
      "source": [
        "# **2020 인공지능 응용프로그램 기말고사-20190726한은진**\r\n",
        "\r\n",
        "---\r\n",
        "\r\n",
        "\r\n",
        "\r\n",
        "*   문제 개요와 목적\r\n",
        "*   데이터 저장과 전처리\r\n",
        "*   데이터 읽어 오기\r\n",
        "*   데이터 수, 속성 수 등 소개\r\n",
        "*   훈련과 테스트 데이터 나누기\r\n",
        "*   정규화 등 전처리\r\n",
        "*   딥러닝 모델\r\n",
        "*   입력, 중간(은닉), 출력 층, 패러미터 수\r\n",
        "*   모델 종류(ANN, CNN 등)\r\n",
        "*   옵티마이저, 손실함수\r\n",
        "*   Early Stopping\r\n",
        "*   Callback 함수\r\n",
        "*   모델 요약(summary)\r\n",
        "*   데이터와 훈련과정, 예측 결과의 시각화\r\n",
        "*   정확도와 손실 그래프\r\n",
        "*   예측 결과\r\n",
        "\r\n",
        "\r\n",
        "---\r\n",
        "\r\n",
        "\r\n",
        "\r\n",
        "\r\n",
        "\r\n"
      ]
    },
    {
      "cell_type": "markdown",
      "metadata": {
        "id": "S3061NKzlb5n"
      },
      "source": [
        "**1. 회귀문제: 스스로가 문제를 정하거나 유명한 문제 하나로 선정해 해결**\r\n",
        "\r\n",
        "\r\n",
        "> [주제] y = 3x + 4\r\n",
        "\r\n"
      ]
    },
    {
      "cell_type": "markdown",
      "metadata": {
        "id": "UFWv5xe817UX"
      },
      "source": [
        "**회귀란?**\r\n",
        "\r\n",
        "> 기본적인 데이터 분석 방법.\r\n",
        "\r\n",
        "> 가격이나 확률처럼 연속된 실수값을 정확히 예측하는 것을 목적으로 가진 방법\r\n",
        "\r\n",
        "\r\n",
        "\r\n"
      ]
    },
    {
      "cell_type": "code",
      "metadata": {
        "colab": {
          "base_uri": "https://localhost:8080/",
          "height": 268
        },
        "id": "4meTW-I7BRAP",
        "outputId": "2ad91148-c550-41c0-d25e-0ca5e9d12eab"
      },
      "source": [
        "import tensorflow as tf # 텐서플로를 사용하기 위한 모듈\r\n",
        "import numpy as np # 연산을 위한 모듈\r\n",
        "import matplotlib.pyplot as plt #t시각화를 위한 모듈\r\n",
        "\r\n",
        "x = 2 * np.random.rand(100, 1) #0부터 2까지의 랜덤한 값을 선언\r\n",
        "y = 4 + 3 * x + np.random.randn(100, 1) #y=3x+4 경향에 가깝도록 y=3x=4=random으로 선언\r\n",
        "\r\n",
        "plt.plot(x, y, 'bo') # x와 y를 파란색 원형으로 시각화\r\n",
        "plt.show() # 보여줌"
      ],
      "execution_count": 38,
      "outputs": [
        {
          "output_type": "display_data",
          "data": {
            "image/png": "[encoded data removed]",
            "text/plain": [
              "<Figure size 432x288 with 1 Axes>"
            ]
          },
          "metadata": {
            "tags": [],
            "needs_background": "light"
          }
        }
      ]
    },
    {
      "cell_type": "code",
      "metadata": {
        "colab": {
          "base_uri": "https://localhost:8080/",
          "height": 283
        },
        "id": "-jefjlPBB34A",
        "outputId": "50988e58-c914-4b20-a243-a66f46886e43"
      },
      "source": [
        "#간단한게 numpy를 사용한 선형 회귀\r\n",
        "x_mean = sum(x) / len(x) # x의 평균\r\n",
        "y_mean = sum(y) / len(y) # y의 평균\r\n",
        "\r\n",
        "a = sum([(x_ - x_mean) * (y_ - y_mean) for x_, y_ in list(zip(x, y))]) \r\n",
        "a /= sum([(x_ - x_mean) ** 2 for x_ in x]) \r\n",
        "b = y_mean - a * x_mean \r\n",
        "print('a:', a, 'b:', b) \r\n",
        "\r\n",
        "x_pred = np.arange(min(x), max(x), 0.01) # x값들을 numpy 배열로 바꿈\r\n",
        "y_pred = a * x_pred + b # 최소제곱법을 사용하여 a와 b를 사용하여 계산한 값\r\n",
        "\r\n",
        "plt.plot(x_pred, y_pred, 'r-') # x_pred, y_pred를 빨간 선으로 시각화\r\n",
        "plt.plot(x,y,'bo') # x, y값을 파란색 원형으로 시각화\r\n",
        "plt.show() # 보여줌\r\n",
        "\r\n",
        "#결과 : a가 3에 가깝고 b가 4에 가깝게 계산됨"
      ],
      "execution_count": 15,
      "outputs": [
        {
          "output_type": "stream",
          "text": [
            "a: [3.094941] b: [3.95974903]\n"
          ],
          "name": "stdout"
        },
        {
          "output_type": "display_data",
          "data": {
            "image/png": "[encoded data removed]",
            "text/plain": [
              "<Figure size 432x288 with 1 Axes>"
            ]
          },
          "metadata": {
            "tags": [],
            "needs_background": "light"
          }
        }
      ]
    },
    {
      "cell_type": "code",
      "metadata": {
        "id": "n6fKma0lB4IO"
      },
      "source": [
        "#텐서플로를 사용한 선형회귀\r\n",
        "import random \r\n",
        "#가중치와 편향을 랜덤 값으로 초기화\r\n",
        "w = tf.Variable(random.random()) # 가중치\r\n",
        "b = tf.Variable(random.random()) # 편향"
      ],
      "execution_count": 39,
      "outputs": []
    },
    {
      "cell_type": "code",
      "metadata": {
        "id": "pZaJ7ptEC6_I"
      },
      "source": [
        "#잔차를 구하는 함수\r\n",
        "def residue(): \r\n",
        "  y_pred = w * x + b # 예측값\r\n",
        "  re= tf.reduce_mean((y - y_pred) ** 2) # 예측 값과 실제값의 차이를 제곱한 값의 합의 평균\r\n",
        "  return re # 평균값 반환"
      ],
      "execution_count": 40,
      "outputs": []
    },
    {
      "cell_type": "code",
      "metadata": {
        "colab": {
          "base_uri": "https://localhost:8080/"
        },
        "id": "ECT1wv1QDCw8",
        "outputId": "729e7b64-ae63-4725-fb88-b8a5fc696ac6"
      },
      "source": [
        "# 손실을 최소화하는 최적화 함수으로는 학습률 0.07을 사용하여 Adam을 사용\r\n",
        "# Adam은 SGD와 함께 주로 사용되는 함수로 좋은 성능을 보여줌(가장 낮은 손실을 기록)\r\n",
        "# 여기서 합습률은 0.1 ~ 0.0001 사이 값을 주로 사용\r\n",
        "optimizer = tf.optimizers.Adam(lr=0.07)\r\n",
        "for i in range(1000): # 1000번 반복\r\n",
        "   optimizer.minimize(residue, var_list=[w,b]) #var_list로 받은 변수 리스트를 residue함수가 최소가 되도록 학습시킬 변수를 받음\r\n",
        "   \r\n",
        "   if i % 100 == 99: # 범위값(i)의 나머지가 99일 때\r\n",
        "     print(i, 'w:', w.numpy(), 'b:', b.numpy(), 'loss:', residue().numpy()) # 범위값, 가중치, 편향, 손실도 출력"
      ],
      "execution_count": 41,
      "outputs": [
        {
          "output_type": "stream",
          "text": [
            "99 w: 3.299344 b: 4.0173144 loss: 0.8794762\n",
            "199 w: 3.1777253 b: 4.091556 loss: 0.8645366\n",
            "299 w: 3.1045816 b: 4.174385 loss: 0.859212\n",
            "399 w: 3.0586095 b: 4.226598 loss: 0.85747415\n",
            "499 w: 3.0344503 b: 4.2540355 loss: 0.85706085\n",
            "599 w: 3.0236197 b: 4.266336 loss: 0.85698724\n",
            "699 w: 3.019442 b: 4.2710805 loss: 0.8569773\n",
            "799 w: 3.0180511 b: 4.2726603 loss: 0.85697633\n",
            "899 w: 3.0176523 b: 4.2731137 loss: 0.8569764\n",
            "999 w: 3.017556 b: 4.2732224 loss: 0.85697633\n"
          ],
          "name": "stdout"
        }
      ]
    },
    {
      "cell_type": "code",
      "metadata": {
        "colab": {
          "base_uri": "https://localhost:8080/",
          "height": 268
        },
        "id": "_Oqoq8v1EExR",
        "outputId": "9435b68f-fd76-41c2-dff7-46936802d6cb"
      },
      "source": [
        "x_pred = np.arange(min(x), max(x), 0.01) # x예측값은 x의 최소값을 시작으로 x의 최대값을 끝, 0.01 간격으로 건너뜀\r\n",
        "y_pred = w * x_pred + b # 가중치 + x_pred + 편향\r\n",
        "\r\n",
        "plt.plot(x_pred, y_pred, 'r-') # x_pred, y_pred 값을 빨간색 선으로 시각화\r\n",
        "plt.plot(x, y, 'bo') # x, y 값을 파란색 원형으로 시각화\r\n",
        "plt.show() # 보여줌\r\n",
        "\r\n",
        "# 결과 : numpy로 계산한 a, b와 텐서플로우로 계산한 w, b가 완전히 일치하지는 않지만 유사함을 알 수 있음"
      ],
      "execution_count": 42,
      "outputs": [
        {
          "output_type": "display_data",
          "data": {
            "image/png": "[encoded data removed]",
            "text/plain": [
              "<Figure size 432x288 with 1 Axes>"
            ]
          },
          "metadata": {
            "tags": [],
            "needs_background": "light"
          }
        }
      ]
    },
    {
      "cell_type": "code",
      "metadata": {
        "colab": {
          "base_uri": "https://localhost:8080/"
        },
        "id": "v6urAG1uDnPn",
        "outputId": "3062d754-caed-4d39-d1a4-8132c02e8ae8"
      },
      "source": [
        "# sklearn 모듈 : LinearRegression을 위한 자체적인 모델을 제공하며, fit()을 통해 데이터를 입력시켜 줌\r\n",
        "from sklearn.linear_model import LinearRegression \r\n",
        "\r\n",
        "lin_reg = LinearRegression() # 객체 생성\r\n",
        "lin_reg.fit(x, y) # 데이터 입력\r\n",
        "print(lin_reg.intercept_, lin_reg.coef_)\r\n",
        "\r\n",
        "# coef_ : 형태의 배열 (n_features,) 또는 (n_targets, n_features)\r\n",
        "#         선형 회귀 문제에 대한 추정 계수입니다. 맞춤 (y 2D) 중에 여러 대상이 전달되는 경우 이것은 모양의 2D 배열 (n_targets, n_features)이고, 하나의 대상 만 전달되는 경우 길이 n_features의 1D 배열입니다.\r\n",
        "\r\n",
        "# fit_intercept : bool, 기본값 = True\r\n",
        "# 이 모델에 대한 절편을 계산할지 여부입니다. False로 설정하면 계산에 인터셉트가 사용되지 않습니다 (예 : 데이터가 중앙에 배치 될 것으로 예상 됨).\r\n",
        "\r\n",
        "# 결과 : numpy 계산과 일치하고 텐서플로의 계산과는 유사하게 결과를 보여줌"
      ],
      "execution_count": 43,
      "outputs": [
        {
          "output_type": "stream",
          "text": [
            "[4.27325343] [[3.01752905]]\n"
          ],
          "name": "stdout"
        }
      ]
    },
    {
      "cell_type": "code",
      "metadata": {
        "colab": {
          "base_uri": "https://localhost:8080/",
          "height": 268
        },
        "id": "RUtRRmwP8Yyb",
        "outputId": "44e46e1c-4bf1-4692-dcdd-512d3d5a3463"
      },
      "source": [
        "x_pred = np.array([[0], [2]]) \r\n",
        "y_pred = lin_reg.predict(x_pred) \r\n",
        "\r\n",
        "plt.plot(x, y, 'bo') \r\n",
        "plt.plot(x_pred, y_pred, 'r-') \r\n",
        "plt.show()"
      ],
      "execution_count": 44,
      "outputs": [
        {
          "output_type": "display_data",
          "data": {
            "image/png": "[encoded data removed]",
            "text/plain": [
              "<Figure size 432x288 with 1 Axes>"
            ]
          },
          "metadata": {
            "tags": [],
            "needs_background": "light"
          }
        }
      ]
    },
    {
      "cell_type": "code",
      "metadata": {
        "colab": {
          "base_uri": "https://localhost:8080/"
        },
        "id": "MVxnh8BQ9_FA",
        "outputId": "8a2c7dc0-1e82-4756-fc99-b060a26c0e8e"
      },
      "source": [
        "# 딥러닝 네트워크를 이용한 회귀\r\n",
        "\r\n",
        "model = tf.keras.Sequential([ # 모델 생성\r\n",
        "      tf.keras.layers.Dense(units=6, activation='tanh', input_shape=(1,)), # 6개의 중간층, 할성화함수는 하이퍼볼릭 탄젠트\r\n",
        "      tf.keras.layers.Dense(units=1) # 1개의 출력층                    \r\n",
        "])\r\n",
        "# 훈련에 사용할 활성화함수와 손실함수를 선택\r\n",
        "model.compile(optimizer=tf.keras.optimizers.SGD(lr=0.1), loss='mse')\r\n",
        "# 모델 요약 표시\r\n",
        "model.summary()"
      ],
      "execution_count": 45,
      "outputs": [
        {
          "output_type": "stream",
          "text": [
            "Model: \"sequential_2\"\n",
            "_________________________________________________________________\n",
            "Layer (type)                 Output Shape              Param #   \n",
            "=================================================================\n",
            "dense_5 (Dense)              (None, 6)                 12        \n",
            "_________________________________________________________________\n",
            "dense_6 (Dense)              (None, 1)                 7         \n",
            "=================================================================\n",
            "Total params: 19\n",
            "Trainable params: 19\n",
            "Non-trainable params: 0\n",
            "_________________________________________________________________\n"
          ],
          "name": "stdout"
        }
      ]
    },
    {
      "cell_type": "code",
      "metadata": {
        "colab": {
          "base_uri": "https://localhost:8080/"
        },
        "id": "3N2J62oh_j-V",
        "outputId": "f448480e-8249-43b9-d3a7-3278d628eb37"
      },
      "source": [
        "# 딥러닝 네트워크 학습\r\n",
        "model.fit(x, y, epochs=10)\r\n",
        "#model.fit(x_pred, y_pred, epochs=10)"
      ],
      "execution_count": 46,
      "outputs": [
        {
          "output_type": "stream",
          "text": [
            "Epoch 1/10\n",
            "4/4 [==============================] - 0s 3ms/step - loss: 30.3405\n",
            "Epoch 2/10\n",
            "4/4 [==============================] - 0s 3ms/step - loss: 1.6208\n",
            "Epoch 3/10\n",
            "4/4 [==============================] - 0s 2ms/step - loss: 1.1702\n",
            "Epoch 4/10\n",
            "4/4 [==============================] - 0s 2ms/step - loss: 0.9863\n",
            "Epoch 5/10\n",
            "4/4 [==============================] - 0s 2ms/step - loss: 1.1580\n",
            "Epoch 6/10\n",
            "4/4 [==============================] - 0s 2ms/step - loss: 1.1842\n",
            "Epoch 7/10\n",
            "4/4 [==============================] - 0s 3ms/step - loss: 0.9422\n",
            "Epoch 8/10\n",
            "4/4 [==============================] - 0s 2ms/step - loss: 2.9534\n",
            "Epoch 9/10\n",
            "4/4 [==============================] - 0s 2ms/step - loss: 2.5795\n",
            "Epoch 10/10\n",
            "4/4 [==============================] - 0s 2ms/step - loss: 1.3177\n"
          ],
          "name": "stdout"
        },
        {
          "output_type": "execute_result",
          "data": {
            "text/plain": [
              "<tensorflow.python.keras.callbacks.History at 0x7f33c602f940>"
            ]
          },
          "metadata": {
            "tags": []
          },
          "execution_count": 46
        }
      ]
    },
    {
      "cell_type": "code",
      "metadata": {
        "colab": {
          "base_uri": "https://localhost:8080/"
        },
        "id": "AiyK1CEp_4dU",
        "outputId": "fab3cd21-e8f3-4abd-942e-cd70ab4b173b"
      },
      "source": [
        "# 딥러닝 네트워크 예측(x값을 입력했을 때의 결과값 : y값 예측하기)\r\n",
        "model.predict(x)"
      ],
      "execution_count": 47,
      "outputs": [
        {
          "output_type": "execute_result",
          "data": {
            "text/plain": [
              "array([[9.263662 ],\n",
              "       [9.609662 ],\n",
              "       [7.362401 ],\n",
              "       [7.4901247],\n",
              "       [9.349362 ],\n",
              "       [9.242114 ],\n",
              "       [8.437815 ],\n",
              "       [9.472082 ],\n",
              "       [9.339317 ],\n",
              "       [8.66353  ],\n",
              "       [8.737269 ],\n",
              "       [7.430727 ],\n",
              "       [5.0503654],\n",
              "       [8.623125 ],\n",
              "       [7.8432474],\n",
              "       [9.728675 ],\n",
              "       [9.663991 ],\n",
              "       [7.4625244],\n",
              "       [7.634823 ],\n",
              "       [9.083131 ],\n",
              "       [9.222458 ],\n",
              "       [9.325774 ],\n",
              "       [7.323121 ],\n",
              "       [8.4869   ],\n",
              "       [9.121962 ],\n",
              "       [9.153501 ],\n",
              "       [6.7471285],\n",
              "       [9.510501 ],\n",
              "       [8.8979845],\n",
              "       [8.780876 ],\n",
              "       [9.008585 ],\n",
              "       [9.304879 ],\n",
              "       [8.364276 ],\n",
              "       [7.4560814],\n",
              "       [5.5626144],\n",
              "       [8.157264 ],\n",
              "       [8.706175 ],\n",
              "       [7.4478216],\n",
              "       [8.941728 ],\n",
              "       [9.105513 ],\n",
              "       [4.916771 ],\n",
              "       [6.832391 ],\n",
              "       [9.573677 ],\n",
              "       [8.069046 ],\n",
              "       [9.760044 ],\n",
              "       [7.6884727],\n",
              "       [9.211984 ],\n",
              "       [9.207425 ],\n",
              "       [9.750427 ],\n",
              "       [9.647329 ],\n",
              "       [9.685445 ],\n",
              "       [6.366951 ],\n",
              "       [6.877946 ],\n",
              "       [9.303155 ],\n",
              "       [9.409606 ],\n",
              "       [7.6105976],\n",
              "       [8.070516 ],\n",
              "       [9.672734 ],\n",
              "       [9.631412 ],\n",
              "       [9.169656 ],\n",
              "       [9.2625   ],\n",
              "       [8.391889 ],\n",
              "       [9.34144  ],\n",
              "       [4.9066153],\n",
              "       [8.208375 ],\n",
              "       [8.651698 ],\n",
              "       [9.747139 ],\n",
              "       [9.756734 ],\n",
              "       [9.559036 ],\n",
              "       [8.03493  ],\n",
              "       [7.2107553],\n",
              "       [9.752546 ],\n",
              "       [9.415145 ],\n",
              "       [6.382674 ],\n",
              "       [9.125371 ],\n",
              "       [8.141969 ],\n",
              "       [9.238545 ],\n",
              "       [9.019057 ],\n",
              "       [7.7024555],\n",
              "       [5.633245 ],\n",
              "       [7.4238005],\n",
              "       [6.526024 ],\n",
              "       [5.4986067],\n",
              "       [6.887205 ],\n",
              "       [9.508579 ],\n",
              "       [8.108594 ],\n",
              "       [7.745757 ],\n",
              "       [5.299755 ],\n",
              "       [9.08416  ],\n",
              "       [7.2530975],\n",
              "       [5.3744874],\n",
              "       [4.7079144],\n",
              "       [9.681142 ],\n",
              "       [8.1646   ],\n",
              "       [7.457615 ],\n",
              "       [5.7553186],\n",
              "       [8.611965 ],\n",
              "       [5.8351154],\n",
              "       [9.519662 ],\n",
              "       [9.6271105]], dtype=float32)"
            ]
          },
          "metadata": {
            "tags": []
          },
          "execution_count": 47
        }
      ]
    },
    {
      "cell_type": "code",
      "metadata": {
        "colab": {
          "base_uri": "https://localhost:8080/",
          "height": 268
        },
        "id": "bpuPX0UfAGQa",
        "outputId": "63ea5e9f-7952-4ecb-8784-9185b54b3fde"
      },
      "source": [
        "line_x = np.arange(min(x), max(x), 0.01) # x예측값은 x의 최소값을 시작으로 x의 최대값을 끝, 0.01 간격으로 건너뜀\r\n",
        "line_y = model.predict(line_x)\r\n",
        "\r\n",
        "plt.plot(line_x, line_y, 'r-') # x_pred, y_pred 값을 빨간색 선으로 시각화\r\n",
        "plt.plot(x, y, 'bo') # x, y 값을 파란색 원형으로 시각화\r\n",
        "plt.show() # 보여줌"
      ],
      "execution_count": 48,
      "outputs": [
        {
          "output_type": "display_data",
          "data": {
            "image/png": "[encoded data removed]",
            "text/plain": [
              "<Figure size 432x288 with 1 Axes>"
            ]
          },
          "metadata": {
            "tags": [],
            "needs_background": "light"
          }
        }
      ]
    },
    {
      "cell_type": "markdown",
      "metadata": {
        "id": "aynIlH0vmW1q"
      },
      "source": [
        "\r\n",
        "**2. 분류문제**\r\n",
        "\r\n",
        "\r\n",
        "> Iris 붓꽃 분류 \r\n",
        "\r\n"
      ]
    },
    {
      "cell_type": "markdown",
      "metadata": {
        "id": "5JSPKiAZApK5"
      },
      "source": [
        "**분류란?**\r\n",
        "\r\n",
        "\r\n",
        "> 데이터가 어느 범주에 해당하는 판단하는 문제로서 유사한 것들을 같은 범주로 묶으면 주변에서 일어나는 일을 빠르게 판단하는 데 도움이 됨\r\n",
        "\r\n"
      ]
    },
    {
      "cell_type": "markdown",
      "metadata": {
        "id": "KoJAn-PjtqtU"
      },
      "source": [
        "\r\n",
        " **Iris 붓꽃이란?**\r\n",
        "\r\n",
        "> Iris 붓꽃을 분류하는데 꽃받침과 꽃잎의 길이와 폭을 가지고 세 개의 종(Versicolor, Virginica, Setosa)을 분류하는 예제\r\n",
        "> 세 개의 종을 분류하기 위해서는 네 종류의 데이터(꽃받침과 꽃잎의 가로 세로 길이)를 이용해서 분류를 한다\r\n",
        "\r\n"
      ]
    },
    {
      "cell_type": "code",
      "metadata": {
        "id": "FqxZOHmkuARs"
      },
      "source": [
        "# 텐서플로 2.0 버전 선택\r\n",
        "try:\r\n",
        "    # %tensorflow_version only exists in Colab.\r\n",
        "    %tensorflow_version 2.1.6\r\n",
        "except Exception:\r\n",
        "    pass\r\n",
        "import tensorflow as tf    "
      ],
      "execution_count": null,
      "outputs": []
    },
    {
      "cell_type": "code",
      "metadata": {
        "colab": {
          "base_uri": "https://localhost:8080/",
          "height": 35
        },
        "id": "HzdQnpKVb9zU",
        "outputId": "0fd645f0-9f5b-49c4-d88c-5c7f7770c21c"
      },
      "source": [
        "# 텐서플로의 버전 확인\r\n",
        "import tensorflow as tf \r\n",
        "tf.__version__"
      ],
      "execution_count": 23,
      "outputs": [
        {
          "output_type": "execute_result",
          "data": {
            "application/vnd.google.colaboratory.intrinsic+json": {
              "type": "string"
            },
            "text/plain": [
              "'2.4.0'"
            ]
          },
          "metadata": {
            "tags": []
          },
          "execution_count": 23
        }
      ]
    },
    {
      "cell_type": "code",
      "metadata": {
        "colab": {
          "base_uri": "https://localhost:8080/",
          "height": 673
        },
        "id": "t2P9AEw5q-pG",
        "outputId": "e54195d5-35ce-42c0-c86f-6318af316fc6"
      },
      "source": [
        "# 필요한 모듈 가져오기\r\n",
        "%matplotlib inline\r\n",
        "import seaborn as sns # seaborn이 제공하는 iris 데이터 가져오기\r\n",
        "import pandas as pd #dataframe의 형태로 데이터베이스 테이블과 유사하게 사용되기 위해 \r\n",
        "import numpy as np # 연산을 위해\r\n",
        "\r\n",
        "# iris 데이터셋 가져오기\r\n",
        "sns.set(style=\"ticks\", color_codes=True) # 눈금자 없는 스타일, \r\n",
        "iris = sns.load_dataset(\"iris\") # 데이터 불러오기\r\n",
        "g = sns.pairplot(iris, hue=\"species\", palette=\"husl\") # pairplot : 분포형그래프(쌍관계 그래프를 그림)"
      ],
      "execution_count": 51,
      "outputs": [
        {
          "output_type": "display_data",
          "data": {
            "image/png": "[encoded data removed]",
            "text/plain": [
              "<Figure size 813.85x720 with 20 Axes>"
            ]
          },
          "metadata": {
            "tags": []
          }
        }
      ]
    },
    {
      "cell_type": "code",
      "metadata": {
        "colab": {
          "base_uri": "https://localhost:8080/"
        },
        "id": "66pMm2Krrm00",
        "outputId": "2689f78f-b560-4c88-a441-ca00a62cf2a0"
      },
      "source": [
        "iris.info() # 데이터의 특징 보기\r\n",
        "# 결과값 : 150개 데이터와 4개의 특성, 종의 이름"
      ],
      "execution_count": 52,
      "outputs": [
        {
          "output_type": "stream",
          "text": [
            "<class 'pandas.core.frame.DataFrame'>\n",
            "RangeIndex: 150 entries, 0 to 149\n",
            "Data columns (total 5 columns):\n",
            " #   Column        Non-Null Count  Dtype  \n",
            "---  ------        --------------  -----  \n",
            " 0   sepal_length  150 non-null    float64\n",
            " 1   sepal_width   150 non-null    float64\n",
            " 2   petal_length  150 non-null    float64\n",
            " 3   petal_width   150 non-null    float64\n",
            " 4   species       150 non-null    object \n",
            "dtypes: float64(4), object(1)\n",
            "memory usage: 6.0+ KB\n"
          ],
          "name": "stdout"
        }
      ]
    },
    {
      "cell_type": "code",
      "metadata": {
        "colab": {
          "base_uri": "https://localhost:8080/"
        },
        "id": "09b8dPIUr2S-",
        "outputId": "856509e6-9126-4f85-b5bd-22d1cf3e24af"
      },
      "source": [
        "iris['species'].unique() # 종의 특성만 보기\r\n",
        "# 결과값 : 앞에 설명했던 세 개의 종이 나타남"
      ],
      "execution_count": 53,
      "outputs": [
        {
          "output_type": "execute_result",
          "data": {
            "text/plain": [
              "array(['setosa', 'versicolor', 'virginica'], dtype=object)"
            ]
          },
          "metadata": {
            "tags": []
          },
          "execution_count": 53
        }
      ]
    },
    {
      "cell_type": "code",
      "metadata": {
        "colab": {
          "base_uri": "https://localhost:8080/"
        },
        "id": "8O9kGpDSr2NN",
        "outputId": "5a2e4ac2-5b1a-4d61-d0f7-fb7d4ec125c8"
      },
      "source": [
        "from sklearn.preprocessing import LabelEncoder\r\n",
        "\r\n",
        "X = iris.iloc[:,0:4].values # iloc() : 행번호로 선택하는 방법\r\n",
        "y = iris.iloc[:,4].values\r\n",
        "\r\n",
        "encoder =  LabelEncoder() # 문자열로된 이름에 번호를 붙이고\r\n",
        "y1 = encoder.fit_transform(y) # 원 핫 인코딩 방식으로 펼쳐줌\r\n",
        "Y = pd.get_dummies(y1).values # 바뀐 값 대입\r\n",
        "Y # 출력"
      ],
      "execution_count": 54,
      "outputs": [
        {
          "output_type": "execute_result",
          "data": {
            "text/plain": [
              "array([[1, 0, 0],\n",
              "       [1, 0, 0],\n",
              "       [1, 0, 0],\n",
              "       [1, 0, 0],\n",
              "       [1, 0, 0],\n",
              "       [1, 0, 0],\n",
              "       [1, 0, 0],\n",
              "       [1, 0, 0],\n",
              "       [1, 0, 0],\n",
              "       [1, 0, 0],\n",
              "       [1, 0, 0],\n",
              "       [1, 0, 0],\n",
              "       [1, 0, 0],\n",
              "       [1, 0, 0],\n",
              "       [1, 0, 0],\n",
              "       [1, 0, 0],\n",
              "       [1, 0, 0],\n",
              "       [1, 0, 0],\n",
              "       [1, 0, 0],\n",
              "       [1, 0, 0],\n",
              "       [1, 0, 0],\n",
              "       [1, 0, 0],\n",
              "       [1, 0, 0],\n",
              "       [1, 0, 0],\n",
              "       [1, 0, 0],\n",
              "       [1, 0, 0],\n",
              "       [1, 0, 0],\n",
              "       [1, 0, 0],\n",
              "       [1, 0, 0],\n",
              "       [1, 0, 0],\n",
              "       [1, 0, 0],\n",
              "       [1, 0, 0],\n",
              "       [1, 0, 0],\n",
              "       [1, 0, 0],\n",
              "       [1, 0, 0],\n",
              "       [1, 0, 0],\n",
              "       [1, 0, 0],\n",
              "       [1, 0, 0],\n",
              "       [1, 0, 0],\n",
              "       [1, 0, 0],\n",
              "       [1, 0, 0],\n",
              "       [1, 0, 0],\n",
              "       [1, 0, 0],\n",
              "       [1, 0, 0],\n",
              "       [1, 0, 0],\n",
              "       [1, 0, 0],\n",
              "       [1, 0, 0],\n",
              "       [1, 0, 0],\n",
              "       [1, 0, 0],\n",
              "       [1, 0, 0],\n",
              "       [0, 1, 0],\n",
              "       [0, 1, 0],\n",
              "       [0, 1, 0],\n",
              "       [0, 1, 0],\n",
              "       [0, 1, 0],\n",
              "       [0, 1, 0],\n",
              "       [0, 1, 0],\n",
              "       [0, 1, 0],\n",
              "       [0, 1, 0],\n",
              "       [0, 1, 0],\n",
              "       [0, 1, 0],\n",
              "       [0, 1, 0],\n",
              "       [0, 1, 0],\n",
              "       [0, 1, 0],\n",
              "       [0, 1, 0],\n",
              "       [0, 1, 0],\n",
              "       [0, 1, 0],\n",
              "       [0, 1, 0],\n",
              "       [0, 1, 0],\n",
              "       [0, 1, 0],\n",
              "       [0, 1, 0],\n",
              "       [0, 1, 0],\n",
              "       [0, 1, 0],\n",
              "       [0, 1, 0],\n",
              "       [0, 1, 0],\n",
              "       [0, 1, 0],\n",
              "       [0, 1, 0],\n",
              "       [0, 1, 0],\n",
              "       [0, 1, 0],\n",
              "       [0, 1, 0],\n",
              "       [0, 1, 0],\n",
              "       [0, 1, 0],\n",
              "       [0, 1, 0],\n",
              "       [0, 1, 0],\n",
              "       [0, 1, 0],\n",
              "       [0, 1, 0],\n",
              "       [0, 1, 0],\n",
              "       [0, 1, 0],\n",
              "       [0, 1, 0],\n",
              "       [0, 1, 0],\n",
              "       [0, 1, 0],\n",
              "       [0, 1, 0],\n",
              "       [0, 1, 0],\n",
              "       [0, 1, 0],\n",
              "       [0, 1, 0],\n",
              "       [0, 1, 0],\n",
              "       [0, 1, 0],\n",
              "       [0, 1, 0],\n",
              "       [0, 1, 0],\n",
              "       [0, 1, 0],\n",
              "       [0, 0, 1],\n",
              "       [0, 0, 1],\n",
              "       [0, 0, 1],\n",
              "       [0, 0, 1],\n",
              "       [0, 0, 1],\n",
              "       [0, 0, 1],\n",
              "       [0, 0, 1],\n",
              "       [0, 0, 1],\n",
              "       [0, 0, 1],\n",
              "       [0, 0, 1],\n",
              "       [0, 0, 1],\n",
              "       [0, 0, 1],\n",
              "       [0, 0, 1],\n",
              "       [0, 0, 1],\n",
              "       [0, 0, 1],\n",
              "       [0, 0, 1],\n",
              "       [0, 0, 1],\n",
              "       [0, 0, 1],\n",
              "       [0, 0, 1],\n",
              "       [0, 0, 1],\n",
              "       [0, 0, 1],\n",
              "       [0, 0, 1],\n",
              "       [0, 0, 1],\n",
              "       [0, 0, 1],\n",
              "       [0, 0, 1],\n",
              "       [0, 0, 1],\n",
              "       [0, 0, 1],\n",
              "       [0, 0, 1],\n",
              "       [0, 0, 1],\n",
              "       [0, 0, 1],\n",
              "       [0, 0, 1],\n",
              "       [0, 0, 1],\n",
              "       [0, 0, 1],\n",
              "       [0, 0, 1],\n",
              "       [0, 0, 1],\n",
              "       [0, 0, 1],\n",
              "       [0, 0, 1],\n",
              "       [0, 0, 1],\n",
              "       [0, 0, 1],\n",
              "       [0, 0, 1],\n",
              "       [0, 0, 1],\n",
              "       [0, 0, 1],\n",
              "       [0, 0, 1],\n",
              "       [0, 0, 1],\n",
              "       [0, 0, 1],\n",
              "       [0, 0, 1],\n",
              "       [0, 0, 1],\n",
              "       [0, 0, 1],\n",
              "       [0, 0, 1],\n",
              "       [0, 0, 1]], dtype=uint8)"
            ]
          },
          "metadata": {
            "tags": []
          },
          "execution_count": 54
        }
      ]
    },
    {
      "cell_type": "code",
      "metadata": {
        "colab": {
          "base_uri": "https://localhost:8080/"
        },
        "id": "j3wDDYDEsUUL",
        "outputId": "8b64e6ed-b74a-4702-b2e5-6c85d7b87d42"
      },
      "source": [
        "from sklearn.model_selection import train_test_split\r\n",
        "\r\n",
        "# 훈련 데이터와 테스트 데이터로 나누기\r\n",
        "X_train, X_test, y_train, y_test = train_test_split(X, Y, \r\n",
        "                                                    test_size=0.2, \r\n",
        "                                                    random_state=1) \r\n",
        "X_train.shape, X_test.shape, y_train.shape, y_test.shape # 출력"
      ],
      "execution_count": 55,
      "outputs": [
        {
          "output_type": "execute_result",
          "data": {
            "text/plain": [
              "((120, 4), (30, 4), (120, 3), (30, 3))"
            ]
          },
          "metadata": {
            "tags": []
          },
          "execution_count": 55
        }
      ]
    },
    {
      "cell_type": "code",
      "metadata": {
        "colab": {
          "base_uri": "https://localhost:8080/"
        },
        "id": "WLGNdcCBsfAw",
        "outputId": "feca9c46-64eb-4aca-be57-062d927d34cf"
      },
      "source": [
        "# 모델 만들기(버전 예민해서 잘 사용해야함)\r\n",
        "from keras.models import Sequential\r\n",
        "from keras.layers import Dense\r\n",
        "from keras.optimizers import Adam\r\n",
        "\r\n",
        "# 층을 차례대로 쌓아 tf.keras.Sequential 모델 생성\r\n",
        "model = Sequential()\r\n",
        "\r\n",
        "# 데이터 구조\r\n",
        "model.add(Dense(64,input_shape=(4,),activation='relu')) # 입력층\r\n",
        "model.add(Dense(64,activation='relu')) # 중간층\r\n",
        "model.add(Dense(3,activation='softmax')) # 출력층\r\n",
        "\r\n",
        "# 훈련에 사용할 활성화함수와 손실함수 출력정보 선택\r\n",
        "model.compile(loss='categorical_crossentropy', # 손실함수: 사용되는 타켓들은 범주 형식을 따라야 함\r\n",
        "              optimizer='Adam', # 활성화 함수: \r\n",
        "              metrics=['accuracy']) # 출력정보: \r\n",
        "\r\n",
        "# 모델 요약 표시\r\n",
        "model.summary()"
      ],
      "execution_count": 56,
      "outputs": [
        {
          "output_type": "stream",
          "text": [
            "Model: \"sequential_3\"\n",
            "_________________________________________________________________\n",
            "Layer (type)                 Output Shape              Param #   \n",
            "=================================================================\n",
            "dense_7 (Dense)              (None, 64)                320       \n",
            "_________________________________________________________________\n",
            "dense_8 (Dense)              (None, 64)                4160      \n",
            "_________________________________________________________________\n",
            "dense_9 (Dense)              (None, 3)                 195       \n",
            "=================================================================\n",
            "Total params: 4,675\n",
            "Trainable params: 4,675\n",
            "Non-trainable params: 0\n",
            "_________________________________________________________________\n"
          ],
          "name": "stdout"
        }
      ]
    },
    {
      "cell_type": "code",
      "metadata": {
        "colab": {
          "base_uri": "https://localhost:8080/"
        },
        "id": "ZZz8wnHmsvaA",
        "outputId": "cbefb5d4-bfe1-4d5d-9c1c-40acd5192b5c"
      },
      "source": [
        "# 모델을 후련 데이터로 총 100번 훈련\r\n",
        "hist = model.fit(X_train, y_train, validation_data=(X_test, y_test), epochs=100)"
      ],
      "execution_count": 57,
      "outputs": [
        {
          "output_type": "stream",
          "text": [
            "Epoch 1/100\n",
            "4/4 [==============================] - 1s 65ms/step - loss: 1.0164 - accuracy: 0.5542 - val_loss: 1.0720 - val_accuracy: 0.2000\n",
            "Epoch 2/100\n",
            "4/4 [==============================] - 0s 14ms/step - loss: 0.9058 - accuracy: 0.5502 - val_loss: 0.9615 - val_accuracy: 0.5667\n",
            "Epoch 3/100\n",
            "4/4 [==============================] - 0s 15ms/step - loss: 0.8320 - accuracy: 0.6821 - val_loss: 0.8138 - val_accuracy: 0.6000\n",
            "Epoch 4/100\n",
            "4/4 [==============================] - 0s 17ms/step - loss: 0.7499 - accuracy: 0.8002 - val_loss: 0.7463 - val_accuracy: 0.6667\n",
            "Epoch 5/100\n",
            "4/4 [==============================] - 0s 15ms/step - loss: 0.6922 - accuracy: 0.7856 - val_loss: 0.7152 - val_accuracy: 0.5667\n",
            "Epoch 6/100\n",
            "4/4 [==============================] - 0s 15ms/step - loss: 0.6292 - accuracy: 0.7269 - val_loss: 0.6715 - val_accuracy: 0.5667\n",
            "Epoch 7/100\n",
            "4/4 [==============================] - 0s 15ms/step - loss: 0.5808 - accuracy: 0.7258 - val_loss: 0.6272 - val_accuracy: 0.6000\n",
            "Epoch 8/100\n",
            "4/4 [==============================] - 0s 15ms/step - loss: 0.5563 - accuracy: 0.7954 - val_loss: 0.5631 - val_accuracy: 0.8000\n",
            "Epoch 9/100\n",
            "4/4 [==============================] - 0s 15ms/step - loss: 0.5221 - accuracy: 0.9250 - val_loss: 0.5382 - val_accuracy: 0.7333\n",
            "Epoch 10/100\n",
            "4/4 [==============================] - 0s 15ms/step - loss: 0.4840 - accuracy: 0.8704 - val_loss: 0.5316 - val_accuracy: 0.6667\n",
            "Epoch 11/100\n",
            "4/4 [==============================] - 0s 16ms/step - loss: 0.4398 - accuracy: 0.8379 - val_loss: 0.5111 - val_accuracy: 0.6667\n",
            "Epoch 12/100\n",
            "4/4 [==============================] - 0s 15ms/step - loss: 0.4270 - accuracy: 0.8696 - val_loss: 0.4685 - val_accuracy: 0.8000\n",
            "Epoch 13/100\n",
            "4/4 [==============================] - 0s 15ms/step - loss: 0.4235 - accuracy: 0.9552 - val_loss: 0.4327 - val_accuracy: 0.9333\n",
            "Epoch 14/100\n",
            "4/4 [==============================] - 0s 15ms/step - loss: 0.3791 - accuracy: 0.9448 - val_loss: 0.4645 - val_accuracy: 0.7000\n",
            "Epoch 15/100\n",
            "4/4 [==============================] - 0s 16ms/step - loss: 0.3656 - accuracy: 0.8604 - val_loss: 0.4630 - val_accuracy: 0.6667\n",
            "Epoch 16/100\n",
            "4/4 [==============================] - 0s 15ms/step - loss: 0.3749 - accuracy: 0.8954 - val_loss: 0.4036 - val_accuracy: 0.9333\n",
            "Epoch 17/100\n",
            "4/4 [==============================] - 0s 15ms/step - loss: 0.3797 - accuracy: 0.9713 - val_loss: 0.3831 - val_accuracy: 0.9667\n",
            "Epoch 18/100\n",
            "4/4 [==============================] - 0s 15ms/step - loss: 0.3530 - accuracy: 0.9765 - val_loss: 0.4099 - val_accuracy: 0.7667\n",
            "Epoch 19/100\n",
            "4/4 [==============================] - 0s 18ms/step - loss: 0.3350 - accuracy: 0.9196 - val_loss: 0.4146 - val_accuracy: 0.7333\n",
            "Epoch 20/100\n",
            "4/4 [==============================] - 0s 17ms/step - loss: 0.3141 - accuracy: 0.9227 - val_loss: 0.3870 - val_accuracy: 0.8333\n",
            "Epoch 21/100\n",
            "4/4 [==============================] - 0s 16ms/step - loss: 0.3033 - accuracy: 0.9531 - val_loss: 0.3441 - val_accuracy: 0.9667\n",
            "Epoch 22/100\n",
            "4/4 [==============================] - 0s 16ms/step - loss: 0.3182 - accuracy: 0.9827 - val_loss: 0.3420 - val_accuracy: 0.9333\n",
            "Epoch 23/100\n",
            "4/4 [==============================] - 0s 15ms/step - loss: 0.2985 - accuracy: 0.9710 - val_loss: 0.3626 - val_accuracy: 0.8333\n",
            "Epoch 24/100\n",
            "4/4 [==============================] - 0s 15ms/step - loss: 0.2866 - accuracy: 0.9552 - val_loss: 0.3442 - val_accuracy: 0.8667\n",
            "Epoch 25/100\n",
            "4/4 [==============================] - 0s 14ms/step - loss: 0.2711 - accuracy: 0.9619 - val_loss: 0.3203 - val_accuracy: 0.9333\n",
            "Epoch 26/100\n",
            "4/4 [==============================] - 0s 16ms/step - loss: 0.2837 - accuracy: 0.9619 - val_loss: 0.3102 - val_accuracy: 0.9333\n",
            "Epoch 27/100\n",
            "4/4 [==============================] - 0s 16ms/step - loss: 0.2510 - accuracy: 0.9698 - val_loss: 0.3349 - val_accuracy: 0.8667\n",
            "Epoch 28/100\n",
            "4/4 [==============================] - 0s 85ms/step - loss: 0.2453 - accuracy: 0.9394 - val_loss: 0.3018 - val_accuracy: 0.9333\n",
            "Epoch 29/100\n",
            "4/4 [==============================] - 0s 16ms/step - loss: 0.2460 - accuracy: 0.9733 - val_loss: 0.2826 - val_accuracy: 0.9667\n",
            "Epoch 30/100\n",
            "4/4 [==============================] - 0s 14ms/step - loss: 0.2274 - accuracy: 0.9848 - val_loss: 0.2819 - val_accuracy: 0.9667\n",
            "Epoch 31/100\n",
            "4/4 [==============================] - 0s 16ms/step - loss: 0.2228 - accuracy: 0.9765 - val_loss: 0.2844 - val_accuracy: 0.9333\n",
            "Epoch 32/100\n",
            "4/4 [==============================] - 0s 15ms/step - loss: 0.2067 - accuracy: 0.9827 - val_loss: 0.2723 - val_accuracy: 0.9333\n",
            "Epoch 33/100\n",
            "4/4 [==============================] - 0s 17ms/step - loss: 0.2044 - accuracy: 0.9752 - val_loss: 0.2646 - val_accuracy: 0.9333\n",
            "Epoch 34/100\n",
            "4/4 [==============================] - 0s 16ms/step - loss: 0.1884 - accuracy: 0.9858 - val_loss: 0.2428 - val_accuracy: 0.9667\n",
            "Epoch 35/100\n",
            "4/4 [==============================] - 0s 15ms/step - loss: 0.2105 - accuracy: 0.9848 - val_loss: 0.2411 - val_accuracy: 0.9667\n",
            "Epoch 36/100\n",
            "4/4 [==============================] - 0s 15ms/step - loss: 0.1870 - accuracy: 0.9806 - val_loss: 0.2417 - val_accuracy: 0.9667\n",
            "Epoch 37/100\n",
            "4/4 [==============================] - 0s 15ms/step - loss: 0.1905 - accuracy: 0.9713 - val_loss: 0.2446 - val_accuracy: 0.9333\n",
            "Epoch 38/100\n",
            "4/4 [==============================] - 0s 16ms/step - loss: 0.1839 - accuracy: 0.9671 - val_loss: 0.2368 - val_accuracy: 0.9333\n",
            "Epoch 39/100\n",
            "4/4 [==============================] - 0s 15ms/step - loss: 0.1602 - accuracy: 0.9744 - val_loss: 0.2210 - val_accuracy: 0.9667\n",
            "Epoch 40/100\n",
            "4/4 [==============================] - 0s 17ms/step - loss: 0.1766 - accuracy: 0.9681 - val_loss: 0.2115 - val_accuracy: 0.9667\n",
            "Epoch 41/100\n",
            "4/4 [==============================] - 0s 15ms/step - loss: 0.1692 - accuracy: 0.9733 - val_loss: 0.2162 - val_accuracy: 0.9667\n",
            "Epoch 42/100\n",
            "4/4 [==============================] - 0s 15ms/step - loss: 0.1547 - accuracy: 0.9848 - val_loss: 0.2109 - val_accuracy: 0.9667\n",
            "Epoch 43/100\n",
            "4/4 [==============================] - 0s 15ms/step - loss: 0.1511 - accuracy: 0.9796 - val_loss: 0.1978 - val_accuracy: 0.9667\n",
            "Epoch 44/100\n",
            "4/4 [==============================] - 0s 16ms/step - loss: 0.1338 - accuracy: 0.9879 - val_loss: 0.1944 - val_accuracy: 0.9667\n",
            "Epoch 45/100\n",
            "4/4 [==============================] - 0s 16ms/step - loss: 0.1403 - accuracy: 0.9806 - val_loss: 0.1943 - val_accuracy: 0.9667\n",
            "Epoch 46/100\n",
            "4/4 [==============================] - 0s 17ms/step - loss: 0.1614 - accuracy: 0.9556 - val_loss: 0.1867 - val_accuracy: 0.9667\n",
            "Epoch 47/100\n",
            "4/4 [==============================] - 0s 16ms/step - loss: 0.1400 - accuracy: 0.9765 - val_loss: 0.1912 - val_accuracy: 0.9667\n",
            "Epoch 48/100\n",
            "4/4 [==============================] - 0s 15ms/step - loss: 0.1480 - accuracy: 0.9796 - val_loss: 0.1727 - val_accuracy: 1.0000\n",
            "Epoch 49/100\n",
            "4/4 [==============================] - 0s 15ms/step - loss: 0.1513 - accuracy: 0.9713 - val_loss: 0.1735 - val_accuracy: 0.9667\n",
            "Epoch 50/100\n",
            "4/4 [==============================] - 0s 15ms/step - loss: 0.1109 - accuracy: 0.9879 - val_loss: 0.1817 - val_accuracy: 0.9667\n",
            "Epoch 51/100\n",
            "4/4 [==============================] - 0s 16ms/step - loss: 0.1300 - accuracy: 0.9681 - val_loss: 0.1590 - val_accuracy: 1.0000\n",
            "Epoch 52/100\n",
            "4/4 [==============================] - 0s 19ms/step - loss: 0.1232 - accuracy: 0.9827 - val_loss: 0.1655 - val_accuracy: 0.9667\n",
            "Epoch 53/100\n",
            "4/4 [==============================] - 0s 17ms/step - loss: 0.1130 - accuracy: 0.9827 - val_loss: 0.1694 - val_accuracy: 0.9667\n",
            "Epoch 54/100\n",
            "4/4 [==============================] - 0s 15ms/step - loss: 0.1093 - accuracy: 0.9796 - val_loss: 0.1576 - val_accuracy: 0.9667\n",
            "Epoch 55/100\n",
            "4/4 [==============================] - 0s 15ms/step - loss: 0.1152 - accuracy: 0.9838 - val_loss: 0.1489 - val_accuracy: 1.0000\n",
            "Epoch 56/100\n",
            "4/4 [==============================] - 0s 17ms/step - loss: 0.1184 - accuracy: 0.9744 - val_loss: 0.1490 - val_accuracy: 0.9667\n",
            "Epoch 57/100\n",
            "4/4 [==============================] - 0s 16ms/step - loss: 0.1059 - accuracy: 0.9827 - val_loss: 0.1649 - val_accuracy: 0.9667\n",
            "Epoch 58/100\n",
            "4/4 [==============================] - 0s 16ms/step - loss: 0.1437 - accuracy: 0.9556 - val_loss: 0.1410 - val_accuracy: 1.0000\n",
            "Epoch 59/100\n",
            "4/4 [==============================] - 0s 16ms/step - loss: 0.1136 - accuracy: 0.9681 - val_loss: 0.1499 - val_accuracy: 0.9667\n",
            "Epoch 60/100\n",
            "4/4 [==============================] - 0s 15ms/step - loss: 0.1211 - accuracy: 0.9744 - val_loss: 0.1403 - val_accuracy: 0.9667\n",
            "Epoch 61/100\n",
            "4/4 [==============================] - 0s 75ms/step - loss: 0.0910 - accuracy: 0.9858 - val_loss: 0.1413 - val_accuracy: 0.9667\n",
            "Epoch 62/100\n",
            "4/4 [==============================] - 0s 15ms/step - loss: 0.0996 - accuracy: 0.9827 - val_loss: 0.1341 - val_accuracy: 1.0000\n",
            "Epoch 63/100\n",
            "4/4 [==============================] - 0s 15ms/step - loss: 0.0987 - accuracy: 0.9796 - val_loss: 0.1338 - val_accuracy: 0.9667\n",
            "Epoch 64/100\n",
            "4/4 [==============================] - 0s 16ms/step - loss: 0.1153 - accuracy: 0.9619 - val_loss: 0.1291 - val_accuracy: 1.0000\n",
            "Epoch 65/100\n",
            "4/4 [==============================] - 0s 17ms/step - loss: 0.0999 - accuracy: 0.9619 - val_loss: 0.1352 - val_accuracy: 0.9667\n",
            "Epoch 66/100\n",
            "4/4 [==============================] - 0s 15ms/step - loss: 0.1175 - accuracy: 0.9637 - val_loss: 0.1510 - val_accuracy: 0.9667\n",
            "Epoch 67/100\n",
            "4/4 [==============================] - 0s 17ms/step - loss: 0.1170 - accuracy: 0.9671 - val_loss: 0.1183 - val_accuracy: 1.0000\n",
            "Epoch 68/100\n",
            "4/4 [==============================] - 0s 15ms/step - loss: 0.1111 - accuracy: 0.9619 - val_loss: 0.1369 - val_accuracy: 0.9667\n",
            "Epoch 69/100\n",
            "4/4 [==============================] - 0s 15ms/step - loss: 0.0812 - accuracy: 0.9825 - val_loss: 0.1389 - val_accuracy: 0.9667\n",
            "Epoch 70/100\n",
            "4/4 [==============================] - 0s 15ms/step - loss: 0.1290 - accuracy: 0.9523 - val_loss: 0.1136 - val_accuracy: 1.0000\n",
            "Epoch 71/100\n",
            "4/4 [==============================] - 0s 17ms/step - loss: 0.0908 - accuracy: 0.9775 - val_loss: 0.1264 - val_accuracy: 0.9667\n",
            "Epoch 72/100\n",
            "4/4 [==============================] - 0s 15ms/step - loss: 0.0783 - accuracy: 0.9879 - val_loss: 0.1427 - val_accuracy: 0.9667\n",
            "Epoch 73/100\n",
            "4/4 [==============================] - 0s 16ms/step - loss: 0.0826 - accuracy: 0.9860 - val_loss: 0.1091 - val_accuracy: 1.0000\n",
            "Epoch 74/100\n",
            "4/4 [==============================] - 0s 15ms/step - loss: 0.0939 - accuracy: 0.9762 - val_loss: 0.1085 - val_accuracy: 1.0000\n",
            "Epoch 75/100\n",
            "4/4 [==============================] - 0s 14ms/step - loss: 0.0863 - accuracy: 0.9765 - val_loss: 0.1285 - val_accuracy: 0.9667\n",
            "Epoch 76/100\n",
            "4/4 [==============================] - 0s 16ms/step - loss: 0.0818 - accuracy: 0.9752 - val_loss: 0.1187 - val_accuracy: 0.9667\n",
            "Epoch 77/100\n",
            "4/4 [==============================] - 0s 15ms/step - loss: 0.1042 - accuracy: 0.9744 - val_loss: 0.1041 - val_accuracy: 1.0000\n",
            "Epoch 78/100\n",
            "4/4 [==============================] - 0s 15ms/step - loss: 0.0955 - accuracy: 0.9713 - val_loss: 0.1051 - val_accuracy: 1.0000\n",
            "Epoch 79/100\n",
            "4/4 [==============================] - 0s 15ms/step - loss: 0.0876 - accuracy: 0.9733 - val_loss: 0.1211 - val_accuracy: 0.9667\n",
            "Epoch 80/100\n",
            "4/4 [==============================] - 0s 15ms/step - loss: 0.0985 - accuracy: 0.9713 - val_loss: 0.1054 - val_accuracy: 1.0000\n",
            "Epoch 81/100\n",
            "4/4 [==============================] - 0s 15ms/step - loss: 0.0753 - accuracy: 0.9806 - val_loss: 0.1023 - val_accuracy: 1.0000\n",
            "Epoch 82/100\n",
            "4/4 [==============================] - 0s 17ms/step - loss: 0.0782 - accuracy: 0.9827 - val_loss: 0.1062 - val_accuracy: 0.9667\n",
            "Epoch 83/100\n",
            "4/4 [==============================] - 0s 15ms/step - loss: 0.0880 - accuracy: 0.9765 - val_loss: 0.1028 - val_accuracy: 1.0000\n",
            "Epoch 84/100\n",
            "4/4 [==============================] - 0s 15ms/step - loss: 0.0813 - accuracy: 0.9785 - val_loss: 0.0981 - val_accuracy: 1.0000\n",
            "Epoch 85/100\n",
            "4/4 [==============================] - 0s 15ms/step - loss: 0.0777 - accuracy: 0.9848 - val_loss: 0.0990 - val_accuracy: 1.0000\n",
            "Epoch 86/100\n",
            "4/4 [==============================] - 0s 17ms/step - loss: 0.0864 - accuracy: 0.9733 - val_loss: 0.0973 - val_accuracy: 1.0000\n",
            "Epoch 87/100\n",
            "4/4 [==============================] - 0s 15ms/step - loss: 0.0746 - accuracy: 0.9733 - val_loss: 0.0994 - val_accuracy: 1.0000\n",
            "Epoch 88/100\n",
            "4/4 [==============================] - 0s 15ms/step - loss: 0.0877 - accuracy: 0.9650 - val_loss: 0.0952 - val_accuracy: 1.0000\n",
            "Epoch 89/100\n",
            "4/4 [==============================] - 0s 16ms/step - loss: 0.0945 - accuracy: 0.9733 - val_loss: 0.1105 - val_accuracy: 0.9667\n",
            "Epoch 90/100\n",
            "4/4 [==============================] - 0s 15ms/step - loss: 0.0922 - accuracy: 0.9713 - val_loss: 0.0944 - val_accuracy: 1.0000\n",
            "Epoch 91/100\n",
            "4/4 [==============================] - 0s 15ms/step - loss: 0.0914 - accuracy: 0.9767 - val_loss: 0.0912 - val_accuracy: 1.0000\n",
            "Epoch 92/100\n",
            "4/4 [==============================] - 0s 16ms/step - loss: 0.0718 - accuracy: 0.9827 - val_loss: 0.0984 - val_accuracy: 0.9667\n",
            "Epoch 93/100\n",
            "4/4 [==============================] - 0s 16ms/step - loss: 0.0786 - accuracy: 0.9775 - val_loss: 0.0911 - val_accuracy: 1.0000\n",
            "Epoch 94/100\n",
            "4/4 [==============================] - 0s 15ms/step - loss: 0.0937 - accuracy: 0.9671 - val_loss: 0.0876 - val_accuracy: 1.0000\n",
            "Epoch 95/100\n",
            "4/4 [==============================] - 0s 16ms/step - loss: 0.0884 - accuracy: 0.9767 - val_loss: 0.1001 - val_accuracy: 0.9667\n",
            "Epoch 96/100\n",
            "4/4 [==============================] - 0s 17ms/step - loss: 0.0759 - accuracy: 0.9796 - val_loss: 0.1045 - val_accuracy: 0.9667\n",
            "Epoch 97/100\n",
            "4/4 [==============================] - 0s 16ms/step - loss: 0.0787 - accuracy: 0.9744 - val_loss: 0.0852 - val_accuracy: 1.0000\n",
            "Epoch 98/100\n",
            "4/4 [==============================] - 0s 18ms/step - loss: 0.0780 - accuracy: 0.9860 - val_loss: 0.0844 - val_accuracy: 1.0000\n",
            "Epoch 99/100\n",
            "4/4 [==============================] - 0s 17ms/step - loss: 0.0785 - accuracy: 0.9679 - val_loss: 0.0881 - val_accuracy: 1.0000\n",
            "Epoch 100/100\n",
            "4/4 [==============================] - 0s 16ms/step - loss: 0.0794 - accuracy: 0.9733 - val_loss: 0.0898 - val_accuracy: 1.0000\n"
          ],
          "name": "stdout"
        }
      ]
    },
    {
      "cell_type": "code",
      "metadata": {
        "colab": {
          "base_uri": "https://localhost:8080/",
          "height": 485
        },
        "id": "B9Os58bqsxz3",
        "outputId": "2c421c71-7d24-4d9c-f1e1-49c8381089f2"
      },
      "source": [
        "import matplotlib.pyplot as plt\r\n",
        "%matplotlib inline\r\n",
        "\r\n",
        "plt.figure(figsize=(12,8)) # 표의 사이즈\r\n",
        "plt.plot(hist.history['loss']) # 훈련 손실값을 나타냄\r\n",
        "plt.plot(hist.history['val_loss']) # 검증 손실값을 나타냄\r\n",
        "#plt.plot(hist.history['acc']) # 버전업 하면서 바뀜\r\n",
        "#plt.plot(hist.history['val_acc']) # 버전업 하면서 바뀜\r\n",
        "plt.plot(hist.history['accuracy']) # 훈련 정확도를 나타냄\r\n",
        "plt.plot(hist.history['val_accuracy']) # 검증 정확도를 나타냄\r\n",
        "plt.legend(['loss','val_loss', 'acc','val_acc']) # 항목 구현\r\n",
        "plt.grid() # 그리드 형식으로\r\n",
        "plt.show() # 보여줌"
      ],
      "execution_count": 58,
      "outputs": [
        {
          "output_type": "display_data",
          "data": {
            "image/png": "[encoded data removed]",
            "text/plain": [
              "<Figure size 864x576 with 1 Axes>"
            ]
          },
          "metadata": {
            "tags": [],
            "needs_background": "light"
          }
        }
      ]
    },
    {
      "cell_type": "code",
      "metadata": {
        "colab": {
          "base_uri": "https://localhost:8080/"
        },
        "id": "8Mvwknres0X-",
        "outputId": "9792f553-7aa7-4be5-ff36-f7369be092fb"
      },
      "source": [
        "# 테스트 데이터를 평가\r\n",
        "loss, accuracy = model.evaluate(X_test, y_test)\r\n",
        "print(\"Accuracy = {:.2f}\".format(accuracy))\r\n",
        "# 결과 : 100% 정확도"
      ],
      "execution_count": 59,
      "outputs": [
        {
          "output_type": "stream",
          "text": [
            "1/1 [==============================] - 0s 15ms/step - loss: 0.0898 - accuracy: 1.0000\n",
            "Accuracy = 1.00\n"
          ],
          "name": "stdout"
        }
      ]
    },
    {
      "cell_type": "code",
      "metadata": {
        "colab": {
          "base_uri": "https://localhost:8080/"
        },
        "id": "iOkCVopos8FZ",
        "outputId": "a82f9d59-43f5-4a39-c800-b40996d8f3ed"
      },
      "source": [
        "# 예측값과 테스트값의 일치성\r\n",
        "# recall은 실제 데이터 중 몇 개를 예측에 성공했는지\r\n",
        "import numpy as np\r\n",
        "from sklearn.metrics import classification_report,confusion_matrix\r\n",
        "\r\n",
        "y_pred = model.predict(X_test)\r\n",
        "y_test_class = np.argmax(y_test,axis=1)\r\n",
        "y_pred_class = np.argmax(y_pred,axis=1)\r\n",
        "\r\n",
        "print(classification_report(y_test_class,y_pred_class))\r\n",
        "print(confusion_matrix(y_test_class,y_pred_class))"
      ],
      "execution_count": 60,
      "outputs": [
        {
          "output_type": "stream",
          "text": [
            "              precision    recall  f1-score   support\n",
            "\n",
            "           0       1.00      1.00      1.00        11\n",
            "           1       1.00      1.00      1.00        13\n",
            "           2       1.00      1.00      1.00         6\n",
            "\n",
            "    accuracy                           1.00        30\n",
            "   macro avg       1.00      1.00      1.00        30\n",
            "weighted avg       1.00      1.00      1.00        30\n",
            "\n",
            "[[11  0  0]\n",
            " [ 0 13  0]\n",
            " [ 0  0  6]]\n"
          ],
          "name": "stdout"
        }
      ]
    },
    {
      "cell_type": "code",
      "metadata": {
        "colab": {
          "base_uri": "https://localhost:8080/"
        },
        "id": "550tGIWGs9jb",
        "outputId": "1b6642db-0b97-454b-ff8e-7c083a51beea"
      },
      "source": [
        "# 임의 데이터 값을 넣어서 어떻게 판단하는지 \r\n",
        "test_set = np.array([[5, 2.9, 1, 0.2]])\r\n",
        "print(\"Predicted target name: {}\".format(\r\n",
        "    iris['species'].unique()[model.predict_classes(test_set)]))"
      ],
      "execution_count": 61,
      "outputs": [
        {
          "output_type": "stream",
          "text": [
            "Predicted target name: ['setosa']\n"
          ],
          "name": "stdout"
        },
        {
          "output_type": "stream",
          "text": [
            "/usr/local/lib/python3.6/dist-packages/tensorflow/python/keras/engine/sequential.py:450: UserWarning: `model.predict_classes()` is deprecated and will be removed after 2021-01-01. Please use instead:* `np.argmax(model.predict(x), axis=-1)`,   if your model does multi-class classification   (e.g. if it uses a `softmax` last-layer activation).* `(model.predict(x) > 0.5).astype(\"int32\")`,   if your model does binary classification   (e.g. if it uses a `sigmoid` last-layer activation).\n",
            "  warnings.warn('`model.predict_classes()` is deprecated and '\n"
          ],
          "name": "stderr"
        }
      ]
    },
    {
      "cell_type": "code",
      "metadata": {
        "colab": {
          "base_uri": "https://localhost:8080/",
          "height": 1000
        },
        "id": "6uLYbYGvs_VF",
        "outputId": "7cb6e8e6-e5fe-475c-8598-1c1ad3499823"
      },
      "source": [
        "# iris 특성의 종 중 하나다 versicolor일 경우의 데이터를 뽑아냄\r\n",
        "iris.query(\"species == 'versicolor'\")"
      ],
      "execution_count": 62,
      "outputs": [
        {
          "output_type": "execute_result",
          "data": {
            "text/html": [
              "<div>\n",
              "<style scoped>\n",
              "    .dataframe tbody tr th:only-of-type {\n",
              "        vertical-align: middle;\n",
              "    }\n",
              "\n",
              "    .dataframe tbody tr th {\n",
              "        vertical-align: top;\n",
              "    }\n",
              "\n",
              "    .dataframe thead th {\n",
              "        text-align: right;\n",
              "    }\n",
              "</style>\n",
              "<table border=\"1\" class=\"dataframe\">\n",
              "  <thead>\n",
              "    <tr style=\"text-align: right;\">\n",
              "      <th></th>\n",
              "      <th>sepal_length</th>\n",
              "      <th>sepal_width</th>\n",
              "      <th>petal_length</th>\n",
              "      <th>petal_width</th>\n",
              "      <th>species</th>\n",
              "    </tr>\n",
              "  </thead>\n",
              "  <tbody>\n",
              "    <tr>\n",
              "      <th>50</th>\n",
              "      <td>7.0</td>\n",
              "      <td>3.2</td>\n",
              "      <td>4.7</td>\n",
              "      <td>1.4</td>\n",
              "      <td>versicolor</td>\n",
              "    </tr>\n",
              "    <tr>\n",
              "      <th>51</th>\n",
              "      <td>6.4</td>\n",
              "      <td>3.2</td>\n",
              "      <td>4.5</td>\n",
              "      <td>1.5</td>\n",
              "      <td>versicolor</td>\n",
              "    </tr>\n",
              "    <tr>\n",
              "      <th>52</th>\n",
              "      <td>6.9</td>\n",
              "      <td>3.1</td>\n",
              "      <td>4.9</td>\n",
              "      <td>1.5</td>\n",
              "      <td>versicolor</td>\n",
              "    </tr>\n",
              "    <tr>\n",
              "      <th>53</th>\n",
              "      <td>5.5</td>\n",
              "      <td>2.3</td>\n",
              "      <td>4.0</td>\n",
              "      <td>1.3</td>\n",
              "      <td>versicolor</td>\n",
              "    </tr>\n",
              "    <tr>\n",
              "      <th>54</th>\n",
              "      <td>6.5</td>\n",
              "      <td>2.8</td>\n",
              "      <td>4.6</td>\n",
              "      <td>1.5</td>\n",
              "      <td>versicolor</td>\n",
              "    </tr>\n",
              "    <tr>\n",
              "      <th>55</th>\n",
              "      <td>5.7</td>\n",
              "      <td>2.8</td>\n",
              "      <td>4.5</td>\n",
              "      <td>1.3</td>\n",
              "      <td>versicolor</td>\n",
              "    </tr>\n",
              "    <tr>\n",
              "      <th>56</th>\n",
              "      <td>6.3</td>\n",
              "      <td>3.3</td>\n",
              "      <td>4.7</td>\n",
              "      <td>1.6</td>\n",
              "      <td>versicolor</td>\n",
              "    </tr>\n",
              "    <tr>\n",
              "      <th>57</th>\n",
              "      <td>4.9</td>\n",
              "      <td>2.4</td>\n",
              "      <td>3.3</td>\n",
              "      <td>1.0</td>\n",
              "      <td>versicolor</td>\n",
              "    </tr>\n",
              "    <tr>\n",
              "      <th>58</th>\n",
              "      <td>6.6</td>\n",
              "      <td>2.9</td>\n",
              "      <td>4.6</td>\n",
              "      <td>1.3</td>\n",
              "      <td>versicolor</td>\n",
              "    </tr>\n",
              "    <tr>\n",
              "      <th>59</th>\n",
              "      <td>5.2</td>\n",
              "      <td>2.7</td>\n",
              "      <td>3.9</td>\n",
              "      <td>1.4</td>\n",
              "      <td>versicolor</td>\n",
              "    </tr>\n",
              "    <tr>\n",
              "      <th>60</th>\n",
              "      <td>5.0</td>\n",
              "      <td>2.0</td>\n",
              "      <td>3.5</td>\n",
              "      <td>1.0</td>\n",
              "      <td>versicolor</td>\n",
              "    </tr>\n",
              "    <tr>\n",
              "      <th>61</th>\n",
              "      <td>5.9</td>\n",
              "      <td>3.0</td>\n",
              "      <td>4.2</td>\n",
              "      <td>1.5</td>\n",
              "      <td>versicolor</td>\n",
              "    </tr>\n",
              "    <tr>\n",
              "      <th>62</th>\n",
              "      <td>6.0</td>\n",
              "      <td>2.2</td>\n",
              "      <td>4.0</td>\n",
              "      <td>1.0</td>\n",
              "      <td>versicolor</td>\n",
              "    </tr>\n",
              "    <tr>\n",
              "      <th>63</th>\n",
              "      <td>6.1</td>\n",
              "      <td>2.9</td>\n",
              "      <td>4.7</td>\n",
              "      <td>1.4</td>\n",
              "      <td>versicolor</td>\n",
              "    </tr>\n",
              "    <tr>\n",
              "      <th>64</th>\n",
              "      <td>5.6</td>\n",
              "      <td>2.9</td>\n",
              "      <td>3.6</td>\n",
              "      <td>1.3</td>\n",
              "      <td>versicolor</td>\n",
              "    </tr>\n",
              "    <tr>\n",
              "      <th>65</th>\n",
              "      <td>6.7</td>\n",
              "      <td>3.1</td>\n",
              "      <td>4.4</td>\n",
              "      <td>1.4</td>\n",
              "      <td>versicolor</td>\n",
              "    </tr>\n",
              "    <tr>\n",
              "      <th>66</th>\n",
              "      <td>5.6</td>\n",
              "      <td>3.0</td>\n",
              "      <td>4.5</td>\n",
              "      <td>1.5</td>\n",
              "      <td>versicolor</td>\n",
              "    </tr>\n",
              "    <tr>\n",
              "      <th>67</th>\n",
              "      <td>5.8</td>\n",
              "      <td>2.7</td>\n",
              "      <td>4.1</td>\n",
              "      <td>1.0</td>\n",
              "      <td>versicolor</td>\n",
              "    </tr>\n",
              "    <tr>\n",
              "      <th>68</th>\n",
              "      <td>6.2</td>\n",
              "      <td>2.2</td>\n",
              "      <td>4.5</td>\n",
              "      <td>1.5</td>\n",
              "      <td>versicolor</td>\n",
              "    </tr>\n",
              "    <tr>\n",
              "      <th>69</th>\n",
              "      <td>5.6</td>\n",
              "      <td>2.5</td>\n",
              "      <td>3.9</td>\n",
              "      <td>1.1</td>\n",
              "      <td>versicolor</td>\n",
              "    </tr>\n",
              "    <tr>\n",
              "      <th>70</th>\n",
              "      <td>5.9</td>\n",
              "      <td>3.2</td>\n",
              "      <td>4.8</td>\n",
              "      <td>1.8</td>\n",
              "      <td>versicolor</td>\n",
              "    </tr>\n",
              "    <tr>\n",
              "      <th>71</th>\n",
              "      <td>6.1</td>\n",
              "      <td>2.8</td>\n",
              "      <td>4.0</td>\n",
              "      <td>1.3</td>\n",
              "      <td>versicolor</td>\n",
              "    </tr>\n",
              "    <tr>\n",
              "      <th>72</th>\n",
              "      <td>6.3</td>\n",
              "      <td>2.5</td>\n",
              "      <td>4.9</td>\n",
              "      <td>1.5</td>\n",
              "      <td>versicolor</td>\n",
              "    </tr>\n",
              "    <tr>\n",
              "      <th>73</th>\n",
              "      <td>6.1</td>\n",
              "      <td>2.8</td>\n",
              "      <td>4.7</td>\n",
              "      <td>1.2</td>\n",
              "      <td>versicolor</td>\n",
              "    </tr>\n",
              "    <tr>\n",
              "      <th>74</th>\n",
              "      <td>6.4</td>\n",
              "      <td>2.9</td>\n",
              "      <td>4.3</td>\n",
              "      <td>1.3</td>\n",
              "      <td>versicolor</td>\n",
              "    </tr>\n",
              "    <tr>\n",
              "      <th>75</th>\n",
              "      <td>6.6</td>\n",
              "      <td>3.0</td>\n",
              "      <td>4.4</td>\n",
              "      <td>1.4</td>\n",
              "      <td>versicolor</td>\n",
              "    </tr>\n",
              "    <tr>\n",
              "      <th>76</th>\n",
              "      <td>6.8</td>\n",
              "      <td>2.8</td>\n",
              "      <td>4.8</td>\n",
              "      <td>1.4</td>\n",
              "      <td>versicolor</td>\n",
              "    </tr>\n",
              "    <tr>\n",
              "      <th>77</th>\n",
              "      <td>6.7</td>\n",
              "      <td>3.0</td>\n",
              "      <td>5.0</td>\n",
              "      <td>1.7</td>\n",
              "      <td>versicolor</td>\n",
              "    </tr>\n",
              "    <tr>\n",
              "      <th>78</th>\n",
              "      <td>6.0</td>\n",
              "      <td>2.9</td>\n",
              "      <td>4.5</td>\n",
              "      <td>1.5</td>\n",
              "      <td>versicolor</td>\n",
              "    </tr>\n",
              "    <tr>\n",
              "      <th>79</th>\n",
              "      <td>5.7</td>\n",
              "      <td>2.6</td>\n",
              "      <td>3.5</td>\n",
              "      <td>1.0</td>\n",
              "      <td>versicolor</td>\n",
              "    </tr>\n",
              "    <tr>\n",
              "      <th>80</th>\n",
              "      <td>5.5</td>\n",
              "      <td>2.4</td>\n",
              "      <td>3.8</td>\n",
              "      <td>1.1</td>\n",
              "      <td>versicolor</td>\n",
              "    </tr>\n",
              "    <tr>\n",
              "      <th>81</th>\n",
              "      <td>5.5</td>\n",
              "      <td>2.4</td>\n",
              "      <td>3.7</td>\n",
              "      <td>1.0</td>\n",
              "      <td>versicolor</td>\n",
              "    </tr>\n",
              "    <tr>\n",
              "      <th>82</th>\n",
              "      <td>5.8</td>\n",
              "      <td>2.7</td>\n",
              "      <td>3.9</td>\n",
              "      <td>1.2</td>\n",
              "      <td>versicolor</td>\n",
              "    </tr>\n",
              "    <tr>\n",
              "      <th>83</th>\n",
              "      <td>6.0</td>\n",
              "      <td>2.7</td>\n",
              "      <td>5.1</td>\n",
              "      <td>1.6</td>\n",
              "      <td>versicolor</td>\n",
              "    </tr>\n",
              "    <tr>\n",
              "      <th>84</th>\n",
              "      <td>5.4</td>\n",
              "      <td>3.0</td>\n",
              "      <td>4.5</td>\n",
              "      <td>1.5</td>\n",
              "      <td>versicolor</td>\n",
              "    </tr>\n",
              "    <tr>\n",
              "      <th>85</th>\n",
              "      <td>6.0</td>\n",
              "      <td>3.4</td>\n",
              "      <td>4.5</td>\n",
              "      <td>1.6</td>\n",
              "      <td>versicolor</td>\n",
              "    </tr>\n",
              "    <tr>\n",
              "      <th>86</th>\n",
              "      <td>6.7</td>\n",
              "      <td>3.1</td>\n",
              "      <td>4.7</td>\n",
              "      <td>1.5</td>\n",
              "      <td>versicolor</td>\n",
              "    </tr>\n",
              "    <tr>\n",
              "      <th>87</th>\n",
              "      <td>6.3</td>\n",
              "      <td>2.3</td>\n",
              "      <td>4.4</td>\n",
              "      <td>1.3</td>\n",
              "      <td>versicolor</td>\n",
              "    </tr>\n",
              "    <tr>\n",
              "      <th>88</th>\n",
              "      <td>5.6</td>\n",
              "      <td>3.0</td>\n",
              "      <td>4.1</td>\n",
              "      <td>1.3</td>\n",
              "      <td>versicolor</td>\n",
              "    </tr>\n",
              "    <tr>\n",
              "      <th>89</th>\n",
              "      <td>5.5</td>\n",
              "      <td>2.5</td>\n",
              "      <td>4.0</td>\n",
              "      <td>1.3</td>\n",
              "      <td>versicolor</td>\n",
              "    </tr>\n",
              "    <tr>\n",
              "      <th>90</th>\n",
              "      <td>5.5</td>\n",
              "      <td>2.6</td>\n",
              "      <td>4.4</td>\n",
              "      <td>1.2</td>\n",
              "      <td>versicolor</td>\n",
              "    </tr>\n",
              "    <tr>\n",
              "      <th>91</th>\n",
              "      <td>6.1</td>\n",
              "      <td>3.0</td>\n",
              "      <td>4.6</td>\n",
              "      <td>1.4</td>\n",
              "      <td>versicolor</td>\n",
              "    </tr>\n",
              "    <tr>\n",
              "      <th>92</th>\n",
              "      <td>5.8</td>\n",
              "      <td>2.6</td>\n",
              "      <td>4.0</td>\n",
              "      <td>1.2</td>\n",
              "      <td>versicolor</td>\n",
              "    </tr>\n",
              "    <tr>\n",
              "      <th>93</th>\n",
              "      <td>5.0</td>\n",
              "      <td>2.3</td>\n",
              "      <td>3.3</td>\n",
              "      <td>1.0</td>\n",
              "      <td>versicolor</td>\n",
              "    </tr>\n",
              "    <tr>\n",
              "      <th>94</th>\n",
              "      <td>5.6</td>\n",
              "      <td>2.7</td>\n",
              "      <td>4.2</td>\n",
              "      <td>1.3</td>\n",
              "      <td>versicolor</td>\n",
              "    </tr>\n",
              "    <tr>\n",
              "      <th>95</th>\n",
              "      <td>5.7</td>\n",
              "      <td>3.0</td>\n",
              "      <td>4.2</td>\n",
              "      <td>1.2</td>\n",
              "      <td>versicolor</td>\n",
              "    </tr>\n",
              "    <tr>\n",
              "      <th>96</th>\n",
              "      <td>5.7</td>\n",
              "      <td>2.9</td>\n",
              "      <td>4.2</td>\n",
              "      <td>1.3</td>\n",
              "      <td>versicolor</td>\n",
              "    </tr>\n",
              "    <tr>\n",
              "      <th>97</th>\n",
              "      <td>6.2</td>\n",
              "      <td>2.9</td>\n",
              "      <td>4.3</td>\n",
              "      <td>1.3</td>\n",
              "      <td>versicolor</td>\n",
              "    </tr>\n",
              "    <tr>\n",
              "      <th>98</th>\n",
              "      <td>5.1</td>\n",
              "      <td>2.5</td>\n",
              "      <td>3.0</td>\n",
              "      <td>1.1</td>\n",
              "      <td>versicolor</td>\n",
              "    </tr>\n",
              "    <tr>\n",
              "      <th>99</th>\n",
              "      <td>5.7</td>\n",
              "      <td>2.8</td>\n",
              "      <td>4.1</td>\n",
              "      <td>1.3</td>\n",
              "      <td>versicolor</td>\n",
              "    </tr>\n",
              "  </tbody>\n",
              "</table>\n",
              "</div>"
            ],
            "text/plain": [
              "    sepal_length  sepal_width  petal_length  petal_width     species\n",
              "50           7.0          3.2           4.7          1.4  versicolor\n",
              "51           6.4          3.2           4.5          1.5  versicolor\n",
              "52           6.9          3.1           4.9          1.5  versicolor\n",
              "53           5.5          2.3           4.0          1.3  versicolor\n",
              "54           6.5          2.8           4.6          1.5  versicolor\n",
              "55           5.7          2.8           4.5          1.3  versicolor\n",
              "56           6.3          3.3           4.7          1.6  versicolor\n",
              "57           4.9          2.4           3.3          1.0  versicolor\n",
              "58           6.6          2.9           4.6          1.3  versicolor\n",
              "59           5.2          2.7           3.9          1.4  versicolor\n",
              "60           5.0          2.0           3.5          1.0  versicolor\n",
              "61           5.9          3.0           4.2          1.5  versicolor\n",
              "62           6.0          2.2           4.0          1.0  versicolor\n",
              "63           6.1          2.9           4.7          1.4  versicolor\n",
              "64           5.6          2.9           3.6          1.3  versicolor\n",
              "65           6.7          3.1           4.4          1.4  versicolor\n",
              "66           5.6          3.0           4.5          1.5  versicolor\n",
              "67           5.8          2.7           4.1          1.0  versicolor\n",
              "68           6.2          2.2           4.5          1.5  versicolor\n",
              "69           5.6          2.5           3.9          1.1  versicolor\n",
              "70           5.9          3.2           4.8          1.8  versicolor\n",
              "71           6.1          2.8           4.0          1.3  versicolor\n",
              "72           6.3          2.5           4.9          1.5  versicolor\n",
              "73           6.1          2.8           4.7          1.2  versicolor\n",
              "74           6.4          2.9           4.3          1.3  versicolor\n",
              "75           6.6          3.0           4.4          1.4  versicolor\n",
              "76           6.8          2.8           4.8          1.4  versicolor\n",
              "77           6.7          3.0           5.0          1.7  versicolor\n",
              "78           6.0          2.9           4.5          1.5  versicolor\n",
              "79           5.7          2.6           3.5          1.0  versicolor\n",
              "80           5.5          2.4           3.8          1.1  versicolor\n",
              "81           5.5          2.4           3.7          1.0  versicolor\n",
              "82           5.8          2.7           3.9          1.2  versicolor\n",
              "83           6.0          2.7           5.1          1.6  versicolor\n",
              "84           5.4          3.0           4.5          1.5  versicolor\n",
              "85           6.0          3.4           4.5          1.6  versicolor\n",
              "86           6.7          3.1           4.7          1.5  versicolor\n",
              "87           6.3          2.3           4.4          1.3  versicolor\n",
              "88           5.6          3.0           4.1          1.3  versicolor\n",
              "89           5.5          2.5           4.0          1.3  versicolor\n",
              "90           5.5          2.6           4.4          1.2  versicolor\n",
              "91           6.1          3.0           4.6          1.4  versicolor\n",
              "92           5.8          2.6           4.0          1.2  versicolor\n",
              "93           5.0          2.3           3.3          1.0  versicolor\n",
              "94           5.6          2.7           4.2          1.3  versicolor\n",
              "95           5.7          3.0           4.2          1.2  versicolor\n",
              "96           5.7          2.9           4.2          1.3  versicolor\n",
              "97           6.2          2.9           4.3          1.3  versicolor\n",
              "98           5.1          2.5           3.0          1.1  versicolor\n",
              "99           5.7          2.8           4.1          1.3  versicolor"
            ]
          },
          "metadata": {
            "tags": []
          },
          "execution_count": 62
        }
      ]
    },
    {
      "cell_type": "code",
      "metadata": {
        "colab": {
          "base_uri": "https://localhost:8080/"
        },
        "id": "XYsabnjZtCBw",
        "outputId": "ddadd3b5-baa1-4b69-ace9-2205c598500a"
      },
      "source": [
        "test_set = np.array([[7, 3.0, 5, 1.4]])\r\n",
        "print(\"Predicted target name: {}\".format(\r\n",
        "    iris['species'].unique()[model.predict_classes(test_set)]))"
      ],
      "execution_count": 63,
      "outputs": [
        {
          "output_type": "stream",
          "text": [
            "Predicted target name: ['versicolor']\n"
          ],
          "name": "stdout"
        },
        {
          "output_type": "stream",
          "text": [
            "/usr/local/lib/python3.6/dist-packages/tensorflow/python/keras/engine/sequential.py:450: UserWarning: `model.predict_classes()` is deprecated and will be removed after 2021-01-01. Please use instead:* `np.argmax(model.predict(x), axis=-1)`,   if your model does multi-class classification   (e.g. if it uses a `softmax` last-layer activation).* `(model.predict(x) > 0.5).astype(\"int32\")`,   if your model does binary classification   (e.g. if it uses a `sigmoid` last-layer activation).\n",
            "  warnings.warn('`model.predict_classes()` is deprecated and '\n"
          ],
          "name": "stderr"
        }
      ]
    },
    {
      "cell_type": "markdown",
      "metadata": {
        "id": "Sv72P_w7rHQJ"
      },
      "source": [
        "**3. CNN**\r\n",
        "\r\n",
        "\r\n",
        ">주제 : 1. CIFAR-10 분류(반드시 CNN 사용해 딥러닝 처리)\r\n",
        "\r\n"
      ]
    },
    {
      "cell_type": "markdown",
      "metadata": {
        "id": "zV1LbBk0v6QF"
      },
      "source": [
        "CNN이란 ? \r\n",
        "\r\n",
        "> CNN은 생명체의 시각 처리 방식을 모방하기 위해 convolution이라는 연산을 인공신경망에 도입함으로써 이미지 처리 분야에서 기존의 머신 러닝 알고리즘들을 압도하였다. 2016년에 공개된 알파고에서도 CNN 기반의 딥 러닝 알고리즘이 이용되었다. CNN에서는 입력 및 출력 부분에서 뉴런들이 느슨하게 연결되어 있다. 이러한 구조적 특징에 의해 CNN은 DFN이나 RNN에 비해 학습해야하는 가중치의 수가 적으며, 이 덕분에 학습 및 예측이 빠르다는 장점이 있다. 최근에는 CNN의 강력한 예측 성능과 계산상의 효율성을 바탕으로 이미지뿐만 아니라 시계열 데이터에도 CNN을 적용하는 연구가 활발히 진행되고 있다.\r\n",
        "\r\n"
      ]
    },
    {
      "cell_type": "code",
      "metadata": {
        "colab": {
          "base_uri": "https://localhost:8080/",
          "height": 1000
        },
        "id": "R_3oHK653Y2A",
        "outputId": "121e4d15-cd18-49b2-e37d-dcd211b3f045"
      },
      "source": [
        "# for cpu and gpu\r\n",
        "! pip install --upgrade tensorflow # 텐서플로 버전 업그레이드"
      ],
      "execution_count": 8,
      "outputs": [
        {
          "output_type": "stream",
          "text": [
            "Collecting tensorflow\n",
            "  Using cached https://files.pythonhosted.org/packages/7a/ce/e76c4e3d2c245f4f20eff1bf9cbcc602109448142881e1f946ba2d7327bb/tensorflow-2.4.0-cp36-cp36m-manylinux2010_x86_64.whl\n",
            "Requirement already satisfied, skipping upgrade: numpy~=1.19.2 in /usr/local/lib/python3.6/dist-packages (from tensorflow) (1.19.4)\n",
            "Requirement already satisfied, skipping upgrade: h5py~=2.10.0 in /usr/local/lib/python3.6/dist-packages (from tensorflow) (2.10.0)\n",
            "Requirement already satisfied, skipping upgrade: termcolor~=1.1.0 in /usr/local/lib/python3.6/dist-packages (from tensorflow) (1.1.0)\n",
            "Requirement already satisfied, skipping upgrade: wrapt~=1.12.1 in /usr/local/lib/python3.6/dist-packages (from tensorflow) (1.12.1)\n",
            "Collecting gast==0.3.3\n",
            "  Downloading https://files.pythonhosted.org/packages/d6/84/759f5dd23fec8ba71952d97bcc7e2c9d7d63bdc582421f3cd4be845f0c98/gast-0.3.3-py2.py3-none-any.whl\n",
            "Requirement already satisfied, skipping upgrade: protobuf>=3.9.2 in /usr/local/lib/python3.6/dist-packages (from tensorflow) (3.12.4)\n",
            "Requirement already satisfied, skipping upgrade: grpcio~=1.32.0 in /usr/local/lib/python3.6/dist-packages (from tensorflow) (1.32.0)\n",
            "Requirement already satisfied, skipping upgrade: astunparse~=1.6.3 in /usr/local/lib/python3.6/dist-packages (from tensorflow) (1.6.3)\n",
            "Requirement already satisfied, skipping upgrade: six~=1.15.0 in /usr/local/lib/python3.6/dist-packages (from tensorflow) (1.15.0)\n",
            "Collecting tensorboard~=2.4\n",
            "  Using cached https://files.pythonhosted.org/packages/02/83/179c8f76e5716030cc3ee9433721161cfcc1d854e9ba20c9205180bb100a/tensorboard-2.4.0-py3-none-any.whl\n",
            "Requirement already satisfied, skipping upgrade: google-pasta~=0.2 in /usr/local/lib/python3.6/dist-packages (from tensorflow) (0.2.0)\n",
            "Requirement already satisfied, skipping upgrade: keras-preprocessing~=1.1.2 in /usr/local/lib/python3.6/dist-packages (from tensorflow) (1.1.2)\n",
            "Requirement already satisfied, skipping upgrade: wheel~=0.35 in /usr/local/lib/python3.6/dist-packages (from tensorflow) (0.36.1)\n",
            "Requirement already satisfied, skipping upgrade: typing-extensions~=3.7.4 in /usr/local/lib/python3.6/dist-packages (from tensorflow) (3.7.4.3)\n",
            "Collecting tensorflow-estimator<2.5.0,>=2.4.0rc0\n",
            "  Using cached https://files.pythonhosted.org/packages/74/7e/622d9849abf3afb81e482ffc170758742e392ee129ce1540611199a59237/tensorflow_estimator-2.4.0-py2.py3-none-any.whl\n",
            "Requirement already satisfied, skipping upgrade: flatbuffers~=1.12.0 in /usr/local/lib/python3.6/dist-packages (from tensorflow) (1.12)\n",
            "Requirement already satisfied, skipping upgrade: absl-py~=0.10 in /usr/local/lib/python3.6/dist-packages (from tensorflow) (0.10.0)\n",
            "Requirement already satisfied, skipping upgrade: opt-einsum~=3.3.0 in /usr/local/lib/python3.6/dist-packages (from tensorflow) (3.3.0)\n",
            "Requirement already satisfied, skipping upgrade: setuptools in /usr/local/lib/python3.6/dist-packages (from protobuf>=3.9.2->tensorflow) (50.3.2)\n",
            "Requirement already satisfied, skipping upgrade: markdown>=2.6.8 in /usr/local/lib/python3.6/dist-packages (from tensorboard~=2.4->tensorflow) (3.3.3)\n",
            "Requirement already satisfied, skipping upgrade: requests<3,>=2.21.0 in /usr/local/lib/python3.6/dist-packages (from tensorboard~=2.4->tensorflow) (2.23.0)\n",
            "Requirement already satisfied, skipping upgrade: google-auth-oauthlib<0.5,>=0.4.1 in /usr/local/lib/python3.6/dist-packages (from tensorboard~=2.4->tensorflow) (0.4.2)\n",
            "Requirement already satisfied, skipping upgrade: google-auth<2,>=1.6.3 in /usr/local/lib/python3.6/dist-packages (from tensorboard~=2.4->tensorflow) (1.17.2)\n",
            "Requirement already satisfied, skipping upgrade: tensorboard-plugin-wit>=1.6.0 in /usr/local/lib/python3.6/dist-packages (from tensorboard~=2.4->tensorflow) (1.7.0)\n",
            "Requirement already satisfied, skipping upgrade: werkzeug>=0.11.15 in /usr/local/lib/python3.6/dist-packages (from tensorboard~=2.4->tensorflow) (1.0.1)\n",
            "Requirement already satisfied, skipping upgrade: importlib-metadata; python_version < \"3.8\" in /usr/local/lib/python3.6/dist-packages (from markdown>=2.6.8->tensorboard~=2.4->tensorflow) (3.1.1)\n",
            "Requirement already satisfied, skipping upgrade: urllib3!=1.25.0,!=1.25.1,<1.26,>=1.21.1 in /usr/local/lib/python3.6/dist-packages (from requests<3,>=2.21.0->tensorboard~=2.4->tensorflow) (1.24.3)\n",
            "Requirement already satisfied, skipping upgrade: certifi>=2017.4.17 in /usr/local/lib/python3.6/dist-packages (from requests<3,>=2.21.0->tensorboard~=2.4->tensorflow) (2020.12.5)\n",
            "Requirement already satisfied, skipping upgrade: chardet<4,>=3.0.2 in /usr/local/lib/python3.6/dist-packages (from requests<3,>=2.21.0->tensorboard~=2.4->tensorflow) (3.0.4)\n",
            "Requirement already satisfied, skipping upgrade: idna<3,>=2.5 in /usr/local/lib/python3.6/dist-packages (from requests<3,>=2.21.0->tensorboard~=2.4->tensorflow) (2.10)\n",
            "Requirement already satisfied, skipping upgrade: requests-oauthlib>=0.7.0 in /usr/local/lib/python3.6/dist-packages (from google-auth-oauthlib<0.5,>=0.4.1->tensorboard~=2.4->tensorflow) (1.3.0)\n",
            "Requirement already satisfied, skipping upgrade: rsa<5,>=3.1.4; python_version >= \"3\" in /usr/local/lib/python3.6/dist-packages (from google-auth<2,>=1.6.3->tensorboard~=2.4->tensorflow) (4.6)\n",
            "Requirement already satisfied, skipping upgrade: pyasn1-modules>=0.2.1 in /usr/local/lib/python3.6/dist-packages (from google-auth<2,>=1.6.3->tensorboard~=2.4->tensorflow) (0.2.8)\n",
            "Requirement already satisfied, skipping upgrade: cachetools<5.0,>=2.0.0 in /usr/local/lib/python3.6/dist-packages (from google-auth<2,>=1.6.3->tensorboard~=2.4->tensorflow) (4.1.1)\n",
            "Requirement already satisfied, skipping upgrade: zipp>=0.5 in /usr/local/lib/python3.6/dist-packages (from importlib-metadata; python_version < \"3.8\"->markdown>=2.6.8->tensorboard~=2.4->tensorflow) (3.4.0)\n",
            "Requirement already satisfied, skipping upgrade: oauthlib>=3.0.0 in /usr/local/lib/python3.6/dist-packages (from requests-oauthlib>=0.7.0->google-auth-oauthlib<0.5,>=0.4.1->tensorboard~=2.4->tensorflow) (3.1.0)\n",
            "Requirement already satisfied, skipping upgrade: pyasn1>=0.1.3 in /usr/local/lib/python3.6/dist-packages (from rsa<5,>=3.1.4; python_version >= \"3\"->google-auth<2,>=1.6.3->tensorboard~=2.4->tensorflow) (0.4.8)\n",
            "Installing collected packages: gast, tensorboard, tensorflow-estimator, tensorflow\n",
            "  Found existing installation: gast 0.2.2\n",
            "    Uninstalling gast-0.2.2:\n",
            "      Successfully uninstalled gast-0.2.2\n",
            "  Found existing installation: tensorboard 1.15.0\n",
            "    Uninstalling tensorboard-1.15.0:\n",
            "      Successfully uninstalled tensorboard-1.15.0\n",
            "  Found existing installation: tensorflow-estimator 1.15.1\n",
            "    Uninstalling tensorflow-estimator-1.15.1:\n",
            "      Successfully uninstalled tensorflow-estimator-1.15.1\n",
            "  Found existing installation: tensorflow 1.15.2\n",
            "    Uninstalling tensorflow-1.15.2:\n",
            "      Successfully uninstalled tensorflow-1.15.2\n",
            "Successfully installed gast-0.3.3 tensorboard-2.4.0 tensorflow-2.4.0 tensorflow-estimator-2.4.0\n"
          ],
          "name": "stdout"
        },
        {
          "output_type": "display_data",
          "data": {
            "application/vnd.colab-display-data+json": {
              "pip_warning": {
                "packages": [
                  "gast",
                  "tensorboard",
                  "tensorflow",
                  "tensorflow_estimator"
                ]
              }
            }
          },
          "metadata": {
            "tags": []
          }
        }
      ]
    },
    {
      "cell_type": "code",
      "metadata": {
        "id": "i57DjV2Jakuo"
      },
      "source": [
        "# 텐서플로 2.0 버전 선택(안해도됨!!!!)\r\n",
        "try:\r\n",
        "    # %tensorflow_version only exists in Colab.\r\n",
        "    %tensorflow_version 2.x\r\n",
        "except Exception:\r\n",
        "    pass\r\n",
        "import tensorflow as tf    "
      ],
      "execution_count": 1,
      "outputs": []
    },
    {
      "cell_type": "code",
      "metadata": {
        "colab": {
          "base_uri": "https://localhost:8080/",
          "height": 35
        },
        "id": "NSsp_d2C1uaN",
        "outputId": "6b516af0-d16f-4d4a-e66b-4ee438948239"
      },
      "source": [
        "# 텐서플로의 버전 확인\r\n",
        "import tensorflow as tf \r\n",
        "tf.__version__"
      ],
      "execution_count": 2,
      "outputs": [
        {
          "output_type": "execute_result",
          "data": {
            "application/vnd.google.colaboratory.intrinsic+json": {
              "type": "string"
            },
            "text/plain": [
              "'2.4.0'"
            ]
          },
          "metadata": {
            "tags": []
          },
          "execution_count": 2
        }
      ]
    },
    {
      "cell_type": "code",
      "metadata": {
        "id": "LZ5VeMp8rDPz"
      },
      "source": [
        "# 케라스 데이터셋에 있는 cifar10f를 다운로드\r\n",
        "from keras.datasets import cifar10 \r\n",
        "\r\n",
        "(train_images, train_labels), (test_images, test_labels) = cifar10.load_data()"
      ],
      "execution_count": 3,
      "outputs": []
    },
    {
      "cell_type": "code",
      "metadata": {
        "colab": {
          "base_uri": "https://localhost:8080/"
        },
        "id": "dwkzFqOjme9j",
        "outputId": "21eb9470-fc31-49f9-9e4b-09d58915b76f"
      },
      "source": [
        "# 가져온 데이터셋을 살펴봄\r\n",
        "\r\n",
        "# 32X32 크기의 RGB 패널로 구성된 이미지가 각각 학습용 5000개, 테스트용 1000개가 들어있음\r\n",
        "print(train_images.shape, train_labels.shape) # (50000, 32, 32, 3) (50000, 1) \r\n",
        "print(test_images.shape, test_labels.shape) # (10000, 32, 32, 3) (10000, 1)"
      ],
      "execution_count": 4,
      "outputs": [
        {
          "output_type": "stream",
          "text": [
            "(50000, 32, 32, 3) (50000, 1)\n",
            "(10000, 32, 32, 3) (10000, 1)\n"
          ],
          "name": "stdout"
        }
      ]
    },
    {
      "cell_type": "code",
      "metadata": {
        "colab": {
          "base_uri": "https://localhost:8080/",
          "height": 127
        },
        "id": "rYumJrRwosfN",
        "outputId": "2ff1816c-f538-4adc-9d4c-0f914149e9c3"
      },
      "source": [
        "# 데이터 시각화를 위해 matplotlib를 import 해줌\r\n",
        "import matplotlib.pyplot as plt \r\n",
        "%matplotlib inline \r\n",
        "\r\n",
        "# 학습용 데이터를 5번 이미지와 그에 대한 예측값을 출력\r\n",
        "for i in range(5): \r\n",
        "  plt.subplot(2, 5, i + 1) # subplot(행, 열, 숫자 이미지 출력할 순서) 함수\r\n",
        "  plt.imshow(train_images[i]) # 학습용의 이미지를 보여줌\r\n",
        "  print(train_labels[i], end=\", \") # 학습용의 숫자로 된 라벨을 출력\r\n",
        "plt.show()"
      ],
      "execution_count": 5,
      "outputs": [
        {
          "output_type": "stream",
          "text": [
            "[6], [9], [9], [4], [1], "
          ],
          "name": "stdout"
        },
        {
          "output_type": "display_data",
          "data": {
            "image/png": "[encoded data removed]",
            "text/plain": [
              "<Figure size 432x288 with 5 Axes>"
            ]
          },
          "metadata": {
            "tags": [],
            "needs_background": "light"
          }
        }
      ]
    },
    {
      "cell_type": "code",
      "metadata": {
        "colab": {
          "base_uri": "https://localhost:8080/"
        },
        "id": "_8Hr7IyupEbc",
        "outputId": "a36a13d7-0e98-4c2c-d111-40cab5c2800f"
      },
      "source": [
        "# RGB 채널을 각각 0~255까지의 값을 갖고 있음\r\n",
        "from keras.utils import to_categorical \r\n",
        "\r\n",
        "train_images = train_images.astype('float32') # 타입을 실수형으로 바꿔줌 # 255.0 \r\n",
        "test_images = test_images.astype('float32') # 타입을 실수형으로 바꿔줌 # 255.0 \r\n",
        "\r\n",
        "# 라벨을 범주형으로 인코딩하기 위함\r\n",
        "train_labels = to_categorical(train_labels, 10) \r\n",
        "test_labels = to_categorical(test_labels, 10)\r\n",
        "print(train_labels, test_images)"
      ],
      "execution_count": 6,
      "outputs": [
        {
          "output_type": "stream",
          "text": [
            "[[0. 0. 0. ... 0. 0. 0.]\n",
            " [0. 0. 0. ... 0. 0. 1.]\n",
            " [0. 0. 0. ... 0. 0. 1.]\n",
            " ...\n",
            " [0. 0. 0. ... 0. 0. 1.]\n",
            " [0. 1. 0. ... 0. 0. 0.]\n",
            " [0. 1. 0. ... 0. 0. 0.]] [[[[158. 112.  49.]\n",
            "   [159. 111.  47.]\n",
            "   [165. 116.  51.]\n",
            "   ...\n",
            "   [137.  95.  36.]\n",
            "   [126.  91.  36.]\n",
            "   [116.  85.  33.]]\n",
            "\n",
            "  [[152. 112.  51.]\n",
            "   [151. 110.  40.]\n",
            "   [159. 114.  45.]\n",
            "   ...\n",
            "   [136.  95.  31.]\n",
            "   [125.  91.  32.]\n",
            "   [119.  88.  34.]]\n",
            "\n",
            "  [[151. 110.  47.]\n",
            "   [151. 109.  33.]\n",
            "   [158. 111.  36.]\n",
            "   ...\n",
            "   [139.  98.  34.]\n",
            "   [130.  95.  34.]\n",
            "   [120.  89.  33.]]\n",
            "\n",
            "  ...\n",
            "\n",
            "  [[ 68. 124. 177.]\n",
            "   [ 42. 100. 148.]\n",
            "   [ 31.  88. 137.]\n",
            "   ...\n",
            "   [ 38.  97. 146.]\n",
            "   [ 13.  64. 108.]\n",
            "   [ 40.  85. 127.]]\n",
            "\n",
            "  [[ 61. 116. 168.]\n",
            "   [ 49. 102. 148.]\n",
            "   [ 35.  85. 132.]\n",
            "   ...\n",
            "   [ 26.  82. 130.]\n",
            "   [ 29.  82. 126.]\n",
            "   [ 20.  64. 107.]]\n",
            "\n",
            "  [[ 54. 107. 160.]\n",
            "   [ 56. 105. 149.]\n",
            "   [ 45.  89. 132.]\n",
            "   ...\n",
            "   [ 24.  77. 124.]\n",
            "   [ 34.  84. 129.]\n",
            "   [ 21.  67. 110.]]]\n",
            "\n",
            "\n",
            " [[[235. 235. 235.]\n",
            "   [231. 231. 231.]\n",
            "   [232. 232. 232.]\n",
            "   ...\n",
            "   [233. 233. 233.]\n",
            "   [233. 233. 233.]\n",
            "   [232. 232. 232.]]\n",
            "\n",
            "  [[238. 238. 238.]\n",
            "   [235. 235. 235.]\n",
            "   [235. 235. 235.]\n",
            "   ...\n",
            "   [236. 236. 236.]\n",
            "   [236. 236. 236.]\n",
            "   [235. 235. 235.]]\n",
            "\n",
            "  [[237. 237. 237.]\n",
            "   [234. 234. 234.]\n",
            "   [234. 234. 234.]\n",
            "   ...\n",
            "   [235. 235. 235.]\n",
            "   [235. 235. 235.]\n",
            "   [234. 234. 234.]]\n",
            "\n",
            "  ...\n",
            "\n",
            "  [[ 87.  99.  89.]\n",
            "   [ 43.  51.  37.]\n",
            "   [ 19.  23.  11.]\n",
            "   ...\n",
            "   [169. 184. 179.]\n",
            "   [182. 197. 193.]\n",
            "   [188. 202. 201.]]\n",
            "\n",
            "  [[ 82.  96.  82.]\n",
            "   [ 46.  57.  36.]\n",
            "   [ 36.  44.  22.]\n",
            "   ...\n",
            "   [174. 189. 183.]\n",
            "   [185. 200. 196.]\n",
            "   [187. 202. 200.]]\n",
            "\n",
            "  [[ 85. 101.  83.]\n",
            "   [ 62.  75.  48.]\n",
            "   [ 58.  67.  38.]\n",
            "   ...\n",
            "   [168. 183. 178.]\n",
            "   [180. 195. 191.]\n",
            "   [186. 200. 199.]]]\n",
            "\n",
            "\n",
            " [[[158. 190. 222.]\n",
            "   [158. 187. 218.]\n",
            "   [139. 166. 194.]\n",
            "   ...\n",
            "   [228. 231. 234.]\n",
            "   [237. 239. 243.]\n",
            "   [238. 241. 246.]]\n",
            "\n",
            "  [[170. 200. 229.]\n",
            "   [172. 199. 226.]\n",
            "   [151. 176. 201.]\n",
            "   ...\n",
            "   [232. 232. 236.]\n",
            "   [246. 246. 250.]\n",
            "   [246. 247. 251.]]\n",
            "\n",
            "  [[174. 201. 225.]\n",
            "   [176. 200. 222.]\n",
            "   [157. 179. 199.]\n",
            "   ...\n",
            "   [230. 229. 232.]\n",
            "   [250. 249. 251.]\n",
            "   [245. 244. 247.]]\n",
            "\n",
            "  ...\n",
            "\n",
            "  [[ 31.  40.  45.]\n",
            "   [ 30.  39.  44.]\n",
            "   [ 26.  35.  40.]\n",
            "   ...\n",
            "   [ 37.  40.  46.]\n",
            "   [  9.  13.  14.]\n",
            "   [  4.   7.   5.]]\n",
            "\n",
            "  [[ 23.  34.  39.]\n",
            "   [ 27.  38.  43.]\n",
            "   [ 25.  36.  41.]\n",
            "   ...\n",
            "   [ 19.  20.  24.]\n",
            "   [  4.   6.   3.]\n",
            "   [  5.   7.   3.]]\n",
            "\n",
            "  [[ 28.  41.  47.]\n",
            "   [ 30.  43.  50.]\n",
            "   [ 32.  45.  52.]\n",
            "   ...\n",
            "   [  5.   6.   8.]\n",
            "   [  4.   5.   3.]\n",
            "   [  7.   8.   7.]]]\n",
            "\n",
            "\n",
            " ...\n",
            "\n",
            "\n",
            " [[[ 20.  15.  12.]\n",
            "   [ 19.  14.  11.]\n",
            "   [ 15.  14.  11.]\n",
            "   ...\n",
            "   [ 10.   9.   7.]\n",
            "   [ 12.  11.   9.]\n",
            "   [ 13.  12.  10.]]\n",
            "\n",
            "  [[ 21.  16.  13.]\n",
            "   [ 20.  16.  13.]\n",
            "   [ 18.  17.  12.]\n",
            "   ...\n",
            "   [ 10.   9.   7.]\n",
            "   [ 10.   9.   7.]\n",
            "   [ 12.  11.   9.]]\n",
            "\n",
            "  [[ 21.  16.  13.]\n",
            "   [ 21.  17.  12.]\n",
            "   [ 20.  18.  11.]\n",
            "   ...\n",
            "   [ 12.  11.   9.]\n",
            "   [ 12.  11.   9.]\n",
            "   [ 13.  12.  10.]]\n",
            "\n",
            "  ...\n",
            "\n",
            "  [[ 33.  25.  13.]\n",
            "   [ 34.  26.  15.]\n",
            "   [ 34.  26.  15.]\n",
            "   ...\n",
            "   [ 28.  25.  52.]\n",
            "   [ 29.  25.  58.]\n",
            "   [ 23.  20.  42.]]\n",
            "\n",
            "  [[ 33.  25.  14.]\n",
            "   [ 34.  26.  15.]\n",
            "   [ 34.  26.  15.]\n",
            "   ...\n",
            "   [ 27.  24.  52.]\n",
            "   [ 27.  24.  56.]\n",
            "   [ 25.  22.  47.]]\n",
            "\n",
            "  [[ 31.  23.  12.]\n",
            "   [ 32.  24.  13.]\n",
            "   [ 33.  25.  14.]\n",
            "   ...\n",
            "   [ 24.  23.  50.]\n",
            "   [ 26.  23.  53.]\n",
            "   [ 25.  20.  47.]]]\n",
            "\n",
            "\n",
            " [[[ 25.  40.  12.]\n",
            "   [ 15.  36.   3.]\n",
            "   [ 23.  41.  18.]\n",
            "   ...\n",
            "   [ 61.  82.  78.]\n",
            "   [ 92. 113. 112.]\n",
            "   [ 75.  89.  92.]]\n",
            "\n",
            "  [[ 12.  25.   6.]\n",
            "   [ 20.  37.   7.]\n",
            "   [ 24.  36.  15.]\n",
            "   ...\n",
            "   [115. 134. 138.]\n",
            "   [149. 168. 177.]\n",
            "   [104. 117. 131.]]\n",
            "\n",
            "  [[ 12.  25.  11.]\n",
            "   [ 15.  29.   6.]\n",
            "   [ 34.  40.  24.]\n",
            "   ...\n",
            "   [154. 172. 182.]\n",
            "   [157. 175. 192.]\n",
            "   [116. 129. 151.]]\n",
            "\n",
            "  ...\n",
            "\n",
            "  [[100. 129.  81.]\n",
            "   [103. 132.  84.]\n",
            "   [104. 134.  86.]\n",
            "   ...\n",
            "   [ 97. 128.  84.]\n",
            "   [ 98. 126.  84.]\n",
            "   [ 91. 121.  79.]]\n",
            "\n",
            "  [[103. 132.  83.]\n",
            "   [104. 131.  83.]\n",
            "   [107. 135.  87.]\n",
            "   ...\n",
            "   [101. 132.  87.]\n",
            "   [ 99. 127.  84.]\n",
            "   [ 92. 121.  79.]]\n",
            "\n",
            "  [[ 95. 126.  78.]\n",
            "   [ 95. 123.  76.]\n",
            "   [101. 128.  81.]\n",
            "   ...\n",
            "   [ 93. 124.  80.]\n",
            "   [ 95. 123.  81.]\n",
            "   [ 92. 120.  80.]]]\n",
            "\n",
            "\n",
            " [[[ 73.  78.  75.]\n",
            "   [ 98. 103. 113.]\n",
            "   [ 99. 106. 114.]\n",
            "   ...\n",
            "   [135. 150. 152.]\n",
            "   [135. 149. 154.]\n",
            "   [203. 215. 223.]]\n",
            "\n",
            "  [[ 69.  73.  70.]\n",
            "   [ 84.  89.  97.]\n",
            "   [ 68.  75.  81.]\n",
            "   ...\n",
            "   [ 85.  95.  89.]\n",
            "   [ 71.  82.  80.]\n",
            "   [120. 133. 135.]]\n",
            "\n",
            "  [[ 69.  73.  70.]\n",
            "   [ 90.  95. 100.]\n",
            "   [ 62.  71.  74.]\n",
            "   ...\n",
            "   [ 74.  81.  70.]\n",
            "   [ 53.  62.  54.]\n",
            "   [ 62.  74.  69.]]\n",
            "\n",
            "  ...\n",
            "\n",
            "  [[123. 128.  96.]\n",
            "   [132. 132. 102.]\n",
            "   [129. 128. 100.]\n",
            "   ...\n",
            "   [108. 107.  88.]\n",
            "   [ 62.  60.  55.]\n",
            "   [ 27.  27.  28.]]\n",
            "\n",
            "  [[115. 121.  91.]\n",
            "   [123. 124.  95.]\n",
            "   [129. 126.  99.]\n",
            "   ...\n",
            "   [115. 116.  94.]\n",
            "   [ 66.  65.  59.]\n",
            "   [ 27.  27.  27.]]\n",
            "\n",
            "  [[116. 120.  90.]\n",
            "   [121. 122.  94.]\n",
            "   [129. 128. 101.]\n",
            "   ...\n",
            "   [116. 115.  94.]\n",
            "   [ 68.  65.  58.]\n",
            "   [ 27.  26.  26.]]]]\n"
          ],
          "name": "stdout"
        }
      ]
    },
    {
      "cell_type": "code",
      "metadata": {
        "id": "9WL13Ph6pOvq"
      },
      "source": [
        "# 컨볼루션 신경망 모델 정의\r\n",
        "# 컨볼루션 신경망? 풀링 레이어 또는 드롭아웃 없이 정의된 모델을 말함\r\n",
        "from keras.models import Sequential \r\n",
        "from keras.layers import Conv2D, MaxPool2D, Dropout, Flatten, Dense \r\n",
        "\r\n",
        "model = tf.keras.Sequential() \r\n",
        "# 데이터셋의 데이터 시퀀스를 학습하기 위한 모델 구성 객체\r\n",
        "\r\n",
        "# 총 3개의 블럭을 층층이 쌓아올리고, 각 블럭 내부에서도 층층히 쌓아올려 모델을 생성\r\n",
        "\r\n",
        "# 필터로 특징을 뽑아주는 컨볼로션 레이어(케라스에서 제공) Conv2D\r\n",
        "# Conv2D는 영상 인식에 주로 사용되며 필터가 탑재\r\n",
        "# Conv2D(컨볼루션 필터의 수, 컨볼루션 커널의(행, 열), 활성화 함수, 경계 처리 방법, 입력 형태(샘플수, 채널 수, 행, (열)))\r\n",
        "# 활성화 함수는 은닉층으로, 경계처리 방법은 출력 이미지 사이즈가 입력 이미지 사이즈와 동일, 샘플 수 \r\n",
        "model.add(Conv2D(32, (3, 3), activation='relu', padding='same', input_shape=(32, 32, 3))) \r\n",
        "model.add(Conv2D(32, (3, 3), activation='relu', padding='same')) \r\n",
        "# 최대 폴링 레이어(사소한 픽셀의 값을 무시하고, 가장 큰 특징을 나타내는 값을 기록하는 방식)\r\n",
        "model.add(MaxPool2D(pool_size=(2, 2))) # pool_size : 연산 범위(해당 번위 내의 가장 큰 수만을 가져옴)\r\n",
        "model.add(Dropout(0.25)) \r\n",
        "\r\n",
        "# 필터의 수는 64, 컨볼루션 커널은 3행 3열, 활성화 함수는 은닉층으로, 경계 처리 방법은 출력*입력 이미지 사이즈 동일하게\r\n",
        "model.add(Conv2D(64, (3, 3), activation='relu', padding='same')) \r\n",
        "model.add(Conv2D(64, (3, 3), activation='relu', padding='same')) \r\n",
        "model.add(MaxPool2D(pool_size=(2, 2)))  # pool_size : 연산 범위(해당 번위 내의 가장 큰 수만을 가져옴)\r\n",
        "model.add(Dropout(0.25)) # Dropout: 과적합 방지, 0.25비율로 학습 과정에서 무작위로 뉴런의 집합을 제거\r\n",
        "\r\n",
        "# CNN에서 컨볼루션 레이어와 폴링 레이어를 반복적으로 거치면 주요 특징 추출\r\n",
        "# 추출된 주요 특징은 2차원 데이터 이루어져 있지만, Dense와 같이 분류를 위한 학습 레이어에서는 1차원 데이터로 바꿔 학습\r\n",
        "model.add(Flatten()) # 2차원 데이터를 1차원 데이터로 바꾸는 역할의 레이어 \r\n",
        "model.add(Dense(512, activation='relu')) # 512개의 노드와 확성화 함수는 인닉 층으로 학습\r\n",
        "model.add(Dropout(0.5)) # 0.5비율로 학습 과정에서 무작위로 뉴런의 집합을 제거\r\n",
        "model.add(Dense(10, activation='softmax')) # 10개의 노드와 활성화 함수는 확률 값을 이용해 다양한 클래스를 분류하는 함수로 학습"
      ],
      "execution_count": 7,
      "outputs": []
    },
    {
      "cell_type": "code",
      "metadata": {
        "id": "qiZNDDHXp9DH"
      },
      "source": [
        "# 컴파일 단계\r\n",
        "from keras.optimizers import Adam \r\n",
        "# 손실함수로는 분류에 적합한 categorical_crossentropy 사용, 최적화 함수로는 학습률 0.001인 Adam 함수를 사용, 평가지표로는 정확도 사용\r\n",
        "model.compile(loss='categorical_crossentropy', optimizer=Adam(lr=0.001), metrics=['acc'])"
      ],
      "execution_count": 8,
      "outputs": []
    },
    {
      "cell_type": "code",
      "metadata": {
        "colab": {
          "base_uri": "https://localhost:8080/"
        },
        "id": "v7JMB1wFqExP",
        "outputId": "2b7de6ed-c5ab-47a9-ab41-4f1a44702b43"
      },
      "source": [
        "# fit 함수로 학습을 시키는 단계\r\n",
        "history = model.fit(train_images, train_labels, batch_size=128, epochs=20, validation_split=0.1)"
      ],
      "execution_count": 9,
      "outputs": [
        {
          "output_type": "stream",
          "text": [
            "Epoch 1/20\n",
            "352/352 [==============================] - 237s 672ms/step - loss: 4.9224 - acc: 0.2323 - val_loss: 1.4825 - val_acc: 0.4746\n",
            "Epoch 2/20\n",
            "352/352 [==============================] - 240s 681ms/step - loss: 1.5089 - acc: 0.4578 - val_loss: 1.2411 - val_acc: 0.5640\n",
            "Epoch 3/20\n",
            "352/352 [==============================] - 238s 677ms/step - loss: 1.3333 - acc: 0.5238 - val_loss: 1.1076 - val_acc: 0.6160\n",
            "Epoch 4/20\n",
            "352/352 [==============================] - 237s 674ms/step - loss: 1.2015 - acc: 0.5768 - val_loss: 1.0152 - val_acc: 0.6502\n",
            "Epoch 5/20\n",
            "352/352 [==============================] - 239s 679ms/step - loss: 1.0973 - acc: 0.6137 - val_loss: 0.9952 - val_acc: 0.6514\n",
            "Epoch 6/20\n",
            "352/352 [==============================] - 237s 675ms/step - loss: 1.0379 - acc: 0.6355 - val_loss: 0.9099 - val_acc: 0.6818\n",
            "Epoch 7/20\n",
            "352/352 [==============================] - 239s 679ms/step - loss: 0.9862 - acc: 0.6539 - val_loss: 0.8655 - val_acc: 0.6978\n",
            "Epoch 8/20\n",
            "352/352 [==============================] - 237s 673ms/step - loss: 0.9011 - acc: 0.6826 - val_loss: 0.8413 - val_acc: 0.7114\n",
            "Epoch 9/20\n",
            "352/352 [==============================] - 237s 675ms/step - loss: 0.8887 - acc: 0.6894 - val_loss: 0.8072 - val_acc: 0.7164\n",
            "Epoch 10/20\n",
            "352/352 [==============================] - 239s 680ms/step - loss: 0.8236 - acc: 0.7110 - val_loss: 0.8135 - val_acc: 0.7170\n",
            "Epoch 11/20\n",
            "352/352 [==============================] - 241s 685ms/step - loss: 0.7932 - acc: 0.7224 - val_loss: 0.7674 - val_acc: 0.7416\n",
            "Epoch 12/20\n",
            "352/352 [==============================] - 239s 678ms/step - loss: 0.7597 - acc: 0.7336 - val_loss: 0.7571 - val_acc: 0.7432\n",
            "Epoch 13/20\n",
            "352/352 [==============================] - 237s 673ms/step - loss: 0.7208 - acc: 0.7495 - val_loss: 0.7283 - val_acc: 0.7510\n",
            "Epoch 14/20\n",
            "352/352 [==============================] - 237s 675ms/step - loss: 0.6929 - acc: 0.7583 - val_loss: 0.7445 - val_acc: 0.7440\n",
            "Epoch 15/20\n",
            "352/352 [==============================] - 239s 678ms/step - loss: 0.6825 - acc: 0.7620 - val_loss: 0.7295 - val_acc: 0.7482\n",
            "Epoch 16/20\n",
            "352/352 [==============================] - 237s 673ms/step - loss: 0.6453 - acc: 0.7729 - val_loss: 0.7209 - val_acc: 0.7554\n",
            "Epoch 17/20\n",
            "352/352 [==============================] - 238s 675ms/step - loss: 0.6242 - acc: 0.7791 - val_loss: 0.7112 - val_acc: 0.7558\n",
            "Epoch 18/20\n",
            "352/352 [==============================] - 239s 679ms/step - loss: 0.6015 - acc: 0.7908 - val_loss: 0.7123 - val_acc: 0.7642\n",
            "Epoch 19/20\n",
            "352/352 [==============================] - 237s 674ms/step - loss: 0.6009 - acc: 0.7910 - val_loss: 0.7135 - val_acc: 0.7694\n",
            "Epoch 20/20\n",
            "352/352 [==============================] - 240s 681ms/step - loss: 0.5719 - acc: 0.7989 - val_loss: 0.7009 - val_acc: 0.7684\n"
          ],
          "name": "stdout"
        }
      ]
    },
    {
      "cell_type": "code",
      "metadata": {
        "id": "ztDeRnz0qc4f"
      },
      "source": [
        "# 필요한 모듈 가져오기\r\n",
        "from keras.models import load_model \r\n",
        "\r\n",
        "model.save('CNN_CIFAR10.h5') \r\n",
        "model = load_model('CNN_CIFAR10.h5')"
      ],
      "execution_count": 11,
      "outputs": []
    },
    {
      "cell_type": "code",
      "metadata": {
        "colab": {
          "base_uri": "https://localhost:8080/",
          "height": 279
        },
        "id": "B8WFW5XhqkYb",
        "outputId": "1ecd0117-4bc5-49cf-f4ff-3fed725fec54"
      },
      "source": [
        "plt.plot(history.history['acc'], label='acc') # 훈련 정확도를 나타냄\r\n",
        "plt.plot(history.history['val_acc'], label='val_acc') # 검증 정확도를 나타냄\r\n",
        "plt.ylabel('accuracy') # y축 라벨 만듦\r\n",
        "plt.xlabel('epoch') # x축 라벨 만듦\r\n",
        "\r\n",
        "plt.legend(loc='best') # 목록\r\n",
        "plt.show() # 보여줌"
      ],
      "execution_count": 12,
      "outputs": [
        {
          "output_type": "display_data",
          "data": {
            "image/png": "[encoded data removed]",
            "text/plain": [
              "<Figure size 432x288 with 1 Axes>"
            ]
          },
          "metadata": {
            "tags": [],
            "needs_background": "light"
          }
        }
      ]
    },
    {
      "cell_type": "code",
      "metadata": {
        "colab": {
          "base_uri": "https://localhost:8080/"
        },
        "id": "I6HL9tQP4FQl",
        "outputId": "f591f79f-17af-4fd0-dee9-1244b2ababe7"
      },
      "source": [
        "# 테스트 데이터로 평가\r\n",
        "test_loss, test_acc = model.evaluate(test_images, test_labels)"
      ],
      "execution_count": 13,
      "outputs": [
        {
          "output_type": "stream",
          "text": [
            "313/313 [==============================] - 14s 43ms/step - loss: 0.7183 - acc: 0.7568\n"
          ],
          "name": "stdout"
        }
      ]
    },
    {
      "cell_type": "code",
      "metadata": {
        "colab": {
          "base_uri": "https://localhost:8080/",
          "height": 238
        },
        "id": "P6z9o6E84SxD",
        "outputId": "f044bade-cc85-4130-cdcf-a490a7ad930c"
      },
      "source": [
        "# 테스트 데이터를 5번 이미지와 그에 대한 예측값을 출력\r\n",
        "for i in range(5): \r\n",
        "  plt.subplot(2, 5, i + 1) # subplot(행, 열, 숫자 이미지 출력할 순서) 함수\r\n",
        "  plt.imshow(test_images[i]) # 테스트의 이미지를 보여줌\r\n",
        "  print(test_labels[i], end=\", \") # 테스트의 숫자로 된 라벨을 출력\r\n",
        "plt.show()"
      ],
      "execution_count": 22,
      "outputs": [
        {
          "output_type": "stream",
          "text": [
            "Clipping input data to the valid range for imshow with RGB data ([0..1] for floats or [0..255] for integers).\n",
            "Clipping input data to the valid range for imshow with RGB data ([0..1] for floats or [0..255] for integers).\n",
            "Clipping input data to the valid range for imshow with RGB data ([0..1] for floats or [0..255] for integers).\n",
            "Clipping input data to the valid range for imshow with RGB data ([0..1] for floats or [0..255] for integers).\n",
            "Clipping input data to the valid range for imshow with RGB data ([0..1] for floats or [0..255] for integers).\n"
          ],
          "name": "stderr"
        },
        {
          "output_type": "stream",
          "text": [
            "[0. 0. 0. 1. 0. 0. 0. 0. 0. 0.], [0. 0. 0. 0. 0. 0. 0. 0. 1. 0.], [0. 0. 0. 0. 0. 0. 0. 0. 1. 0.], [1. 0. 0. 0. 0. 0. 0. 0. 0. 0.], [0. 0. 0. 0. 0. 0. 1. 0. 0. 0.], "
          ],
          "name": "stdout"
        },
        {
          "output_type": "display_data",
          "data": {
            "image/png": "[encoded data removed]",
            "text/plain": [
              "<Figure size 432x288 with 5 Axes>"
            ]
          },
          "metadata": {
            "tags": [],
            "needs_background": "light"
          }
        }
      ]
    }
  ]
}