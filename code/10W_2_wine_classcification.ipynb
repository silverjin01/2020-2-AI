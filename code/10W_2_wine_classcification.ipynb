{
  "nbformat": 4,
  "nbformat_minor": 0,
  "metadata": {
    "colab": {
      "name": "10W-2-wine-classcification.ipynb",
      "provenance": [],
      "authorship_tag": "ABX9TyMd3BtWtZf1TfuWngkcy7fb",
      "include_colab_link": true
    },
    "kernelspec": {
      "name": "python3",
      "display_name": "Python 3"
    }
  },
  "cells": [
    {
      "cell_type": "markdown",
      "metadata": {
        "id": "view-in-github",
        "colab_type": "text"
      },
      "source": [
        "<a href=\"https://colab.research.google.com/github/silverjin01/2020-2-AI/blob/master/10W_2_wine_classcification.ipynb\" target=\"_parent\"><img src=\"https://colab.research.google.com/assets/colab-badge.svg\" alt=\"Open In Colab\"/></a>"
      ]
    },
    {
      "cell_type": "code",
      "metadata": {
        "id": "dMgY1PVuLf3j"
      },
      "source": [
        "# 텐서플로 2 버전 선택\r\n",
        "try:\r\n",
        "    # %tensorflow_version only exists in Colab.\r\n",
        "    %tensorflow_version 2.x\r\n",
        "except Exception:\r\n",
        "    pass"
      ],
      "execution_count": 3,
      "outputs": []
    },
    {
      "cell_type": "code",
      "metadata": {
        "colab": {
          "base_uri": "https://localhost:8080/"
        },
        "id": "KdLkwwqQ6ULD",
        "outputId": "bd3b4b1f-2db3-4fc7-ef26-e2d13c1cf5ee"
      },
      "source": [
        "# 5.1 와인 데이터셋 불러오기\r\n",
        "import pandas as pd\r\n",
        "red = pd.read_csv('http://archive.ics.uci.edu/ml/machine-learning-databases/wine-quality/winequality-red.csv', sep=';')\r\n",
        "white = pd.read_csv('http://archive.ics.uci.edu/ml/machine-learning-databases/wine-quality/winequality-white.csv', sep=';')\r\n",
        "print(red.head())\r\n",
        "print(white.head())"
      ],
      "execution_count": 4,
      "outputs": [
        {
          "output_type": "stream",
          "text": [
            "   fixed acidity  volatile acidity  citric acid  ...  sulphates  alcohol  quality\n",
            "0            7.4              0.70         0.00  ...       0.56      9.4        5\n",
            "1            7.8              0.88         0.00  ...       0.68      9.8        5\n",
            "2            7.8              0.76         0.04  ...       0.65      9.8        5\n",
            "3           11.2              0.28         0.56  ...       0.58      9.8        6\n",
            "4            7.4              0.70         0.00  ...       0.56      9.4        5\n",
            "\n",
            "[5 rows x 12 columns]\n",
            "   fixed acidity  volatile acidity  citric acid  ...  sulphates  alcohol  quality\n",
            "0            7.0              0.27         0.36  ...       0.45      8.8        6\n",
            "1            6.3              0.30         0.34  ...       0.49      9.5        6\n",
            "2            8.1              0.28         0.40  ...       0.44     10.1        6\n",
            "3            7.2              0.23         0.32  ...       0.40      9.9        6\n",
            "4            7.2              0.23         0.32  ...       0.40      9.9        6\n",
            "\n",
            "[5 rows x 12 columns]\n"
          ],
          "name": "stdout"
        }
      ]
    },
    {
      "cell_type": "code",
      "metadata": {
        "colab": {
          "base_uri": "https://localhost:8080/"
        },
        "id": "fm_pnfQFLlk3",
        "outputId": "e3d36649-d5be-4e1b-c916-bfee4aa502c1"
      },
      "source": [
        "print(red.shape)\r\n",
        "print(white.shape)"
      ],
      "execution_count": 5,
      "outputs": [
        {
          "output_type": "stream",
          "text": [
            "(1599, 12)\n",
            "(4898, 12)\n"
          ],
          "name": "stdout"
        }
      ]
    },
    {
      "cell_type": "code",
      "metadata": {
        "colab": {
          "base_uri": "https://localhost:8080/"
        },
        "id": "mrp1brmR6qMm",
        "outputId": "9ddbf905-f659-4b6a-ad87-9308cc30bc3e"
      },
      "source": [
        "# 5.2 와인 데이터셋 합치기\r\n",
        "red['type'] = 0\r\n",
        "white['type'] = 1\r\n",
        "print(red.head(2))\r\n",
        "print(white.head(2))\r\n",
        "\r\n",
        "wine = pd.concat([red, white])\r\n",
        "print(wine.describe())"
      ],
      "execution_count": 6,
      "outputs": [
        {
          "output_type": "stream",
          "text": [
            "   fixed acidity  volatile acidity  citric acid  ...  alcohol  quality  type\n",
            "0            7.4              0.70          0.0  ...      9.4        5     0\n",
            "1            7.8              0.88          0.0  ...      9.8        5     0\n",
            "\n",
            "[2 rows x 13 columns]\n",
            "   fixed acidity  volatile acidity  citric acid  ...  alcohol  quality  type\n",
            "0            7.0              0.27         0.36  ...      8.8        6     1\n",
            "1            6.3              0.30         0.34  ...      9.5        6     1\n",
            "\n",
            "[2 rows x 13 columns]\n",
            "       fixed acidity  volatile acidity  ...      quality         type\n",
            "count    6497.000000       6497.000000  ...  6497.000000  6497.000000\n",
            "mean        7.215307          0.339666  ...     5.818378     0.753886\n",
            "std         1.296434          0.164636  ...     0.873255     0.430779\n",
            "min         3.800000          0.080000  ...     3.000000     0.000000\n",
            "25%         6.400000          0.230000  ...     5.000000     1.000000\n",
            "50%         7.000000          0.290000  ...     6.000000     1.000000\n",
            "75%         7.700000          0.400000  ...     6.000000     1.000000\n",
            "max        15.900000          1.580000  ...     9.000000     1.000000\n",
            "\n",
            "[8 rows x 13 columns]\n"
          ],
          "name": "stdout"
        }
      ]
    },
    {
      "cell_type": "code",
      "metadata": {
        "colab": {
          "base_uri": "https://localhost:8080/",
          "height": 316
        },
        "id": "dLIdxJPS6seZ",
        "outputId": "8a5167b4-5e80-492d-c4ea-d03f3ae88535"
      },
      "source": [
        "# 5.3 레드 와인과 화이트 와인 type 히스토그램\r\n",
        "import matplotlib.pyplot as plt\r\n",
        "plt.hist(wine['type'])\r\n",
        "plt.xticks([0, 1])\r\n",
        "#plt.xticks([0, 1], ['red', 'white'])\r\n",
        "plt.show()\r\n",
        "\r\n",
        "print(wine['type'].value_counts())"
      ],
      "execution_count": 7,
      "outputs": [
        {
          "output_type": "display_data",
          "data": {
            "image/png": "[encoded data removed]",
            "text/plain": [
              "<Figure size 432x288 with 1 Axes>"
            ]
          },
          "metadata": {
            "tags": [],
            "needs_background": "light"
          }
        },
        {
          "output_type": "stream",
          "text": [
            "1    4898\n",
            "0    1599\n",
            "Name: type, dtype: int64\n"
          ],
          "name": "stdout"
        }
      ]
    },
    {
      "cell_type": "code",
      "metadata": {
        "colab": {
          "base_uri": "https://localhost:8080/"
        },
        "id": "0g-6zarxLtc0",
        "outputId": "bd9fb903-4751-424d-bedb-1c6c062c9153"
      },
      "source": [
        "# 5.4 데이터 요약 정보 확인\r\n",
        "print(wine.info())"
      ],
      "execution_count": 8,
      "outputs": [
        {
          "output_type": "stream",
          "text": [
            "<class 'pandas.core.frame.DataFrame'>\n",
            "Int64Index: 6497 entries, 0 to 4897\n",
            "Data columns (total 13 columns):\n",
            " #   Column                Non-Null Count  Dtype  \n",
            "---  ------                --------------  -----  \n",
            " 0   fixed acidity         6497 non-null   float64\n",
            " 1   volatile acidity      6497 non-null   float64\n",
            " 2   citric acid           6497 non-null   float64\n",
            " 3   residual sugar        6497 non-null   float64\n",
            " 4   chlorides             6497 non-null   float64\n",
            " 5   free sulfur dioxide   6497 non-null   float64\n",
            " 6   total sulfur dioxide  6497 non-null   float64\n",
            " 7   density               6497 non-null   float64\n",
            " 8   pH                    6497 non-null   float64\n",
            " 9   sulphates             6497 non-null   float64\n",
            " 10  alcohol               6497 non-null   float64\n",
            " 11  quality               6497 non-null   int64  \n",
            " 12  type                  6497 non-null   int64  \n",
            "dtypes: float64(11), int64(2)\n",
            "memory usage: 710.6 KB\n",
            "None\n"
          ],
          "name": "stdout"
        }
      ]
    },
    {
      "cell_type": "code",
      "metadata": {
        "colab": {
          "base_uri": "https://localhost:8080/"
        },
        "id": "y5oqqFxa6wj6",
        "outputId": "8d51db01-d375-4177-b834-c568b395206f"
      },
      "source": [
        "# 5.5 데이터 정규화\r\n",
        "wine_norm = (wine - wine.min()) / (wine.max() - wine.min())\r\n",
        "print(wine_norm.head())\r\n",
        "print(wine_norm.describe())"
      ],
      "execution_count": 9,
      "outputs": [
        {
          "output_type": "stream",
          "text": [
            "   fixed acidity  volatile acidity  citric acid  ...   alcohol   quality  type\n",
            "0       0.297521          0.413333     0.000000  ...  0.202899  0.333333   0.0\n",
            "1       0.330579          0.533333     0.000000  ...  0.260870  0.333333   0.0\n",
            "2       0.330579          0.453333     0.024096  ...  0.260870  0.333333   0.0\n",
            "3       0.611570          0.133333     0.337349  ...  0.260870  0.500000   0.0\n",
            "4       0.297521          0.413333     0.000000  ...  0.202899  0.333333   0.0\n",
            "\n",
            "[5 rows x 13 columns]\n",
            "       fixed acidity  volatile acidity  ...      quality         type\n",
            "count    6497.000000       6497.000000  ...  6497.000000  6497.000000\n",
            "mean        0.282257          0.173111  ...     0.469730     0.753886\n",
            "std         0.107143          0.109758  ...     0.145543     0.430779\n",
            "min         0.000000          0.000000  ...     0.000000     0.000000\n",
            "25%         0.214876          0.100000  ...     0.333333     1.000000\n",
            "50%         0.264463          0.140000  ...     0.500000     1.000000\n",
            "75%         0.322314          0.213333  ...     0.500000     1.000000\n",
            "max         1.000000          1.000000  ...     1.000000     1.000000\n",
            "\n",
            "[8 rows x 13 columns]\n"
          ],
          "name": "stdout"
        }
      ]
    },
    {
      "cell_type": "code",
      "metadata": {
        "colab": {
          "base_uri": "https://localhost:8080/"
        },
        "id": "LrOGnp-Q6z_g",
        "outputId": "35d739ae-3527-4c2e-dade-088b03c82ae4"
      },
      "source": [
        "# 5.6 데이터 섞은 후 numpy array로 변환\r\n",
        "import numpy as np\r\n",
        "wine_shuffle = wine_norm.sample(frac=1)\r\n",
        "print(wine_shuffle.head())\r\n",
        "wine_np = wine_shuffle.to_numpy()\r\n",
        "print(wine_np[:5])"
      ],
      "execution_count": 10,
      "outputs": [
        {
          "output_type": "stream",
          "text": [
            "      fixed acidity  volatile acidity  citric acid  ...   alcohol   quality  type\n",
            "268        0.256198          0.306667     0.024096  ...  0.202899  0.500000   0.0\n",
            "3013       0.264463          0.033333     0.222892  ...  0.391304  0.500000   1.0\n",
            "86         0.396694          0.273333     0.168675  ...  0.275362  0.500000   0.0\n",
            "2044       0.157025          0.203333     0.024096  ...  0.275362  0.500000   1.0\n",
            "2500       0.247934          0.086667     0.216867  ...  0.115942  0.333333   1.0\n",
            "\n",
            "[5 rows x 13 columns]\n",
            "[[0.25619835 0.30666667 0.02409639 0.03680982 0.11295681 0.02083333\n",
            "  0.0483871  0.22344322 0.75193798 0.38764045 0.20289855 0.5\n",
            "  0.        ]\n",
            " [0.26446281 0.03333333 0.22289157 0.18788344 0.05481728 0.12152778\n",
            "  0.2281106  0.16772701 0.25581395 0.18539326 0.39130435 0.5\n",
            "  1.        ]\n",
            " [0.39669421 0.27333333 0.1686747  0.01993865 0.16777409 0.06597222\n",
            "  0.29953917 0.19452477 0.1627907  0.97191011 0.27536232 0.5\n",
            "  0.        ]\n",
            " [0.15702479 0.20333333 0.02409639 0.18404908 0.04152824 0.07291667\n",
            "  0.25115207 0.1791016  0.43410853 0.23033708 0.27536232 0.5\n",
            "  1.        ]\n",
            " [0.24793388 0.08666667 0.21686747 0.26840491 0.06146179 0.10763889\n",
            "  0.29262673 0.24850588 0.42635659 0.14606742 0.11594203 0.33333333\n",
            "  1.        ]]\n"
          ],
          "name": "stdout"
        }
      ]
    },
    {
      "cell_type": "code",
      "metadata": {
        "colab": {
          "base_uri": "https://localhost:8080/"
        },
        "id": "7WaenqVQ652s",
        "outputId": "e7ae3812-3427-4391-bfc8-30e278c13e6c"
      },
      "source": [
        "# 5.7 train 데이터와 test 데이터로 분리\r\n",
        "import tensorflow as tf\r\n",
        "train_idx = int(len(wine_np) * 0.8)\r\n",
        "train_X, train_Y = wine_np[:train_idx, :-1], wine_np[:train_idx, -1]\r\n",
        "test_X, test_Y = wine_np[train_idx:, :-1], wine_np[train_idx:, -1]\r\n",
        "print(train_X[0])\r\n",
        "print(train_Y[0])\r\n",
        "print(test_X[0])\r\n",
        "print(test_Y[0])\r\n",
        "train_Y = tf.keras.utils.to_categorical(train_Y, num_classes=2)\r\n",
        "test_Y = tf.keras.utils.to_categorical(test_Y, num_classes=2)\r\n",
        "print(train_Y[0])\r\n",
        "print(test_Y[0])"
      ],
      "execution_count": 11,
      "outputs": [
        {
          "output_type": "stream",
          "text": [
            "[0.25619835 0.30666667 0.02409639 0.03680982 0.11295681 0.02083333\n",
            " 0.0483871  0.22344322 0.75193798 0.38764045 0.20289855 0.5       ]\n",
            "0.0\n",
            "[0.6446281  0.26333333 0.24096386 0.01226994 0.13621262 0.01736111\n",
            " 0.05069124 0.19144014 0.27131783 0.24157303 0.29468599 0.5       ]\n",
            "0.0\n",
            "[1. 0.]\n",
            "[1. 0.]\n"
          ],
          "name": "stdout"
        }
      ]
    },
    {
      "cell_type": "code",
      "metadata": {
        "colab": {
          "base_uri": "https://localhost:8080/"
        },
        "id": "jnFJd7hD6818",
        "outputId": "f112e0fb-6ace-4721-873b-5cf09ff711fb"
      },
      "source": [
        "y = [0, 1, 2, 3]\r\n",
        "tf.keras.utils.to_categorical(y, num_classes=4)"
      ],
      "execution_count": 12,
      "outputs": [
        {
          "output_type": "execute_result",
          "data": {
            "text/plain": [
              "array([[1., 0., 0., 0.],\n",
              "       [0., 1., 0., 0.],\n",
              "       [0., 0., 1., 0.],\n",
              "       [0., 0., 0., 1.]], dtype=float32)"
            ]
          },
          "metadata": {
            "tags": []
          },
          "execution_count": 12
        }
      ]
    },
    {
      "cell_type": "code",
      "metadata": {
        "colab": {
          "base_uri": "https://localhost:8080/"
        },
        "id": "O0fGE68T68vY",
        "outputId": "3243e87d-0052-4ff7-d1a0-2a7f3259ab32"
      },
      "source": [
        "# 5.8 와인 데이터셋 분류 모델 생성\r\n",
        "import tensorflow as tf\r\n",
        "model = tf.keras.Sequential([\r\n",
        "    tf.keras.layers.Dense(units=48, activation='relu', input_shape=(12,)),\r\n",
        "    tf.keras.layers.Dense(units=24, activation='relu'),\r\n",
        "    tf.keras.layers.Dense(units=12, activation='relu'),\r\n",
        "    tf.keras.layers.Dense(units=2, activation='softmax')\r\n",
        "])\r\n",
        "\r\n",
        "model.compile(optimizer=tf.keras.optimizers.Adam(lr=0.07), loss='categorical_crossentropy', metrics=['accuracy'])\r\n",
        "\r\n",
        "model.summary()"
      ],
      "execution_count": 13,
      "outputs": [
        {
          "output_type": "stream",
          "text": [
            "Model: \"sequential\"\n",
            "_________________________________________________________________\n",
            "Layer (type)                 Output Shape              Param #   \n",
            "=================================================================\n",
            "dense (Dense)                (None, 48)                624       \n",
            "_________________________________________________________________\n",
            "dense_1 (Dense)              (None, 24)                1176      \n",
            "_________________________________________________________________\n",
            "dense_2 (Dense)              (None, 12)                300       \n",
            "_________________________________________________________________\n",
            "dense_3 (Dense)              (None, 2)                 26        \n",
            "=================================================================\n",
            "Total params: 2,126\n",
            "Trainable params: 2,126\n",
            "Non-trainable params: 0\n",
            "_________________________________________________________________\n"
          ],
          "name": "stdout"
        }
      ]
    },
    {
      "cell_type": "code",
      "metadata": {
        "colab": {
          "base_uri": "https://localhost:8080/",
          "height": 279
        },
        "id": "U3I2V_zp7InJ",
        "outputId": "7c679c7f-8745-4b9c-981e-7ee8ef4e6411"
      },
      "source": [
        "# 그림 5.5 출력 코드\r\n",
        "import matplotlib.pyplot as plt\r\n",
        "import math\r\n",
        "import numpy as np\r\n",
        "x = np.arange(-2, 2, 0.01)\r\n",
        "e_x = math.e ** x\r\n",
        "plt.axhline(0, color='gray')\r\n",
        "plt.axvline(0, color='gray')\r\n",
        "plt.plot(x, x, 'b-', label='y=x')\r\n",
        "plt.plot(x, e_x, 'g.', label='y=e^x')\r\n",
        "plt.xlabel('X')\r\n",
        "plt.ylabel('Y')\r\n",
        "plt.legend()\r\n",
        "plt.show()\r\n"
      ],
      "execution_count": 14,
      "outputs": [
        {
          "output_type": "display_data",
          "data": {
            "image/png": "[encoded data removed]",
            "text/plain": [
              "<Figure size 432x288 with 1 Axes>"
            ]
          },
          "metadata": {
            "tags": [],
            "needs_background": "light"
          }
        }
      ]
    },
    {
      "cell_type": "code",
      "metadata": {
        "colab": {
          "base_uri": "https://localhost:8080/"
        },
        "id": "7P9iztwU7JSm",
        "outputId": "21c20fbd-e6ff-427d-c129-09d040db61c6"
      },
      "source": [
        "# 5.9 와인 데이터셋 분류 모델 학습\r\n",
        "history = model.fit(train_X, train_Y, epochs=25, batch_size=32, validation_split=0.25)"
      ],
      "execution_count": 15,
      "outputs": [
        {
          "output_type": "stream",
          "text": [
            "Epoch 1/25\n",
            "122/122 [==============================] - 0s 3ms/step - loss: 0.1127 - accuracy: 0.9571 - val_loss: 0.0749 - val_accuracy: 0.9854\n",
            "Epoch 2/25\n",
            "122/122 [==============================] - 0s 2ms/step - loss: 0.0645 - accuracy: 0.9828 - val_loss: 0.0691 - val_accuracy: 0.9831\n",
            "Epoch 3/25\n",
            "122/122 [==============================] - 0s 1ms/step - loss: 0.0471 - accuracy: 0.9849 - val_loss: 0.0839 - val_accuracy: 0.9877\n",
            "Epoch 4/25\n",
            "122/122 [==============================] - 0s 2ms/step - loss: 0.0517 - accuracy: 0.9856 - val_loss: 0.0570 - val_accuracy: 0.9885\n",
            "Epoch 5/25\n",
            "122/122 [==============================] - 0s 2ms/step - loss: 0.0435 - accuracy: 0.9885 - val_loss: 0.0632 - val_accuracy: 0.9892\n",
            "Epoch 6/25\n",
            "122/122 [==============================] - 0s 1ms/step - loss: 0.0461 - accuracy: 0.9885 - val_loss: 0.0641 - val_accuracy: 0.9885\n",
            "Epoch 7/25\n",
            "122/122 [==============================] - 0s 2ms/step - loss: 0.0409 - accuracy: 0.9895 - val_loss: 0.0559 - val_accuracy: 0.9892\n",
            "Epoch 8/25\n",
            "122/122 [==============================] - 0s 1ms/step - loss: 0.0368 - accuracy: 0.9908 - val_loss: 0.0653 - val_accuracy: 0.9915\n",
            "Epoch 9/25\n",
            "122/122 [==============================] - 0s 2ms/step - loss: 0.0408 - accuracy: 0.9882 - val_loss: 0.0496 - val_accuracy: 0.9923\n",
            "Epoch 10/25\n",
            "122/122 [==============================] - 0s 1ms/step - loss: 0.0361 - accuracy: 0.9913 - val_loss: 0.0480 - val_accuracy: 0.9900\n",
            "Epoch 11/25\n",
            "122/122 [==============================] - 0s 1ms/step - loss: 0.0398 - accuracy: 0.9905 - val_loss: 0.0553 - val_accuracy: 0.9877\n",
            "Epoch 12/25\n",
            "122/122 [==============================] - 0s 2ms/step - loss: 0.0387 - accuracy: 0.9892 - val_loss: 0.0771 - val_accuracy: 0.9915\n",
            "Epoch 13/25\n",
            "122/122 [==============================] - 0s 2ms/step - loss: 0.0413 - accuracy: 0.9900 - val_loss: 0.0528 - val_accuracy: 0.9854\n",
            "Epoch 14/25\n",
            "122/122 [==============================] - 0s 2ms/step - loss: 0.0362 - accuracy: 0.9908 - val_loss: 0.0453 - val_accuracy: 0.9923\n",
            "Epoch 15/25\n",
            "122/122 [==============================] - 0s 2ms/step - loss: 0.0330 - accuracy: 0.9900 - val_loss: 0.0479 - val_accuracy: 0.9877\n",
            "Epoch 16/25\n",
            "122/122 [==============================] - 0s 1ms/step - loss: 0.0337 - accuracy: 0.9928 - val_loss: 0.0428 - val_accuracy: 0.9908\n",
            "Epoch 17/25\n",
            "122/122 [==============================] - 0s 2ms/step - loss: 0.0365 - accuracy: 0.9908 - val_loss: 0.0549 - val_accuracy: 0.9885\n",
            "Epoch 18/25\n",
            "122/122 [==============================] - 0s 1ms/step - loss: 0.0307 - accuracy: 0.9926 - val_loss: 0.0583 - val_accuracy: 0.9915\n",
            "Epoch 19/25\n",
            "122/122 [==============================] - 0s 2ms/step - loss: 0.0412 - accuracy: 0.9897 - val_loss: 0.1007 - val_accuracy: 0.9669\n",
            "Epoch 20/25\n",
            "122/122 [==============================] - 0s 2ms/step - loss: 0.0461 - accuracy: 0.9887 - val_loss: 0.0756 - val_accuracy: 0.9815\n",
            "Epoch 21/25\n",
            "122/122 [==============================] - 0s 2ms/step - loss: 0.0348 - accuracy: 0.9908 - val_loss: 0.0734 - val_accuracy: 0.9877\n",
            "Epoch 22/25\n",
            "122/122 [==============================] - 0s 2ms/step - loss: 0.0303 - accuracy: 0.9928 - val_loss: 0.0590 - val_accuracy: 0.9854\n",
            "Epoch 23/25\n",
            "122/122 [==============================] - 0s 1ms/step - loss: 0.0350 - accuracy: 0.9920 - val_loss: 0.0519 - val_accuracy: 0.9915\n",
            "Epoch 24/25\n",
            "122/122 [==============================] - 0s 1ms/step - loss: 0.0273 - accuracy: 0.9941 - val_loss: 0.0723 - val_accuracy: 0.9846\n",
            "Epoch 25/25\n",
            "122/122 [==============================] - 0s 2ms/step - loss: 0.0344 - accuracy: 0.9936 - val_loss: 0.0488 - val_accuracy: 0.9892\n"
          ],
          "name": "stdout"
        }
      ]
    },
    {
      "cell_type": "code",
      "metadata": {
        "colab": {
          "base_uri": "https://localhost:8080/",
          "height": 283
        },
        "id": "fDsbqBsG7Qsz",
        "outputId": "41e0c1d2-aeb3-455d-ee5f-499c7057d686"
      },
      "source": [
        "# 5.10 분류 모델 학습 결과 시각화\r\n",
        "import matplotlib.pyplot as plt\r\n",
        "plt.figure(figsize=(12, 4))\r\n",
        "plt.subplot(1, 2, 1)\r\n",
        "plt.plot(history.history['loss'], 'b-', label='loss')\r\n",
        "plt.plot(history.history['val_loss'], 'r--', label='val_loss')\r\n",
        "plt.xlabel('Epoch')\r\n",
        "plt.legend()\r\n",
        "plt.subplot(1, 2, 2)\r\n",
        "plt.plot(history.history['accuracy'], 'g-', label='accuracy')\r\n",
        "plt.plot(history.history['val_accuracy'], 'k--', label='val_accuracy')\r\n",
        "plt.xlabel('Epoch')\r\n",
        "plt.ylim(0.7, 1)\r\n",
        "plt.legend()\r\n",
        "plt.show()"
      ],
      "execution_count": 16,
      "outputs": [
        {
          "output_type": "display_data",
          "data": {
            "image/png": "[encoded data removed]",
            "text/plain": [
              "<Figure size 864x288 with 2 Axes>"
            ]
          },
          "metadata": {
            "tags": [],
            "needs_background": "light"
          }
        }
      ]
    },
    {
      "cell_type": "code",
      "metadata": {
        "colab": {
          "base_uri": "https://localhost:8080/"
        },
        "id": "OWA813ju7SXJ",
        "outputId": "34fd09fa-8849-4b03-aa7a-150d68ce7337"
      },
      "source": [
        "# 5.11 분류 모델 평가\r\n",
        "model.evaluate(test_X, test_Y)"
      ],
      "execution_count": 17,
      "outputs": [
        {
          "output_type": "stream",
          "text": [
            "41/41 [==============================] - 0s 903us/step - loss: 0.0297 - accuracy: 0.9931\n"
          ],
          "name": "stdout"
        },
        {
          "output_type": "execute_result",
          "data": {
            "text/plain": [
              "[0.02968520298600197, 0.9930769205093384]"
            ]
          },
          "metadata": {
            "tags": []
          },
          "execution_count": 17
        }
      ]
    },
    {
      "cell_type": "code",
      "metadata": {
        "colab": {
          "base_uri": "https://localhost:8080/"
        },
        "id": "1ikIJVXE7Yad",
        "outputId": "03d6e811-3a02-4e30-883b-e615054e9385"
      },
      "source": [
        "# 5.12 품질 데이터 확인\r\n",
        "print(wine['quality'].describe())\r\n",
        "print(wine['quality'].value_counts())"
      ],
      "execution_count": 18,
      "outputs": [
        {
          "output_type": "stream",
          "text": [
            "count    6497.000000\n",
            "mean        5.818378\n",
            "std         0.873255\n",
            "min         3.000000\n",
            "25%         5.000000\n",
            "50%         6.000000\n",
            "75%         6.000000\n",
            "max         9.000000\n",
            "Name: quality, dtype: float64\n",
            "6    2836\n",
            "5    2138\n",
            "7    1079\n",
            "4     216\n",
            "8     193\n",
            "3      30\n",
            "9       5\n",
            "Name: quality, dtype: int64\n"
          ],
          "name": "stdout"
        }
      ]
    },
    {
      "cell_type": "code",
      "metadata": {
        "colab": {
          "base_uri": "https://localhost:8080/",
          "height": 265
        },
        "id": "MYvpmAdU7cHE",
        "outputId": "82b75192-247b-409d-cb76-7b465bcffce7"
      },
      "source": [
        "# 5.13 품질 히스토그램 시각화\r\n",
        "import matplotlib.pyplot as plt\r\n",
        "plt.hist(wine['quality'], bins=7, rwidth=0.8)\r\n",
        "plt.show()"
      ],
      "execution_count": 19,
      "outputs": [
        {
          "output_type": "display_data",
          "data": {
            "image/png": "[encoded data removed]",
            "text/plain": [
              "<Figure size 432x288 with 1 Axes>"
            ]
          },
          "metadata": {
            "tags": [],
            "needs_background": "light"
          }
        }
      ]
    },
    {
      "cell_type": "code",
      "metadata": {
        "colab": {
          "base_uri": "https://localhost:8080/"
        },
        "id": "r8w2mNkp7zA9",
        "outputId": "d6829866-eac9-476e-c028-51f0d9fb4503"
      },
      "source": [
        "# 5.14 품질을 3개의 범주(좋음, 보통, 나쁨)로 재분류\r\n",
        "wine.loc[wine['quality'] <= 5, 'new_quality'] = 0\r\n",
        "wine.loc[wine['quality'] == 6, 'new_quality'] = 1\r\n",
        "wine.loc[wine['quality'] >= 7, 'new_quality'] = 2\r\n",
        "print(wine['new_quality'].describe())\r\n",
        "print(wine['new_quality'].value_counts())"
      ],
      "execution_count": 20,
      "outputs": [
        {
          "output_type": "stream",
          "text": [
            "count    6497.000000\n",
            "mean        0.829614\n",
            "std         0.731124\n",
            "min         0.000000\n",
            "25%         0.000000\n",
            "50%         1.000000\n",
            "75%         1.000000\n",
            "max         2.000000\n",
            "Name: new_quality, dtype: float64\n",
            "1.0    2836\n",
            "0.0    2384\n",
            "2.0    1277\n",
            "Name: new_quality, dtype: int64\n"
          ],
          "name": "stdout"
        }
      ]
    },
    {
      "cell_type": "code",
      "metadata": {
        "id": "A0bHg2tU71JN"
      },
      "source": [
        "# 5.15 데이터 정규화 및 train, test 데이터 분리\r\n",
        "del wine['quality']\r\n",
        "wine_backup = wine.copy()\r\n",
        "wine_norm = (wine - wine.min()) / (wine.max() - wine.min())\r\n",
        "wine_norm['new_quality'] = wine_backup['new_quality']\r\n",
        "wine_shuffle = wine_norm.sample(frac=1)\r\n",
        "wine_np = wine_shuffle.to_numpy()\r\n",
        "train_idx = int(len(wine_np) * 0.8)\r\n",
        "train_X, train_Y = wine_np[:train_idx, :-1], wine_np[:train_idx, -1]\r\n",
        "test_X, test_Y = wine_np[train_idx:, :-1], wine_np[train_idx:, -1]\r\n",
        "train_Y = tf.keras.utils.to_categorical(train_Y, num_classes=3)\r\n",
        "test_Y = tf.keras.utils.to_categorical(test_Y, num_classes=3)"
      ],
      "execution_count": 21,
      "outputs": []
    },
    {
      "cell_type": "code",
      "metadata": {
        "colab": {
          "base_uri": "https://localhost:8080/"
        },
        "id": "EDw1ZxE773q9",
        "outputId": "902c7c9e-4b32-47ee-e41e-b95a781ab50c"
      },
      "source": [
        "# 5.16 와인 데이터셋 다항 분류 모델 생성 및 학습\r\n",
        "model = tf.keras.Sequential([\r\n",
        "tf.keras.layers.Dense(units=48, activation='relu', input_shape=(12,)),\r\n",
        "tf.keras.layers.Dense(units=24, activation='relu'),\r\n",
        "tf.keras.layers.Dense(units=12, activation='relu'),\r\n",
        "tf.keras.layers.Dense(units=3, activation='softmax')\r\n",
        "])\r\n",
        "model.compile(optimizer=tf.keras.optimizers.Adam(lr=0.003),\r\n",
        "loss='categorical_crossentropy', metrics=['accuracy'])\r\n",
        "history = model.fit(train_X, train_Y, epochs=25, batch_size=32,\r\n",
        "validation_split=0.25)"
      ],
      "execution_count": 22,
      "outputs": [
        {
          "output_type": "stream",
          "text": [
            "Epoch 1/25\n",
            "122/122 [==============================] - 0s 3ms/step - loss: 0.9856 - accuracy: 0.4840 - val_loss: 0.9111 - val_accuracy: 0.5446\n",
            "Epoch 2/25\n",
            "122/122 [==============================] - 0s 2ms/step - loss: 0.8908 - accuracy: 0.5494 - val_loss: 0.8867 - val_accuracy: 0.5446\n",
            "Epoch 3/25\n",
            "122/122 [==============================] - 0s 1ms/step - loss: 0.8660 - accuracy: 0.5679 - val_loss: 0.8839 - val_accuracy: 0.5546\n",
            "Epoch 4/25\n",
            "122/122 [==============================] - 0s 1ms/step - loss: 0.8671 - accuracy: 0.5689 - val_loss: 0.8850 - val_accuracy: 0.5723\n",
            "Epoch 5/25\n",
            "122/122 [==============================] - 0s 1ms/step - loss: 0.8610 - accuracy: 0.5756 - val_loss: 0.8779 - val_accuracy: 0.5638\n",
            "Epoch 6/25\n",
            "122/122 [==============================] - 0s 2ms/step - loss: 0.8522 - accuracy: 0.5830 - val_loss: 0.8948 - val_accuracy: 0.5700\n",
            "Epoch 7/25\n",
            "122/122 [==============================] - 0s 2ms/step - loss: 0.8529 - accuracy: 0.5833 - val_loss: 0.8701 - val_accuracy: 0.5731\n",
            "Epoch 8/25\n",
            "122/122 [==============================] - 0s 2ms/step - loss: 0.8480 - accuracy: 0.5869 - val_loss: 0.8820 - val_accuracy: 0.5831\n",
            "Epoch 9/25\n",
            "122/122 [==============================] - 0s 2ms/step - loss: 0.8462 - accuracy: 0.5863 - val_loss: 0.8954 - val_accuracy: 0.5538\n",
            "Epoch 10/25\n",
            "122/122 [==============================] - 0s 2ms/step - loss: 0.8465 - accuracy: 0.5769 - val_loss: 0.8647 - val_accuracy: 0.5715\n",
            "Epoch 11/25\n",
            "122/122 [==============================] - 0s 2ms/step - loss: 0.8403 - accuracy: 0.5920 - val_loss: 0.8730 - val_accuracy: 0.5885\n",
            "Epoch 12/25\n",
            "122/122 [==============================] - 0s 1ms/step - loss: 0.8360 - accuracy: 0.5915 - val_loss: 0.8605 - val_accuracy: 0.5785\n",
            "Epoch 13/25\n",
            "122/122 [==============================] - 0s 2ms/step - loss: 0.8347 - accuracy: 0.5869 - val_loss: 0.8592 - val_accuracy: 0.5862\n",
            "Epoch 14/25\n",
            "122/122 [==============================] - 0s 1ms/step - loss: 0.8337 - accuracy: 0.5915 - val_loss: 0.8623 - val_accuracy: 0.5785\n",
            "Epoch 15/25\n",
            "122/122 [==============================] - 0s 2ms/step - loss: 0.8328 - accuracy: 0.5930 - val_loss: 0.8571 - val_accuracy: 0.5808\n",
            "Epoch 16/25\n",
            "122/122 [==============================] - 0s 1ms/step - loss: 0.8272 - accuracy: 0.6005 - val_loss: 0.9032 - val_accuracy: 0.5685\n",
            "Epoch 17/25\n",
            "122/122 [==============================] - 0s 2ms/step - loss: 0.8300 - accuracy: 0.5920 - val_loss: 0.8463 - val_accuracy: 0.5831\n",
            "Epoch 18/25\n",
            "122/122 [==============================] - 0s 2ms/step - loss: 0.8234 - accuracy: 0.5979 - val_loss: 0.8489 - val_accuracy: 0.5885\n",
            "Epoch 19/25\n",
            "122/122 [==============================] - 0s 1ms/step - loss: 0.8223 - accuracy: 0.6005 - val_loss: 0.8501 - val_accuracy: 0.5908\n",
            "Epoch 20/25\n",
            "122/122 [==============================] - 0s 2ms/step - loss: 0.8226 - accuracy: 0.6017 - val_loss: 0.8443 - val_accuracy: 0.5969\n",
            "Epoch 21/25\n",
            "122/122 [==============================] - 0s 1ms/step - loss: 0.8170 - accuracy: 0.6033 - val_loss: 0.8450 - val_accuracy: 0.5977\n",
            "Epoch 22/25\n",
            "122/122 [==============================] - 0s 1ms/step - loss: 0.8122 - accuracy: 0.6017 - val_loss: 0.8482 - val_accuracy: 0.5877\n",
            "Epoch 23/25\n",
            "122/122 [==============================] - 0s 2ms/step - loss: 0.8139 - accuracy: 0.6030 - val_loss: 0.8497 - val_accuracy: 0.5992\n",
            "Epoch 24/25\n",
            "122/122 [==============================] - 0s 2ms/step - loss: 0.8083 - accuracy: 0.6100 - val_loss: 0.8357 - val_accuracy: 0.5869\n",
            "Epoch 25/25\n",
            "122/122 [==============================] - 0s 2ms/step - loss: 0.8100 - accuracy: 0.6094 - val_loss: 0.8363 - val_accuracy: 0.6085\n"
          ],
          "name": "stdout"
        }
      ]
    },
    {
      "cell_type": "code",
      "metadata": {
        "colab": {
          "base_uri": "https://localhost:8080/",
          "height": 283
        },
        "id": "hq0qKwwm754B",
        "outputId": "7a29b9f0-b404-44a9-b984-3c9aac3c2af9"
      },
      "source": [
        "# 5.17 다항 분류 모델 학습 결과 시각화\r\n",
        "import matplotlib.pyplot as plt\r\n",
        "plt.figure(figsize=(12, 4))\r\n",
        "plt.subplot(1, 2, 1)\r\n",
        "plt.plot(history.history['loss'], 'b-', label='loss')\r\n",
        "plt.plot(history.history['val_loss'], 'r--', label='val_loss')\r\n",
        "plt.xlabel('Epoch')\r\n",
        "plt.legend()\r\n",
        "plt.subplot(1, 2, 2)\r\n",
        "plt.plot(history.history['accuracy'], 'g-', label='accuracy')\r\n",
        "plt.plot(history.history['val_accuracy'], 'k--', label='val_accuracy')\r\n",
        "plt.xlabel('Epoch')\r\n",
        "plt.ylim(0.5, 0.7)\r\n",
        "plt.legend()\r\n",
        "plt.show()"
      ],
      "execution_count": 23,
      "outputs": [
        {
          "output_type": "display_data",
          "data": {
            "image/png": "[encoded data removed]",
            "text/plain": [
              "<Figure size 864x288 with 2 Axes>"
            ]
          },
          "metadata": {
            "tags": [],
            "needs_background": "light"
          }
        }
      ]
    },
    {
      "cell_type": "code",
      "metadata": {
        "colab": {
          "base_uri": "https://localhost:8080/"
        },
        "id": "-AneVi8W77oz",
        "outputId": "05444f40-7ca3-4b4f-ea1e-3a6c059e8cac"
      },
      "source": [
        "# 5.18 다항 분류 모델 평가\r\n",
        "model.evaluate(test_X, test_Y)"
      ],
      "execution_count": 24,
      "outputs": [
        {
          "output_type": "stream",
          "text": [
            "41/41 [==============================] - 0s 788us/step - loss: 0.8295 - accuracy: 0.5846\n"
          ],
          "name": "stdout"
        },
        {
          "output_type": "execute_result",
          "data": {
            "text/plain": [
              "[0.8295206427574158, 0.5846154093742371]"
            ]
          },
          "metadata": {
            "tags": []
          },
          "execution_count": 24
        }
      ]
    },
    {
      "cell_type": "code",
      "metadata": {
        "id": "81tmarTB8CbS",
        "colab": {
          "base_uri": "https://localhost:8080/"
        },
        "outputId": "bce6cd10-bf47-4fc7-83a1-04637942f298"
      },
      "source": [
        "# 필요 모듈 임포트\r\n",
        "# tensorflow와 tf.keras를 임포트합니다\r\n",
        "import tensorflow as tf\r\n",
        "from tensorflow import keras\r\n",
        "# ① 문제와 정답 데이터 지정\r\n",
        "fashion_mnist = keras.datasets.fashion_mnist\r\n",
        "(train_images, train_labels), (test_images, test_labels) = fashion_mnist.load_data()\r\n",
        "# 10 개의 분류 이름 지정\r\n",
        "class_names = ['T-shirt/top', 'Trouser', 'Pullover', 'Dress', 'Coat',\r\n",
        "'Sandal', 'Shirt', 'Sneaker', 'Bag', 'Ankle boot']\r\n",
        "# 데이터 전처리\r\n",
        "# 샘플 값을 정수(0~255)에서 부동소수(0~1)로 변환\r\n",
        "train_images, test_images = train_images / 255.0, test_images / 255.0"
      ],
      "execution_count": 25,
      "outputs": [
        {
          "output_type": "stream",
          "text": [
            "Downloading data from https://storage.googleapis.com/tensorflow/tf-keras-datasets/train-labels-idx1-ubyte.gz\n",
            "32768/29515 [=================================] - 0s 0us/step\n",
            "Downloading data from https://storage.googleapis.com/tensorflow/tf-keras-datasets/train-images-idx3-ubyte.gz\n",
            "26427392/26421880 [==============================] - 0s 0us/step\n",
            "Downloading data from https://storage.googleapis.com/tensorflow/tf-keras-datasets/t10k-labels-idx1-ubyte.gz\n",
            "8192/5148 [===============================================] - 0s 0us/step\n",
            "Downloading data from https://storage.googleapis.com/tensorflow/tf-keras-datasets/t10k-images-idx3-ubyte.gz\n",
            "4423680/4422102 [==============================] - 0s 0us/step\n"
          ],
          "name": "stdout"
        }
      ]
    },
    {
      "cell_type": "code",
      "metadata": {
        "colab": {
          "base_uri": "https://localhost:8080/"
        },
        "id": "y2UrHPKq8EBg",
        "outputId": "209b8f50-4e85-4dcf-8ebd-d1f6f1ea9f6c"
      },
      "source": [
        "# 5.19 Fashion MNIST 데이터셋 불러오기\r\n",
        "fashion_mnist = tf.keras.datasets.fashion_mnist\r\n",
        "(train_X, train_Y), (test_X, test_Y) = fashion_mnist.load_data()\r\n",
        "\r\n",
        "print(len(train_X), len(test_X))"
      ],
      "execution_count": 26,
      "outputs": [
        {
          "output_type": "stream",
          "text": [
            "60000 10000\n"
          ],
          "name": "stdout"
        }
      ]
    },
    {
      "cell_type": "code",
      "metadata": {
        "colab": {
          "base_uri": "https://localhost:8080/",
          "height": 282
        },
        "id": "TbOAL2Dv8Ysy",
        "outputId": "4d174ea6-a3d8-4dee-ba65-519ff60cc379"
      },
      "source": [
        "# 5.20 데이터 확인\r\n",
        "import matplotlib.pyplot as plt\r\n",
        "plt.imshow(train_X[0], cmap='gray')\r\n",
        "plt.colorbar()\r\n",
        "plt.show()\r\n",
        "\r\n",
        "print(train_Y[0])"
      ],
      "execution_count": 27,
      "outputs": [
        {
          "output_type": "display_data",
          "data": {
            "image/png": "[encoded data removed]",
            "text/plain": [
              "<Figure size 432x288 with 2 Axes>"
            ]
          },
          "metadata": {
            "tags": [],
            "needs_background": "light"
          }
        },
        {
          "output_type": "stream",
          "text": [
            "9\n"
          ],
          "name": "stdout"
        }
      ]
    },
    {
      "cell_type": "code",
      "metadata": {
        "colab": {
          "base_uri": "https://localhost:8080/"
        },
        "id": "W-Q_B-5w8nQD",
        "outputId": "df04b230-48fd-46f5-ec58-10b8c1c7d721"
      },
      "source": [
        "# 10개의 분류 이름 지정\r\n",
        "class_names = ['T-shirt/top', 'Trouser', 'Pullover', 'Dress', 'Coat', 'Sandal', 'Shirt', 'Sneaker', 'Bag', 'Ankle boot']\r\n",
        "\r\n",
        "print(class_names[train_Y[0]])"
      ],
      "execution_count": 28,
      "outputs": [
        {
          "output_type": "stream",
          "text": [
            "Ankle boot\n"
          ],
          "name": "stdout"
        }
      ]
    },
    {
      "cell_type": "code",
      "metadata": {
        "colab": {
          "base_uri": "https://localhost:8080/"
        },
        "id": "750NoP_U9TXE",
        "outputId": "299e1585-5fc0-48f0-e9d3-5834722e6a27"
      },
      "source": [
        "# 5.21 데이터 정규화\r\n",
        "train_X = train_X / 255.0\r\n",
        "test_X = test_X / 255.0\r\n",
        "\r\n",
        "print(train_X[0])"
      ],
      "execution_count": 29,
      "outputs": [
        {
          "output_type": "stream",
          "text": [
            "[[0.         0.         0.         0.         0.         0.\n",
            "  0.         0.         0.         0.         0.         0.\n",
            "  0.         0.         0.         0.         0.         0.\n",
            "  0.         0.         0.         0.         0.         0.\n",
            "  0.         0.         0.         0.        ]\n",
            " [0.         0.         0.         0.         0.         0.\n",
            "  0.         0.         0.         0.         0.         0.\n",
            "  0.         0.         0.         0.         0.         0.\n",
            "  0.         0.         0.         0.         0.         0.\n",
            "  0.         0.         0.         0.        ]\n",
            " [0.         0.         0.         0.         0.         0.\n",
            "  0.         0.         0.         0.         0.         0.\n",
            "  0.         0.         0.         0.         0.         0.\n",
            "  0.         0.         0.         0.         0.         0.\n",
            "  0.         0.         0.         0.        ]\n",
            " [0.         0.         0.         0.         0.         0.\n",
            "  0.         0.         0.         0.         0.         0.\n",
            "  0.00392157 0.         0.         0.05098039 0.28627451 0.\n",
            "  0.         0.00392157 0.01568627 0.         0.         0.\n",
            "  0.         0.00392157 0.00392157 0.        ]\n",
            " [0.         0.         0.         0.         0.         0.\n",
            "  0.         0.         0.         0.         0.         0.\n",
            "  0.01176471 0.         0.14117647 0.53333333 0.49803922 0.24313725\n",
            "  0.21176471 0.         0.         0.         0.00392157 0.01176471\n",
            "  0.01568627 0.         0.         0.01176471]\n",
            " [0.         0.         0.         0.         0.         0.\n",
            "  0.         0.         0.         0.         0.         0.\n",
            "  0.02352941 0.         0.4        0.8        0.69019608 0.5254902\n",
            "  0.56470588 0.48235294 0.09019608 0.         0.         0.\n",
            "  0.         0.04705882 0.03921569 0.        ]\n",
            " [0.         0.         0.         0.         0.         0.\n",
            "  0.         0.         0.         0.         0.         0.\n",
            "  0.         0.         0.60784314 0.9254902  0.81176471 0.69803922\n",
            "  0.41960784 0.61176471 0.63137255 0.42745098 0.25098039 0.09019608\n",
            "  0.30196078 0.50980392 0.28235294 0.05882353]\n",
            " [0.         0.         0.         0.         0.         0.\n",
            "  0.         0.         0.         0.         0.         0.00392157\n",
            "  0.         0.27058824 0.81176471 0.8745098  0.85490196 0.84705882\n",
            "  0.84705882 0.63921569 0.49803922 0.4745098  0.47843137 0.57254902\n",
            "  0.55294118 0.34509804 0.6745098  0.25882353]\n",
            " [0.         0.         0.         0.         0.         0.\n",
            "  0.         0.         0.         0.00392157 0.00392157 0.00392157\n",
            "  0.         0.78431373 0.90980392 0.90980392 0.91372549 0.89803922\n",
            "  0.8745098  0.8745098  0.84313725 0.83529412 0.64313725 0.49803922\n",
            "  0.48235294 0.76862745 0.89803922 0.        ]\n",
            " [0.         0.         0.         0.         0.         0.\n",
            "  0.         0.         0.         0.         0.         0.\n",
            "  0.         0.71764706 0.88235294 0.84705882 0.8745098  0.89411765\n",
            "  0.92156863 0.89019608 0.87843137 0.87058824 0.87843137 0.86666667\n",
            "  0.8745098  0.96078431 0.67843137 0.        ]\n",
            " [0.         0.         0.         0.         0.         0.\n",
            "  0.         0.         0.         0.         0.         0.\n",
            "  0.         0.75686275 0.89411765 0.85490196 0.83529412 0.77647059\n",
            "  0.70588235 0.83137255 0.82352941 0.82745098 0.83529412 0.8745098\n",
            "  0.8627451  0.95294118 0.79215686 0.        ]\n",
            " [0.         0.         0.         0.         0.         0.\n",
            "  0.         0.         0.         0.00392157 0.01176471 0.\n",
            "  0.04705882 0.85882353 0.8627451  0.83137255 0.85490196 0.75294118\n",
            "  0.6627451  0.89019608 0.81568627 0.85490196 0.87843137 0.83137255\n",
            "  0.88627451 0.77254902 0.81960784 0.20392157]\n",
            " [0.         0.         0.         0.         0.         0.\n",
            "  0.         0.         0.         0.         0.02352941 0.\n",
            "  0.38823529 0.95686275 0.87058824 0.8627451  0.85490196 0.79607843\n",
            "  0.77647059 0.86666667 0.84313725 0.83529412 0.87058824 0.8627451\n",
            "  0.96078431 0.46666667 0.65490196 0.21960784]\n",
            " [0.         0.         0.         0.         0.         0.\n",
            "  0.         0.         0.         0.01568627 0.         0.\n",
            "  0.21568627 0.9254902  0.89411765 0.90196078 0.89411765 0.94117647\n",
            "  0.90980392 0.83529412 0.85490196 0.8745098  0.91764706 0.85098039\n",
            "  0.85098039 0.81960784 0.36078431 0.        ]\n",
            " [0.         0.         0.00392157 0.01568627 0.02352941 0.02745098\n",
            "  0.00784314 0.         0.         0.         0.         0.\n",
            "  0.92941176 0.88627451 0.85098039 0.8745098  0.87058824 0.85882353\n",
            "  0.87058824 0.86666667 0.84705882 0.8745098  0.89803922 0.84313725\n",
            "  0.85490196 1.         0.30196078 0.        ]\n",
            " [0.         0.01176471 0.         0.         0.         0.\n",
            "  0.         0.         0.         0.24313725 0.56862745 0.8\n",
            "  0.89411765 0.81176471 0.83529412 0.86666667 0.85490196 0.81568627\n",
            "  0.82745098 0.85490196 0.87843137 0.8745098  0.85882353 0.84313725\n",
            "  0.87843137 0.95686275 0.62352941 0.        ]\n",
            " [0.         0.         0.         0.         0.07058824 0.17254902\n",
            "  0.32156863 0.41960784 0.74117647 0.89411765 0.8627451  0.87058824\n",
            "  0.85098039 0.88627451 0.78431373 0.80392157 0.82745098 0.90196078\n",
            "  0.87843137 0.91764706 0.69019608 0.7372549  0.98039216 0.97254902\n",
            "  0.91372549 0.93333333 0.84313725 0.        ]\n",
            " [0.         0.22352941 0.73333333 0.81568627 0.87843137 0.86666667\n",
            "  0.87843137 0.81568627 0.8        0.83921569 0.81568627 0.81960784\n",
            "  0.78431373 0.62352941 0.96078431 0.75686275 0.80784314 0.8745098\n",
            "  1.         1.         0.86666667 0.91764706 0.86666667 0.82745098\n",
            "  0.8627451  0.90980392 0.96470588 0.        ]\n",
            " [0.01176471 0.79215686 0.89411765 0.87843137 0.86666667 0.82745098\n",
            "  0.82745098 0.83921569 0.80392157 0.80392157 0.80392157 0.8627451\n",
            "  0.94117647 0.31372549 0.58823529 1.         0.89803922 0.86666667\n",
            "  0.7372549  0.60392157 0.74901961 0.82352941 0.8        0.81960784\n",
            "  0.87058824 0.89411765 0.88235294 0.        ]\n",
            " [0.38431373 0.91372549 0.77647059 0.82352941 0.87058824 0.89803922\n",
            "  0.89803922 0.91764706 0.97647059 0.8627451  0.76078431 0.84313725\n",
            "  0.85098039 0.94509804 0.25490196 0.28627451 0.41568627 0.45882353\n",
            "  0.65882353 0.85882353 0.86666667 0.84313725 0.85098039 0.8745098\n",
            "  0.8745098  0.87843137 0.89803922 0.11372549]\n",
            " [0.29411765 0.8        0.83137255 0.8        0.75686275 0.80392157\n",
            "  0.82745098 0.88235294 0.84705882 0.7254902  0.77254902 0.80784314\n",
            "  0.77647059 0.83529412 0.94117647 0.76470588 0.89019608 0.96078431\n",
            "  0.9372549  0.8745098  0.85490196 0.83137255 0.81960784 0.87058824\n",
            "  0.8627451  0.86666667 0.90196078 0.2627451 ]\n",
            " [0.18823529 0.79607843 0.71764706 0.76078431 0.83529412 0.77254902\n",
            "  0.7254902  0.74509804 0.76078431 0.75294118 0.79215686 0.83921569\n",
            "  0.85882353 0.86666667 0.8627451  0.9254902  0.88235294 0.84705882\n",
            "  0.78039216 0.80784314 0.72941176 0.70980392 0.69411765 0.6745098\n",
            "  0.70980392 0.80392157 0.80784314 0.45098039]\n",
            " [0.         0.47843137 0.85882353 0.75686275 0.70196078 0.67058824\n",
            "  0.71764706 0.76862745 0.8        0.82352941 0.83529412 0.81176471\n",
            "  0.82745098 0.82352941 0.78431373 0.76862745 0.76078431 0.74901961\n",
            "  0.76470588 0.74901961 0.77647059 0.75294118 0.69019608 0.61176471\n",
            "  0.65490196 0.69411765 0.82352941 0.36078431]\n",
            " [0.         0.         0.29019608 0.74117647 0.83137255 0.74901961\n",
            "  0.68627451 0.6745098  0.68627451 0.70980392 0.7254902  0.7372549\n",
            "  0.74117647 0.7372549  0.75686275 0.77647059 0.8        0.81960784\n",
            "  0.82352941 0.82352941 0.82745098 0.7372549  0.7372549  0.76078431\n",
            "  0.75294118 0.84705882 0.66666667 0.        ]\n",
            " [0.00784314 0.         0.         0.         0.25882353 0.78431373\n",
            "  0.87058824 0.92941176 0.9372549  0.94901961 0.96470588 0.95294118\n",
            "  0.95686275 0.86666667 0.8627451  0.75686275 0.74901961 0.70196078\n",
            "  0.71372549 0.71372549 0.70980392 0.69019608 0.65098039 0.65882353\n",
            "  0.38823529 0.22745098 0.         0.        ]\n",
            " [0.         0.         0.         0.         0.         0.\n",
            "  0.         0.15686275 0.23921569 0.17254902 0.28235294 0.16078431\n",
            "  0.1372549  0.         0.         0.         0.         0.\n",
            "  0.         0.         0.         0.         0.         0.\n",
            "  0.         0.         0.         0.        ]\n",
            " [0.         0.         0.         0.         0.         0.\n",
            "  0.         0.         0.         0.         0.         0.\n",
            "  0.         0.         0.         0.         0.         0.\n",
            "  0.         0.         0.         0.         0.         0.\n",
            "  0.         0.         0.         0.        ]\n",
            " [0.         0.         0.         0.         0.         0.\n",
            "  0.         0.         0.         0.         0.         0.\n",
            "  0.         0.         0.         0.         0.         0.\n",
            "  0.         0.         0.         0.         0.         0.\n",
            "  0.         0.         0.         0.        ]]\n"
          ],
          "name": "stdout"
        }
      ]
    },
    {
      "cell_type": "code",
      "metadata": {
        "colab": {
          "base_uri": "https://localhost:8080/"
        },
        "id": "YsJdkwbK9WS8",
        "outputId": "f1a0cf94-f552-4080-856d-ba224d8be57d"
      },
      "source": [
        "# 5.22 Fashion MNIST 분류 모델\r\n",
        "model = tf.keras.Sequential([\r\n",
        "tf.keras.layers.Flatten(input_shape=(28,28)),\r\n",
        "tf.keras.layers.Dense(units=128, activation='relu'),\r\n",
        "tf.keras.layers.Dense(units=10, activation='softmax')\r\n",
        "])\r\n",
        "model.compile(optimizer=tf.keras.optimizers.Adam(),\r\n",
        "loss='sparse_categorical_crossentropy',\r\n",
        "metrics=['accuracy'])\r\n",
        "model.summary()\r\n"
      ],
      "execution_count": 30,
      "outputs": [
        {
          "output_type": "stream",
          "text": [
            "Model: \"sequential_2\"\n",
            "_________________________________________________________________\n",
            "Layer (type)                 Output Shape              Param #   \n",
            "=================================================================\n",
            "flatten (Flatten)            (None, 784)               0         \n",
            "_________________________________________________________________\n",
            "dense_8 (Dense)              (None, 128)               100480    \n",
            "_________________________________________________________________\n",
            "dense_9 (Dense)              (None, 10)                1290      \n",
            "=================================================================\n",
            "Total params: 101,770\n",
            "Trainable params: 101,770\n",
            "Non-trainable params: 0\n",
            "_________________________________________________________________\n"
          ],
          "name": "stdout"
        }
      ]
    },
    {
      "cell_type": "code",
      "metadata": {
        "colab": {
          "base_uri": "https://localhost:8080/"
        },
        "id": "9NNMqig09e9C",
        "outputId": "317867cb-62ad-4a06-e751-6412e4cca2f8"
      },
      "source": [
        "# 5.23 Fashion MNIST 분류 모델 학습\r\n",
        "history = model.fit(train_X, train_Y, epochs=25, validation_split=0.25)"
      ],
      "execution_count": 31,
      "outputs": [
        {
          "output_type": "stream",
          "text": [
            "Epoch 1/25\n",
            "1407/1407 [==============================] - 3s 2ms/step - loss: 0.5275 - accuracy: 0.8140 - val_loss: 0.4375 - val_accuracy: 0.8429\n",
            "Epoch 2/25\n",
            "1407/1407 [==============================] - 3s 2ms/step - loss: 0.3980 - accuracy: 0.8572 - val_loss: 0.3912 - val_accuracy: 0.8599\n",
            "Epoch 3/25\n",
            "1407/1407 [==============================] - 3s 2ms/step - loss: 0.3535 - accuracy: 0.8720 - val_loss: 0.3616 - val_accuracy: 0.8691\n",
            "Epoch 4/25\n",
            "1407/1407 [==============================] - 3s 2ms/step - loss: 0.3253 - accuracy: 0.8800 - val_loss: 0.3424 - val_accuracy: 0.8761\n",
            "Epoch 5/25\n",
            "1407/1407 [==============================] - 3s 2ms/step - loss: 0.3056 - accuracy: 0.8866 - val_loss: 0.3409 - val_accuracy: 0.8757\n",
            "Epoch 6/25\n",
            "1407/1407 [==============================] - 3s 2ms/step - loss: 0.2909 - accuracy: 0.8914 - val_loss: 0.3276 - val_accuracy: 0.8835\n",
            "Epoch 7/25\n",
            "1407/1407 [==============================] - 3s 2ms/step - loss: 0.2751 - accuracy: 0.8973 - val_loss: 0.3519 - val_accuracy: 0.8725\n",
            "Epoch 8/25\n",
            "1407/1407 [==============================] - 3s 2ms/step - loss: 0.2692 - accuracy: 0.9002 - val_loss: 0.3212 - val_accuracy: 0.8863\n",
            "Epoch 9/25\n",
            "1407/1407 [==============================] - 3s 2ms/step - loss: 0.2549 - accuracy: 0.9045 - val_loss: 0.3251 - val_accuracy: 0.8826\n",
            "Epoch 10/25\n",
            "1407/1407 [==============================] - 3s 2ms/step - loss: 0.2465 - accuracy: 0.9086 - val_loss: 0.3549 - val_accuracy: 0.8759\n",
            "Epoch 11/25\n",
            "1407/1407 [==============================] - 3s 2ms/step - loss: 0.2375 - accuracy: 0.9121 - val_loss: 0.3398 - val_accuracy: 0.8825\n",
            "Epoch 12/25\n",
            "1407/1407 [==============================] - 3s 2ms/step - loss: 0.2292 - accuracy: 0.9143 - val_loss: 0.3231 - val_accuracy: 0.8868\n",
            "Epoch 13/25\n",
            "1407/1407 [==============================] - 3s 2ms/step - loss: 0.2207 - accuracy: 0.9170 - val_loss: 0.3265 - val_accuracy: 0.8901\n",
            "Epoch 14/25\n",
            "1407/1407 [==============================] - 3s 2ms/step - loss: 0.2171 - accuracy: 0.9189 - val_loss: 0.3233 - val_accuracy: 0.8898\n",
            "Epoch 15/25\n",
            "1407/1407 [==============================] - 3s 2ms/step - loss: 0.2074 - accuracy: 0.9224 - val_loss: 0.3306 - val_accuracy: 0.8887\n",
            "Epoch 16/25\n",
            "1407/1407 [==============================] - 3s 2ms/step - loss: 0.2026 - accuracy: 0.9243 - val_loss: 0.3140 - val_accuracy: 0.8913\n",
            "Epoch 17/25\n",
            "1407/1407 [==============================] - 3s 2ms/step - loss: 0.1961 - accuracy: 0.9262 - val_loss: 0.3639 - val_accuracy: 0.8793\n",
            "Epoch 18/25\n",
            "1407/1407 [==============================] - 3s 2ms/step - loss: 0.1911 - accuracy: 0.9284 - val_loss: 0.3254 - val_accuracy: 0.8891\n",
            "Epoch 19/25\n",
            "1407/1407 [==============================] - 3s 2ms/step - loss: 0.1845 - accuracy: 0.9308 - val_loss: 0.3686 - val_accuracy: 0.8829\n",
            "Epoch 20/25\n",
            "1407/1407 [==============================] - 3s 2ms/step - loss: 0.1781 - accuracy: 0.9342 - val_loss: 0.3409 - val_accuracy: 0.8905\n",
            "Epoch 21/25\n",
            "1407/1407 [==============================] - 3s 2ms/step - loss: 0.1741 - accuracy: 0.9351 - val_loss: 0.3402 - val_accuracy: 0.8902\n",
            "Epoch 22/25\n",
            "1407/1407 [==============================] - 3s 2ms/step - loss: 0.1725 - accuracy: 0.9358 - val_loss: 0.3533 - val_accuracy: 0.8876\n",
            "Epoch 23/25\n",
            "1407/1407 [==============================] - 3s 2ms/step - loss: 0.1633 - accuracy: 0.9390 - val_loss: 0.3553 - val_accuracy: 0.8887\n",
            "Epoch 24/25\n",
            "1407/1407 [==============================] - 3s 2ms/step - loss: 0.1621 - accuracy: 0.9400 - val_loss: 0.3774 - val_accuracy: 0.8866\n",
            "Epoch 25/25\n",
            "1407/1407 [==============================] - 3s 2ms/step - loss: 0.1587 - accuracy: 0.9402 - val_loss: 0.3785 - val_accuracy: 0.8855\n"
          ],
          "name": "stdout"
        }
      ]
    },
    {
      "cell_type": "code",
      "metadata": {
        "colab": {
          "base_uri": "https://localhost:8080/",
          "height": 283
        },
        "id": "BZOBLlLQ9hLZ",
        "outputId": "2a1ee813-4af4-4f5b-82ce-f08a0d74faf9"
      },
      "source": [
        "# 5.24 Fashion MNIST 분류 모델 학습 결과 시각화\r\n",
        "import matplotlib.pyplot as plt\r\n",
        "plt.figure(figsize=(12, 4))\r\n",
        "\r\n",
        "plt.subplot(1, 2, 1)\r\n",
        "plt.plot(history.history['loss'], 'b-', label='loss')\r\n",
        "plt.plot(history.history['val_loss'], 'r--', label='val_loss')\r\n",
        "plt.xlabel('Epoch')\r\n",
        "plt.legend()\r\n",
        "\r\n",
        "plt.subplot(1, 2, 2)\r\n",
        "plt.plot(history.history['accuracy'], 'g-', label='accuracy')\r\n",
        "plt.plot(history.history['val_accuracy'], 'k--', label='val_accuracy')\r\n",
        "plt.xlabel('Epoch')\r\n",
        "plt.ylim(0.7, 1)\r\n",
        "plt.legend()\r\n",
        "\r\n",
        "plt.show()"
      ],
      "execution_count": 32,
      "outputs": [
        {
          "output_type": "display_data",
          "data": {
            "image/png": "[encoded data removed]",
            "text/plain": [
              "<Figure size 864x288 with 2 Axes>"
            ]
          },
          "metadata": {
            "tags": [],
            "needs_background": "light"
          }
        }
      ]
    },
    {
      "cell_type": "code",
      "metadata": {
        "colab": {
          "base_uri": "https://localhost:8080/"
        },
        "id": "BKj8yBt79mYK",
        "outputId": "6a87211c-558e-4858-c21d-05b7e1fad846"
      },
      "source": [
        "# 5.35 Fashion MNIST 분류 모델 평가\r\n",
        "model.evaluate(test_X, test_Y)"
      ],
      "execution_count": 33,
      "outputs": [
        {
          "output_type": "stream",
          "text": [
            "313/313 [==============================] - 0s 1ms/step - loss: 0.4122 - accuracy: 0.8786\n"
          ],
          "name": "stdout"
        },
        {
          "output_type": "execute_result",
          "data": {
            "text/plain": [
              "[0.41220611333847046, 0.878600001335144]"
            ]
          },
          "metadata": {
            "tags": []
          },
          "execution_count": 33
        }
      ]
    }
  ]
}
