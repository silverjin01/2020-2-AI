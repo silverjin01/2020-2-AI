{
  "nbformat": 4,
  "nbformat_minor": 0,
  "metadata": {
    "colab": {
      "name": "12W-cnn-basic.ipynb",
      "provenance": [],
      "authorship_tag": "ABX9TyOET7BZM8LYgSh8QzR6QY6S",
      "include_colab_link": true
    },
    "kernelspec": {
      "name": "python3",
      "display_name": "Python 3"
    }
  },
  "cells": [
    {
      "cell_type": "markdown",
      "metadata": {
        "id": "view-in-github",
        "colab_type": "text"
      },
      "source": [
        "<a href=\"https://colab.research.google.com/github/silverjin01/2020-2-AI/blob/master/code/12W_cnn_basic.ipynb\" target=\"_parent\"><img src=\"https://colab.research.google.com/assets/colab-badge.svg\" alt=\"Open In Colab\"/></a>"
      ]
    },
    {
      "cell_type": "code",
      "metadata": {
        "id": "fVVHHX1c8a8R"
      },
      "source": [
        "# %matplotlib inline\r\n",
        "import numpy as np\r\n",
        "import tensorflow as tf\r\n",
        "import matplotlib.pyplot as plt"
      ],
      "execution_count": 20,
      "outputs": []
    },
    {
      "cell_type": "code",
      "metadata": {
        "colab": {
          "base_uri": "https://localhost:8080/"
        },
        "id": "7QmrWuD48fFQ",
        "outputId": "dd2735b1-b7bb-45c3-fb5d-ecda0512e767"
      },
      "source": [
        "image = np.array([[[1,2,3],\r\n",
        "                   [4,5,6], \r\n",
        "                   [7,8,9]]], dtype=np.float32)\r\n",
        "image.shape"
      ],
      "execution_count": 21,
      "outputs": [
        {
          "output_type": "execute_result",
          "data": {
            "text/plain": [
              "(1, 3, 3)"
            ]
          },
          "metadata": {
            "tags": []
          },
          "execution_count": 21
        }
      ]
    },
    {
      "cell_type": "code",
      "metadata": {
        "colab": {
          "base_uri": "https://localhost:8080/"
        },
        "id": "rSfReC5M8fgH",
        "outputId": "40e1fb19-6fd8-411c-b877-233d88b06def"
      },
      "source": [
        "image = image.reshape(-1, 3, 3, 1)\r\n",
        "'''\r\n",
        "image = np.array([[[[1],[2],[3]],\r\n",
        "                   [[4],[5],[6]], \r\n",
        "                   [[7],[8],[9]]]], dtype=np.float32)\r\n",
        "'''\r\n",
        "image.shape"
      ],
      "execution_count": 22,
      "outputs": [
        {
          "output_type": "execute_result",
          "data": {
            "text/plain": [
              "(1, 3, 3, 1)"
            ]
          },
          "metadata": {
            "tags": []
          },
          "execution_count": 22
        }
      ]
    },
    {
      "cell_type": "code",
      "metadata": {
        "colab": {
          "base_uri": "https://localhost:8080/",
          "height": 473
        },
        "id": "Bc02h9yQ8jFy",
        "outputId": "5fd8936f-6de9-4a7a-9c71-7072b64c95b7"
      },
      "source": [
        "print(image)\r\n",
        "plt.imshow(image.reshape(3,3), cmap='Greys')"
      ],
      "execution_count": 23,
      "outputs": [
        {
          "output_type": "stream",
          "text": [
            "[[[[1.]\n",
            "   [2.]\n",
            "   [3.]]\n",
            "\n",
            "  [[4.]\n",
            "   [5.]\n",
            "   [6.]]\n",
            "\n",
            "  [[7.]\n",
            "   [8.]\n",
            "   [9.]]]]\n"
          ],
          "name": "stdout"
        },
        {
          "output_type": "execute_result",
          "data": {
            "text/plain": [
              "<matplotlib.image.AxesImage at 0x7fe839558668>"
            ]
          },
          "metadata": {
            "tags": []
          },
          "execution_count": 23
        },
        {
          "output_type": "display_data",
          "data": {
            "image/png": "[encoded data removed]",
            "text/plain": [
              "<Figure size 432x288 with 1 Axes>"
            ]
          },
          "metadata": {
            "tags": [],
            "needs_background": "light"
          }
        }
      ]
    },
    {
      "cell_type": "code",
      "metadata": {
        "colab": {
          "base_uri": "https://localhost:8080/",
          "height": 303
        },
        "id": "6aG4Kq9C8kiR",
        "outputId": "9360a34e-156b-45fe-a255-48a4aa7fdfbc"
      },
      "source": [
        "image = np.array([[[[1],[2],[3]],\r\n",
        "                   [[4],[5],[6]], \r\n",
        "                   [[7],[8],[9]]]], dtype=np.float32)\r\n",
        "print(image.shape)\r\n",
        "plt.imshow(image.reshape(3,3), cmap='Greys')"
      ],
      "execution_count": 24,
      "outputs": [
        {
          "output_type": "stream",
          "text": [
            "(1, 3, 3, 1)\n"
          ],
          "name": "stdout"
        },
        {
          "output_type": "execute_result",
          "data": {
            "text/plain": [
              "<matplotlib.image.AxesImage at 0x7fe839025c50>"
            ]
          },
          "metadata": {
            "tags": []
          },
          "execution_count": 24
        },
        {
          "output_type": "display_data",
          "data": {
            "image/png": "[encoded data removed]",
            "text/plain": [
              "<Figure size 432x288 with 1 Axes>"
            ]
          },
          "metadata": {
            "tags": [],
            "needs_background": "light"
          }
        }
      ]
    },
    {
      "cell_type": "code",
      "metadata": {
        "colab": {
          "base_uri": "https://localhost:8080/"
        },
        "id": "LLbbOAr_8mm7",
        "outputId": "b396ea37-1164-431e-a979-7b729a323f2b"
      },
      "source": [
        "print(image)"
      ],
      "execution_count": 25,
      "outputs": [
        {
          "output_type": "stream",
          "text": [
            "[[[[1.]\n",
            "   [2.]\n",
            "   [3.]]\n",
            "\n",
            "  [[4.]\n",
            "   [5.]\n",
            "   [6.]]\n",
            "\n",
            "  [[7.]\n",
            "   [8.]\n",
            "   [9.]]]]\n"
          ],
          "name": "stdout"
        }
      ]
    },
    {
      "cell_type": "code",
      "metadata": {
        "colab": {
          "base_uri": "https://localhost:8080/"
        },
        "id": "6xfLMVqH8o5M",
        "outputId": "31c4e8a2-6f61-4658-eb80-c0491351808b"
      },
      "source": [
        "image = np.array([[[[1],[2],[3]],\r\n",
        "                   [[4],[5],[6]], \r\n",
        "                   [[7],[8],[9]]]], dtype=np.float32)\r\n",
        "print(\"image.shape\", image.shape)\r\n",
        "\r\n",
        "# wight가 커널\r\n",
        "weight = tf.constant([[[[1.]],[[1.]]],\r\n",
        "                      [[[1.]],[[1.]]]])\r\n",
        "print(\"weight.shape\", weight.shape)\r\n",
        "\r\n",
        "conv2d = tf.nn.conv2d(image, weight, strides=[1, 1, 1, 1], padding='VALID')\r\n",
        "print(\"conv2d.shape\", conv2d.shape)\r\n",
        "\r\n",
        "conv2d_img = np.swapaxes(conv2d, 0, 3)\r\n",
        "print(\"conv2d_img.shape\", conv2d_img.shape)\r\n",
        "print(type(conv2d_img))\r\n",
        "print(conv2d_img)"
      ],
      "execution_count": 27,
      "outputs": [
        {
          "output_type": "stream",
          "text": [
            "image.shape (1, 3, 3, 1)\n",
            "weight.shape (2, 2, 1, 1)\n",
            "conv2d.shape (1, 2, 2, 1)\n",
            "conv2d_img.shape (1, 2, 2, 1)\n",
            "<class 'numpy.ndarray'>\n",
            "[[[[12.]\n",
            "   [16.]]\n",
            "\n",
            "  [[24.]\n",
            "   [28.]]]]\n"
          ],
          "name": "stdout"
        }
      ]
    },
    {
      "cell_type": "code",
      "metadata": {
        "colab": {
          "base_uri": "https://localhost:8080/",
          "height": 303
        },
        "id": "OjJMqp4F8qZd",
        "outputId": "cda1b4b2-4903-4c45-bc3c-0dcba80a82b8"
      },
      "source": [
        "for i, one_img in enumerate(conv2d_img):\r\n",
        "    print(one_img.reshape(2,2))\r\n",
        "    plt.subplot(1, 1, i+1)\r\n",
        "    plt.imshow(one_img.reshape(2,2), cmap='gray')"
      ],
      "execution_count": 28,
      "outputs": [
        {
          "output_type": "stream",
          "text": [
            "[[12. 16.]\n",
            " [24. 28.]]\n"
          ],
          "name": "stdout"
        },
        {
          "output_type": "display_data",
          "data": {
            "image/png": "[encoded data removed]",
            "text/plain": [
              "<Figure size 432x288 with 1 Axes>"
            ]
          },
          "metadata": {
            "tags": [],
            "needs_background": "light"
          }
        }
      ]
    },
    {
      "cell_type": "code",
      "metadata": {
        "colab": {
          "base_uri": "https://localhost:8080/"
        },
        "id": "TB_NsS1b9_ac",
        "outputId": "5348ea60-fa5e-4785-f6d1-3d2fa2673802"
      },
      "source": [
        "x_in = np.array([[\r\n",
        "  [[2], [1], [2], [0], [1]],\r\n",
        "  [[1], [3], [2], [2], [3]],\r\n",
        "  [[1], [1], [3], [3], [0]],\r\n",
        "  [[2], [2], [0], [1], [1]],\r\n",
        "  [[0], [0], [3], [1], [2]], ]])\r\n",
        "x = tf.constant(x_in, dtype=tf.float32)\r\n",
        "print(x.shape)\r\n",
        "\r\n",
        "# 2 x 2 커널 2개 적용\r\n",
        "kernel_in = np.array([\r\n",
        " [ [[2, 0.1]],[[3, 0.2]] ],\r\n",
        " [ [[0, 0.3]],[[1, 0.4]] ], ])\r\n",
        "kernel = tf.constant(kernel_in, dtype=tf.float32)\r\n",
        "print(kernel)"
      ],
      "execution_count": 29,
      "outputs": [
        {
          "output_type": "stream",
          "text": [
            "(1, 5, 5, 1)\n",
            "tf.Tensor(\n",
            "[[[[2.  0.1]]\n",
            "\n",
            "  [[3.  0.2]]]\n",
            "\n",
            "\n",
            " [[[0.  0.3]]\n",
            "\n",
            "  [[1.  0.4]]]], shape=(2, 2, 1, 2), dtype=float32)\n"
          ],
          "name": "stdout"
        }
      ]
    },
    {
      "cell_type": "code",
      "metadata": {
        "colab": {
          "base_uri": "https://localhost:8080/"
        },
        "id": "CKuIBQzy-B_S",
        "outputId": "83c68667-25cb-4fb1-e8c2-7d736e72c7a2"
      },
      "source": [
        "conv2d = tf.nn.conv2d(x, kernel, strides=[1, 1, 1, 1], padding='VALID')\r\n",
        "print(\"conv2d.shape\", conv2d.shape) #1, 4, 4, 2 = 채널, 가로, 세로, 특징 수\r\n",
        "print(conv2d)"
      ],
      "execution_count": 30,
      "outputs": [
        {
          "output_type": "stream",
          "text": [
            "conv2d.shape (1, 4, 4, 2)\n",
            "tf.Tensor(\n",
            "[[[[10.         1.9      ]\n",
            "   [10.         2.2      ]\n",
            "   [ 6.         1.6      ]\n",
            "   [ 6.         2.       ]]\n",
            "\n",
            "  [[12.         1.4      ]\n",
            "   [15.         2.2      ]\n",
            "   [13.         2.7      ]\n",
            "   [13.         1.7      ]]\n",
            "\n",
            "  [[ 7.         1.7      ]\n",
            "   [11.         1.3000001]\n",
            "   [16.         1.3      ]\n",
            "   [ 7.         1.       ]]\n",
            "\n",
            "  [[10.         0.6      ]\n",
            "   [ 7.         1.4000001]\n",
            "   [ 4.         1.5      ]\n",
            "   [ 7.         1.4      ]]]], shape=(1, 4, 4, 2), dtype=float32)\n"
          ],
          "name": "stdout"
        }
      ]
    },
    {
      "cell_type": "code",
      "metadata": {
        "colab": {
          "base_uri": "https://localhost:8080/"
        },
        "id": "B56hKaem-EQ8",
        "outputId": "7bd5c9e3-7326-45a9-c758-9c0f1aa30018"
      },
      "source": [
        "# (1, 4, 4, 2) = 채널, 가로, 세로, 특징 수\r\n",
        "# 채널과 특징을 교환하여 그림을 그리도록 하기 위해\r\n",
        "conv2d_img = np.swapaxes(conv2d, 0, 3)\r\n",
        "print(\"conv2d.shape\", conv2d_img.shape) #2, 4, 4, 1 = 특징 수, 가로, 세로, 채널\r\n",
        "print(conv2d_img)\r\n"
      ],
      "execution_count": 31,
      "outputs": [
        {
          "output_type": "stream",
          "text": [
            "conv2d.shape (2, 4, 4, 1)\n",
            "[[[[10.       ]\n",
            "   [10.       ]\n",
            "   [ 6.       ]\n",
            "   [ 6.       ]]\n",
            "\n",
            "  [[12.       ]\n",
            "   [15.       ]\n",
            "   [13.       ]\n",
            "   [13.       ]]\n",
            "\n",
            "  [[ 7.       ]\n",
            "   [11.       ]\n",
            "   [16.       ]\n",
            "   [ 7.       ]]\n",
            "\n",
            "  [[10.       ]\n",
            "   [ 7.       ]\n",
            "   [ 4.       ]\n",
            "   [ 7.       ]]]\n",
            "\n",
            "\n",
            " [[[ 1.9      ]\n",
            "   [ 2.2      ]\n",
            "   [ 1.6      ]\n",
            "   [ 2.       ]]\n",
            "\n",
            "  [[ 1.4      ]\n",
            "   [ 2.2      ]\n",
            "   [ 2.7      ]\n",
            "   [ 1.7      ]]\n",
            "\n",
            "  [[ 1.7      ]\n",
            "   [ 1.3000001]\n",
            "   [ 1.3      ]\n",
            "   [ 1.       ]]\n",
            "\n",
            "  [[ 0.6      ]\n",
            "   [ 1.4000001]\n",
            "   [ 1.5      ]\n",
            "   [ 1.4      ]]]]\n"
          ],
          "name": "stdout"
        }
      ]
    },
    {
      "cell_type": "code",
      "metadata": {
        "colab": {
          "base_uri": "https://localhost:8080/",
          "height": 336
        },
        "id": "Berm3ty2-GR9",
        "outputId": "bd9b2bf7-d767-4277-8d35-6f7df3a92907"
      },
      "source": [
        "for i, one_img in enumerate(conv2d_img):\r\n",
        "    print(one_img.reshape(4,4))\r\n",
        "    plt.subplot(1,2,i+1), plt.imshow(one_img.reshape(4,4), cmap='gray')"
      ],
      "execution_count": 32,
      "outputs": [
        {
          "output_type": "stream",
          "text": [
            "[[10. 10.  6.  6.]\n",
            " [12. 15. 13. 13.]\n",
            " [ 7. 11. 16.  7.]\n",
            " [10.  7.  4.  7.]]\n",
            "[[1.9       2.2       1.6       2.       ]\n",
            " [1.4       2.2       2.7       1.7      ]\n",
            " [1.7       1.3000001 1.3       1.       ]\n",
            " [0.6       1.4000001 1.5       1.4      ]]\n"
          ],
          "name": "stdout"
        },
        {
          "output_type": "display_data",
          "data": {
            "image/png": "[encoded data removed]",
            "text/plain": [
              "<Figure size 432x288 with 2 Axes>"
            ]
          },
          "metadata": {
            "tags": [],
            "needs_background": "light"
          }
        }
      ]
    },
    {
      "cell_type": "code",
      "metadata": {
        "colab": {
          "base_uri": "https://localhost:8080/",
          "height": 306
        },
        "id": "eOsSQHx4-IOe",
        "outputId": "9bddc256-3f1c-42ac-b635-88243209a789"
      },
      "source": [
        "image = np.array([[[[1],[2],[3]],\r\n",
        "                   [[4],[5],[6]], \r\n",
        "                   [[7],[8],[9]]]], dtype=np.float32)\r\n",
        "print(\"image.shape\", image.shape)\r\n",
        "\r\n",
        "weight = tf.constant([[[[1.]],[[1.]]],\r\n",
        "                      [[[1.]],[[1.]]]])\r\n",
        "print(\"weight.shape\", weight.shape)\r\n",
        "\r\n",
        "conv2d = tf.nn.conv2d(image, weight, strides=[1, 1, 1, 1], padding='SAME')\r\n",
        "print(\"conv2d.shape\", conv2d.shape)\r\n",
        "\r\n",
        "conv2d_img = np.swapaxes(conv2d, 0, 3)\r\n",
        "for i, one_img in enumerate(conv2d_img):\r\n",
        "    print(one_img.reshape(3,3))\r\n",
        "    plt.subplot(1,2,i+1), plt.imshow(one_img.reshape(3,3), cmap='gray')"
      ],
      "execution_count": 33,
      "outputs": [
        {
          "output_type": "stream",
          "text": [
            "image.shape (1, 3, 3, 1)\n",
            "weight.shape (2, 2, 1, 1)\n",
            "conv2d.shape (1, 3, 3, 1)\n",
            "[[12. 16.  9.]\n",
            " [24. 28. 15.]\n",
            " [15. 17.  9.]]\n"
          ],
          "name": "stdout"
        },
        {
          "output_type": "display_data",
          "data": {
            "image/png": "[encoded data removed]",
            "text/plain": [
              "<Figure size 432x288 with 1 Axes>"
            ]
          },
          "metadata": {
            "tags": [],
            "needs_background": "light"
          }
        }
      ]
    },
    {
      "cell_type": "code",
      "metadata": {
        "colab": {
          "base_uri": "https://localhost:8080/",
          "height": 350
        },
        "id": "4L3iF4aA-LKY",
        "outputId": "7e42f773-d38f-4766-d576-29467f1e4bcc"
      },
      "source": [
        "image = np.array([[[[1],[2],[3]],\r\n",
        "                   [[4],[5],[6]], \r\n",
        "                   [[7],[8],[9]]]], dtype=np.float32)\r\n",
        "# print(\"imag:\\n\", image)\r\n",
        "print(\"image.shape\", image.shape)\r\n",
        "\r\n",
        "weight = tf.constant([[[[1.,10.,-1.]],[[1.,10.,-1.]]],\r\n",
        "                      [[[1.,10.,-1.]],[[1.,10.,-1.]]]])\r\n",
        "print(\"weight.shape\", weight.shape)\r\n",
        "\r\n",
        "conv2d = tf.nn.conv2d(image, weight, strides=[1, 1, 1, 1], padding='SAME')\r\n",
        "print(\"conv2d.shape\", conv2d.shape)\r\n",
        "\r\n",
        "conv2d_img = np.swapaxes(conv2d, 0, 3)\r\n",
        "for i, one_img in enumerate(conv2d_img):\r\n",
        "    print(one_img.reshape(3,3))\r\n",
        "    plt.subplot(1,3,i+1), plt.imshow(one_img.reshape(3,3), cmap='gray')"
      ],
      "execution_count": 14,
      "outputs": [
        {
          "output_type": "stream",
          "text": [
            "image.shape (1, 3, 3, 1)\n",
            "weight.shape (2, 2, 1, 3)\n",
            "conv2d.shape (1, 3, 3, 3)\n",
            "[[12. 16.  9.]\n",
            " [24. 28. 15.]\n",
            " [15. 17.  9.]]\n",
            "[[120. 160.  90.]\n",
            " [240. 280. 150.]\n",
            " [150. 170.  90.]]\n",
            "[[-12. -16.  -9.]\n",
            " [-24. -28. -15.]\n",
            " [-15. -17.  -9.]]\n"
          ],
          "name": "stdout"
        },
        {
          "output_type": "display_data",
          "data": {
            "image/png": "[encoded data removed]",
            "text/plain": [
              "<Figure size 432x288 with 3 Axes>"
            ]
          },
          "metadata": {
            "tags": [],
            "needs_background": "light"
          }
        }
      ]
    },
    {
      "cell_type": "code",
      "metadata": {
        "colab": {
          "base_uri": "https://localhost:8080/"
        },
        "id": "gZa1ktB5-NKY",
        "outputId": "6195acc5-f596-4aa1-afcf-d3f36ad343f9"
      },
      "source": [
        "image = np.array([[[[4],[3]],\r\n",
        "                    [[2],[1]]]], dtype=np.float32)\r\n",
        "print(image.shape)\r\n",
        "pool = tf.nn.max_pool(image, ksize=[1, 2, 2, 1],\r\n",
        "                    strides=[1, 1, 1, 1], padding='VALID')\r\n",
        "print(pool.shape)\r\n",
        "print(pool.numpy())"
      ],
      "execution_count": 34,
      "outputs": [
        {
          "output_type": "stream",
          "text": [
            "(1, 2, 2, 1)\n",
            "(1, 1, 1, 1)\n",
            "[[[[4.]]]]\n"
          ],
          "name": "stdout"
        }
      ]
    },
    {
      "cell_type": "code",
      "metadata": {
        "colab": {
          "base_uri": "https://localhost:8080/"
        },
        "id": "S9IFO0VL-PTq",
        "outputId": "13781bcc-f771-4cc0-98ff-9753ea8d9c58"
      },
      "source": [
        "image = np.array([[[[4],[3]],\r\n",
        "                    [[2],[1]]]], dtype=np.float32)\r\n",
        "pool = tf.nn.max_pool(image, ksize=[1, 2, 2, 1],\r\n",
        "                    strides=[1, 1, 1, 1], padding='SAME')\r\n",
        "print(pool.shape)\r\n",
        "print(pool.numpy())"
      ],
      "execution_count": 35,
      "outputs": [
        {
          "output_type": "stream",
          "text": [
            "(1, 2, 2, 1)\n",
            "[[[[4.]\n",
            "   [3.]]\n",
            "\n",
            "  [[2.]\n",
            "   [1.]]]]\n"
          ],
          "name": "stdout"
        }
      ]
    },
    {
      "cell_type": "code",
      "metadata": {
        "id": "yLNgOvx1-PRQ"
      },
      "source": [
        "import tensorflow as tf\r\n",
        "mnist = tf.keras.datasets.mnist\r\n",
        "\r\n",
        "mnist = mnist.load_data()"
      ],
      "execution_count": 36,
      "outputs": []
    },
    {
      "cell_type": "code",
      "metadata": {
        "colab": {
          "base_uri": "https://localhost:8080/",
          "height": 282
        },
        "id": "FZkL4Hsj-PML",
        "outputId": "2537ea8d-c402-4035-c7ec-8288fbc36e95"
      },
      "source": [
        "# mnist[0][0][0]: 학습 데이터, 이미지 중, 첫번째  \r\n",
        "img = mnist[0][0][0].reshape(28,28)\r\n",
        "plt.imshow(img, cmap='gray')\r\n",
        "print(img.shape)"
      ],
      "execution_count": 37,
      "outputs": [
        {
          "output_type": "stream",
          "text": [
            "(28, 28)\n"
          ],
          "name": "stdout"
        },
        {
          "output_type": "display_data",
          "data": {
            "image/png": "[encoded data removed]",
            "text/plain": [
              "<Figure size 432x288 with 1 Axes>"
            ]
          },
          "metadata": {
            "tags": [],
            "needs_background": "light"
          }
        }
      ]
    },
    {
      "cell_type": "code",
      "metadata": {
        "colab": {
          "base_uri": "https://localhost:8080/",
          "height": 125
        },
        "id": "RrNOFhpG-Tw0",
        "outputId": "a98dfd1d-bee8-41b0-8476-971febbe9f52"
      },
      "source": [
        "# 4차원으로 확장\r\n",
        "img = img.reshape(-1,28,28,1)\r\n",
        "# 3 x 3의 필터 5개 생성\r\n",
        "W1 = tf.Variable(tf.random.normal([3, 3, 1, 5], stddev=0.01))\r\n",
        "\r\n",
        "#conv2d = tf.nn.conv2d(img, W1, strides=[1, 2, 2, 1], padding='SAME')\r\n",
        "conv2d = tf.nn.conv2d(img, W1, strides=2, padding='SAME')\r\n",
        "print(conv2d.shape)\r\n",
        "\r\n",
        "conv2d_img = np.swapaxes(conv2d, 0, 3)\r\n",
        "for i, one_img in enumerate(conv2d_img):\r\n",
        "    plt.subplot(1,5,i+1)\r\n",
        "    plt.imshow(one_img.reshape(14,14), cmap='gray')"
      ],
      "execution_count": 38,
      "outputs": [
        {
          "output_type": "stream",
          "text": [
            "(1, 14, 14, 5)\n"
          ],
          "name": "stdout"
        },
        {
          "output_type": "display_data",
          "data": {
            "image/png": "[encoded data removed]",
            "text/plain": [
              "<Figure size 432x288 with 5 Axes>"
            ]
          },
          "metadata": {
            "tags": [],
            "needs_background": "light"
          }
        }
      ]
    },
    {
      "cell_type": "code",
      "metadata": {
        "colab": {
          "base_uri": "https://localhost:8080/",
          "height": 123
        },
        "id": "4y_luqVq-VjV",
        "outputId": "f0d4ca7d-3400-46c7-e5f7-ca41ff157704"
      },
      "source": [
        "pool = tf.nn.max_pool(conv2d, ksize=[1, 2, 2, 1], \r\n",
        "                      strides=[1, 2, 2, 1], padding='SAME')\r\n",
        "print(pool.shape)\r\n",
        "\r\n",
        "pool_img = np.swapaxes(pool, 0, 3)\r\n",
        "for i, one_img in enumerate(pool_img):\r\n",
        "    plt.subplot(1,5,i+1)\r\n",
        "    plt.imshow(one_img.reshape(7, 7), cmap='gray')"
      ],
      "execution_count": 39,
      "outputs": [
        {
          "output_type": "stream",
          "text": [
            "(1, 7, 7, 5)\n"
          ],
          "name": "stdout"
        },
        {
          "output_type": "display_data",
          "data": {
            "image/png": "[encoded data removed]",
            "text/plain": [
              "<Figure size 432x288 with 5 Axes>"
            ]
          },
          "metadata": {
            "tags": [],
            "needs_background": "light"
          }
        }
      ]
    }
  ]
}